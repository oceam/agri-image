{
  "nbformat": 4,
  "nbformat_minor": 0,
  "metadata": {
    "colab": {
      "name": "Googlecolab_fundamentals_2_JP.ipynb",
      "provenance": [],
      "collapsed_sections": [],
      "include_colab_link": true
    },
    "kernelspec": {
      "name": "python3",
      "display_name": "Python 3"
    },
    "language_info": {
      "name": "python"
    },
    "gpuClass": "standard",
    "accelerator": "GPU"
  },
  "cells": [
    {
      "cell_type": "markdown",
      "metadata": {
        "id": "view-in-github",
        "colab_type": "text"
      },
      "source": [
        "<a href=\"https://colab.research.google.com/github/oceam/agri-image/blob/main/codes/Googlecolab_fundamentals_2_JP.ipynb\" target=\"_parent\"><img src=\"https://colab.research.google.com/assets/colab-badge.svg\" alt=\"Open In Colab\"/></a>"
      ]
    },
    {
      "cell_type": "markdown",
      "source": [
        "# Googlecolab_fundamentals_2"
      ],
      "metadata": {
        "id": "UCW9TjRUhACA"
      }
    },
    {
      "cell_type": "markdown",
      "source": [
        "**Basic syntax**\n",
        "Run following cell first.   \n",
        "\n"
      ],
      "metadata": {
        "id": "_ikYcQCphNte"
      }
    },
    {
      "cell_type": "code",
      "source": [
        "x = pi\n",
        "print(x)"
      ],
      "metadata": {
        "id": "fWFU48dbBaNz",
        "colab": {
          "base_uri": "https://localhost:8080/",
          "height": 188
        },
        "outputId": "487b90fc-572a-4afd-ab5e-ba00da493e2f"
      },
      "execution_count": null,
      "outputs": [
        {
          "output_type": "error",
          "ename": "NameError",
          "evalue": "ignored",
          "traceback": [
            "\u001b[0;31m---------------------------------------------------------------------------\u001b[0m",
            "\u001b[0;31mNameError\u001b[0m                                 Traceback (most recent call last)",
            "\u001b[0;32m<ipython-input-1-72a5f6da844b>\u001b[0m in \u001b[0;36m<module>\u001b[0;34m\u001b[0m\n\u001b[0;32m----> 1\u001b[0;31m \u001b[0mx\u001b[0m \u001b[0;34m=\u001b[0m \u001b[0mpi\u001b[0m\u001b[0;34m\u001b[0m\u001b[0;34m\u001b[0m\u001b[0m\n\u001b[0m\u001b[1;32m      2\u001b[0m \u001b[0mprint\u001b[0m\u001b[0;34m(\u001b[0m\u001b[0mx\u001b[0m\u001b[0;34m)\u001b[0m\u001b[0;34m\u001b[0m\u001b[0;34m\u001b[0m\u001b[0m\n",
            "\u001b[0;31mNameError\u001b[0m: name 'pi' is not defined"
          ]
        }
      ]
    },
    {
      "cell_type": "markdown",
      "source": [
        "Why it happens?\n",
        "Because python will need to import **module** by yourself.  \n",
        "You can import whole module or just what you need (same as R).  \n",
        "Typically, importing just the whole module will get you what you need.  There are actually a few ways to import functionality from modules. One of the most common is to simply import the whole Python module. To do that, you just follow the import command with the name of the Python module you want to import. For example, this imports the entire math module, which has lots of functions and stuff for doing math:  \n",
        "なぜか$\\pi$が定義されていなかったようでした。その理由は、\n",
        "Pythonは自分で**モジュール**をインポートする必要があるからです。 \n",
        "モジュール全体をインポートすることもできますし、必要なものだけをインポートすることもできます（Rと同じです）。 \n",
        "一般的には、モジュール全体をインポートすれば、必要なものが手に入ります。 モジュールから機能をインポートするには、実はいくつかの方法があります。最も一般的なのは、単純にPythonモジュール全体をインポートする方法です。これを行うには、importコマンドに続けてインポートしたいPythonモジュールの名前を指定するだけです。例えば、これはmathモジュール全体をインポートしており、そこには数学を行うための関数やものがたくさんあります。"
      ],
      "metadata": {
        "id": "_2uw8cTfDrn6"
      }
    },
    {
      "cell_type": "code",
      "source": [
        "import math"
      ],
      "metadata": {
        "id": "P4hlBovzD8cC"
      },
      "execution_count": null,
      "outputs": []
    },
    {
      "cell_type": "markdown",
      "source": [
        "After you import a Python module, the ```dir()``` and ```help()``` functions work on that too. For example, if you tried doing dir(math) or help(math) before import math, you'd get an error. That’s because that math package isn’t part of the standard library. However, if you do import math first, and then ```help(math)```, then it all works.  \n",
        "Python モジュールをインポートした後、```dir()``` と ```help()``` 関数はそのモジュールに対しても機能します。例えば、```import math``` の前に ```dir(math)``` や ```help(math)``` を実行しようとすると、エラーが発生します。これは、その数学パッケージが標準ライブラリの一部でないためです。"
      ],
      "metadata": {
        "id": "u9fMsgLuD-u0"
      }
    },
    {
      "cell_type": "code",
      "source": [
        "dir(math)"
      ],
      "metadata": {
        "id": "fELwA8P5ECuO",
        "colab": {
          "base_uri": "https://localhost:8080/"
        },
        "outputId": "da25b77c-5be4-40d4-fb3a-4a89df39b69d"
      },
      "execution_count": null,
      "outputs": [
        {
          "output_type": "execute_result",
          "data": {
            "text/plain": [
              "['__doc__',\n",
              " '__loader__',\n",
              " '__name__',\n",
              " '__package__',\n",
              " '__spec__',\n",
              " 'acos',\n",
              " 'acosh',\n",
              " 'asin',\n",
              " 'asinh',\n",
              " 'atan',\n",
              " 'atan2',\n",
              " 'atanh',\n",
              " 'ceil',\n",
              " 'copysign',\n",
              " 'cos',\n",
              " 'cosh',\n",
              " 'degrees',\n",
              " 'e',\n",
              " 'erf',\n",
              " 'erfc',\n",
              " 'exp',\n",
              " 'expm1',\n",
              " 'fabs',\n",
              " 'factorial',\n",
              " 'floor',\n",
              " 'fmod',\n",
              " 'frexp',\n",
              " 'fsum',\n",
              " 'gamma',\n",
              " 'gcd',\n",
              " 'hypot',\n",
              " 'inf',\n",
              " 'isclose',\n",
              " 'isfinite',\n",
              " 'isinf',\n",
              " 'isnan',\n",
              " 'ldexp',\n",
              " 'lgamma',\n",
              " 'log',\n",
              " 'log10',\n",
              " 'log1p',\n",
              " 'log2',\n",
              " 'modf',\n",
              " 'nan',\n",
              " 'pi',\n",
              " 'pow',\n",
              " 'radians',\n",
              " 'remainder',\n",
              " 'sin',\n",
              " 'sinh',\n",
              " 'sqrt',\n",
              " 'tan',\n",
              " 'tanh',\n",
              " 'tau',\n",
              " 'trunc']"
            ]
          },
          "metadata": {},
          "execution_count": 3
        }
      ]
    },
    {
      "cell_type": "markdown",
      "source": [
        "Yes, pi is there! Now let's see:"
      ],
      "metadata": {
        "id": "Nk_EjW6PEft7"
      }
    },
    {
      "cell_type": "code",
      "source": [
        "x =pi\n",
        "print(x)"
      ],
      "metadata": {
        "id": "HSgvEa_K_kQf",
        "colab": {
          "base_uri": "https://localhost:8080/",
          "height": 188
        },
        "outputId": "a2c7638e-b61f-4dbc-8c6f-ec826308b47f"
      },
      "execution_count": null,
      "outputs": [
        {
          "output_type": "error",
          "ename": "NameError",
          "evalue": "ignored",
          "traceback": [
            "\u001b[0;31m---------------------------------------------------------------------------\u001b[0m",
            "\u001b[0;31mNameError\u001b[0m                                 Traceback (most recent call last)",
            "\u001b[0;32m<ipython-input-6-7093e7b0d2a3>\u001b[0m in \u001b[0;36m<module>\u001b[0;34m\u001b[0m\n\u001b[0;32m----> 1\u001b[0;31m \u001b[0mx\u001b[0m \u001b[0;34m=\u001b[0m\u001b[0mpi\u001b[0m\u001b[0;34m\u001b[0m\u001b[0;34m\u001b[0m\u001b[0m\n\u001b[0m\u001b[1;32m      2\u001b[0m \u001b[0mprint\u001b[0m\u001b[0;34m(\u001b[0m\u001b[0mx\u001b[0m\u001b[0;34m)\u001b[0m\u001b[0;34m\u001b[0m\u001b[0;34m\u001b[0m\u001b[0m\n",
            "\u001b[0;31mNameError\u001b[0m: name 'pi' is not defined"
          ]
        }
      ]
    },
    {
      "cell_type": "code",
      "source": [
        "y = sin(-5)\n",
        "print(y)"
      ],
      "metadata": {
        "colab": {
          "base_uri": "https://localhost:8080/"
        },
        "id": "dy6SXKQQz3f0",
        "outputId": "466a4850-9e45-444b-a927-569b63813ffd"
      },
      "execution_count": null,
      "outputs": [
        {
          "output_type": "stream",
          "name": "stdout",
          "text": [
            "0.9589242746631385\n"
          ]
        }
      ]
    },
    {
      "cell_type": "markdown",
      "source": [
        "$\\pi$ isn’t part of the standard library that’s always available to your Python code. To use it, you have to import the math module. There are 3 ways to do that:  \n",
        "1. To precede the part you want to use with the name of the module and a dot like `math.pi`.\n",
        "2. To import the module by associate the name of everything in the math module with that Python module a Python module like `from math import *`.\n",
        "3. To import just what you need (pi) using a syntax like `from math import pi\n",
        "`.    \n",
        "\n",
        "$pi$ は、Pythonコードで常に利用できる標準ライブラリの一部ではありません。それを使用するには、mathモジュールからインポートする必要があります。その方法は3つあります。 \n",
        "1. 使用したい部分の前にモジュール名と `math.pi` のようなドットを置く。\n",
        "2. 「from math import *`」のように、mathモジュール内のすべての名前をそのPythonモジュールに関連付けることでモジュールをインポートする方法。\n",
        "3. 必要なものだけをインポートするには、 `from math import pi` のような構文にします。"
      ],
      "metadata": {
        "id": "JLp-EGv4Fm0e"
      }
    },
    {
      "cell_type": "code",
      "source": [
        "x =math.pi\n",
        "print(x)"
      ],
      "metadata": {
        "id": "R3UA1RWRhLOi",
        "colab": {
          "base_uri": "https://localhost:8080/"
        },
        "outputId": "c18600fc-12af-4217-9961-2d9cefd9841f"
      },
      "execution_count": null,
      "outputs": [
        {
          "output_type": "stream",
          "name": "stdout",
          "text": [
            "3.141592653589793\n"
          ]
        }
      ]
    },
    {
      "cell_type": "code",
      "source": [
        "from math import *\n",
        "x =pi\n",
        "print(x)"
      ],
      "metadata": {
        "id": "n0xKEOqzHqbV",
        "colab": {
          "base_uri": "https://localhost:8080/"
        },
        "outputId": "f0a18854-3d21-4073-8ce1-d07a6ad875ca"
      },
      "execution_count": null,
      "outputs": [
        {
          "output_type": "stream",
          "name": "stdout",
          "text": [
            "3.141592653589793\n"
          ]
        }
      ]
    },
    {
      "cell_type": "code",
      "source": [
        "from math import pi\n",
        "x =pi\n",
        "print(x)"
      ],
      "metadata": {
        "id": "nVL5ZCgaCyBp",
        "colab": {
          "base_uri": "https://localhost:8080/"
        },
        "outputId": "7fa0be67-a014-4890-fda5-526816275d96"
      },
      "execution_count": null,
      "outputs": [
        {
          "output_type": "stream",
          "name": "stdout",
          "text": [
            "3.141592653589793\n"
          ]
        }
      ]
    },
    {
      "cell_type": "code",
      "source": [
        "y = sin(-5)\n",
        "print(y)"
      ],
      "metadata": {
        "id": "InwmP5EBIC5m",
        "colab": {
          "base_uri": "https://localhost:8080/"
        },
        "outputId": "99aa5895-697c-4904-e509-98e1a64c8036"
      },
      "execution_count": null,
      "outputs": [
        {
          "output_type": "stream",
          "name": "stdout",
          "text": [
            "0.9589242746631385\n"
          ]
        }
      ]
    },
    {
      "cell_type": "markdown",
      "source": [
        "Using format() method to change the positional argument  \n",
        "format() メソッドを使用して位置の引数を変更する"
      ],
      "metadata": {
        "id": "QF9zqi3Rz_3F"
      }
    },
    {
      "cell_type": "code",
      "source": [
        "print('{:.20f}'.format(x))\n",
        "print('{:.4f}'.format(x))"
      ],
      "metadata": {
        "id": "zmvGy9n0MCKG",
        "colab": {
          "base_uri": "https://localhost:8080/"
        },
        "outputId": "82f9ac69-bac6-42cf-fd56-24cb30b251f6"
      },
      "execution_count": null,
      "outputs": [
        {
          "output_type": "stream",
          "name": "stdout",
          "text": [
            "3.14159265358979311600\n",
            "3.1416\n"
          ]
        }
      ]
    },
    {
      "cell_type": "code",
      "source": [
        "x2='{:.10f}'.format(x)\n",
        "x2"
      ],
      "metadata": {
        "colab": {
          "base_uri": "https://localhost:8080/",
          "height": 35
        },
        "id": "Gz3C3hXV1KyG",
        "outputId": "5e9b8577-2e73-4699-c94a-3e0ae6357ee6"
      },
      "execution_count": null,
      "outputs": [
        {
          "output_type": "execute_result",
          "data": {
            "text/plain": [
              "'3.1415926536'"
            ],
            "application/vnd.google.colaboratory.intrinsic+json": {
              "type": "string"
            }
          },
          "metadata": {},
          "execution_count": 20
        }
      ]
    },
    {
      "cell_type": "markdown",
      "source": [
        "# **Array types**\n",
        "# **配列**"
      ],
      "metadata": {
        "id": "ALu1fIhRSECh"
      }
    },
    {
      "cell_type": "code",
      "source": [
        "import numpy as np\n",
        "a = 4\n",
        "print(\"a is:\",a,'\\n')\n",
        "a = np.array([3, 5], dtype=np.int64)\n",
        "print(\"a is:\\n\", a)\n",
        "print(\"shape of a is: {}\".format(a.shape))\n",
        "print(\"size of a is:{}\".format(a.size),'\\n')\n",
        "a = np.array(([1], [3]), dtype=np.int64)\n",
        "print(\"a is:\\n\", a)\n",
        "print(\"shape of a is: {}\".format(a.shape))\n",
        "print(\"size of a is:{}\".format(a.size),'\\n')\n",
        "a = np.array(([3,4,5], [6,7,8]), dtype=np.int64)\n",
        "print(\"a is:\\n\", a)\n",
        "print(\"shape of a is: {}\".format(a.shape))\n",
        "print(\"size of a is:{}\".format(a.size),'\\n')\n",
        "#[3 5]\n",
        "#[1;3]\n",
        "#[3 4 5; 6 7 8]"
      ],
      "metadata": {
        "id": "VjmTgHa1PAPr",
        "outputId": "a88a797f-d70d-463f-c6d9-4ea0b86ffab9",
        "colab": {
          "base_uri": "https://localhost:8080/"
        }
      },
      "execution_count": 2,
      "outputs": [
        {
          "output_type": "stream",
          "name": "stdout",
          "text": [
            "a is: 4 \n",
            "\n",
            "a is:\n",
            " [3 5]\n",
            "shape of a is: (2,)\n",
            "size of a is:2 \n",
            "\n",
            "a is:\n",
            " [[1]\n",
            " [3]]\n",
            "shape of a is: (2, 1)\n",
            "size of a is:2 \n",
            "\n",
            "a is:\n",
            " [[3 4 5]\n",
            " [6 7 8]]\n",
            "shape of a is: (2, 3)\n",
            "size of a is:6 \n",
            "\n"
          ]
        }
      ]
    },
    {
      "cell_type": "markdown",
      "source": [
        "**Evenly-spaced vectors**  \n",
        "Use np.linspace() when the exact values for the start and end points of your range are the important attributes in your application.  \n",
        "Use np.arange() when the step size between values is more important.  \n",
        "**等間隔のベクトル**  \n",
        "範囲の始点と終点の間の数を定義するならnp.linspace()  \n",
        "範囲の始点と終点の間ののステップサイズを定義するならnp.arange()\n"
      ],
      "metadata": {
        "id": "19bg2uYiT8UQ"
      }
    },
    {
      "cell_type": "code",
      "source": [
        "b= np.arange(1,5)\n",
        "print(\"use arrange:{}\".format(b),'\\n')\n",
        "b= np.arange(1,5,0.5)\n",
        "print(\"use arrange:{}\".format(b),'\\n')\n",
        "b= np.linspace(1, 10, num=5)\n",
        "print(\"use linspace:{}\".format(b),'\\n')\n",
        "b= np.random.rand(5)\n",
        "print(\"generate random number:{}\".format(b),'\\n')\n",
        "b= np.zeros((2))\n",
        "print(\"generate zero vector:{}\".format(b),'\\n')\n",
        "b= np.ones((2))\n",
        "print(\"generate one vector:{}\".format(b),'\\n')"
      ],
      "metadata": {
        "id": "rftYKrxMT-QI",
        "outputId": "c24115aa-b9af-4852-9c70-f43e0fffeef6",
        "colab": {
          "base_uri": "https://localhost:8080/"
        }
      },
      "execution_count": 10,
      "outputs": [
        {
          "output_type": "stream",
          "name": "stdout",
          "text": [
            "use arrange:[1 2 3 4] \n",
            "\n",
            "use arrange:[1.  1.5 2.  2.5 3.  3.5 4.  4.5] \n",
            "\n",
            "use linspace:[ 1.    3.25  5.5   7.75 10.  ] \n",
            "\n",
            "generate random number:[0.40159976 0.25032458 0.7283896  0.82415405 0.15440458] \n",
            "\n",
            "generate zero vector:[0. 0.] \n",
            "\n",
            "generate one vector:[1. 1.] \n",
            "\n"
          ]
        }
      ]
    },
    {
      "cell_type": "markdown",
      "source": [
        "**Creating matrices**  \n",
        "Create a square matrix with x rows and x columns.  \n",
        "**行列の作成**  \n",
        "x行x列の正方行列を作成します。\n"
      ],
      "metadata": {
        "id": "z39dGeJAVyYJ"
      }
    },
    {
      "cell_type": "code",
      "source": [
        "c= np.random.rand(2,2)\n",
        "print(\"generate random number matric:{}\".format(c),'\\n')\n",
        "c= np.zeros((3,3))\n",
        "print(\"generate zero matric:{}\".format(c),'\\n')\n",
        "c= np.ones((4,4))\n",
        "print(\"generate one matric:{}\".format(c),'\\n')\n"
      ],
      "metadata": {
        "id": "54jbaMM1Vv0T",
        "colab": {
          "base_uri": "https://localhost:8080/"
        },
        "outputId": "fb244df0-416c-4e9c-8273-9d714ef47b57"
      },
      "execution_count": 12,
      "outputs": [
        {
          "output_type": "stream",
          "name": "stdout",
          "text": [
            "generate random number matric:[[0.53796033 0.2777728 ]\n",
            " [0.46584775 0.42640695]] \n",
            "\n",
            "generate zero matric:[[0. 0. 0.]\n",
            " [0. 0. 0.]\n",
            " [0. 0. 0.]] \n",
            "\n",
            "generate one matric:[[1. 1. 1. 1.]\n",
            " [1. 1. 1. 1.]\n",
            " [1. 1. 1. 1.]\n",
            " [1. 1. 1. 1.]] \n",
            "\n"
          ]
        }
      ]
    },
    {
      "cell_type": "markdown",
      "source": [
        "**Indexing**  \n"
      ],
      "metadata": {
        "id": "CmQHvr2vb0U5"
      }
    },
    {
      "cell_type": "code",
      "source": [
        "A = np.array(([3,4],[5,6],[7,8]), dtype=np.int64)\n",
        "print(A,'\\n')"
      ],
      "metadata": {
        "id": "0loVkb8xb4Rf",
        "colab": {
          "base_uri": "https://localhost:8080/"
        },
        "outputId": "f0f76f78-d60b-47bb-f3a9-40c327b60071"
      },
      "execution_count": 13,
      "outputs": [
        {
          "output_type": "stream",
          "name": "stdout",
          "text": [
            "[[3 4]\n",
            " [5 6]\n",
            " [7 8]] \n",
            "\n"
          ]
        }
      ]
    },
    {
      "cell_type": "markdown",
      "source": [
        "Access the element in the second column of the last row.\n",
        "Please pay attention of the **index numbers** here.\n",
        "\n"
      ],
      "metadata": {
        "id": "fsO5xD_vcW5m"
      }
    },
    {
      "cell_type": "code",
      "source": [
        "print(A[2,1],'\\n')"
      ],
      "metadata": {
        "id": "pGSneP9icYjz",
        "colab": {
          "base_uri": "https://localhost:8080/"
        },
        "outputId": "72f61c8b-31c3-4f77-8f49-b524443f97c2"
      },
      "execution_count": 14,
      "outputs": [
        {
          "output_type": "stream",
          "name": "stdout",
          "text": [
            "8 \n",
            "\n"
          ]
        }
      ]
    },
    {
      "cell_type": "markdown",
      "source": [
        "Access the entire second row.\n"
      ],
      "metadata": {
        "id": "ms2TRT_XdiqH"
      }
    },
    {
      "cell_type": "code",
      "source": [
        "print(A[1,:],'\\n')"
      ],
      "metadata": {
        "id": "blZoNTf8djQC",
        "colab": {
          "base_uri": "https://localhost:8080/"
        },
        "outputId": "cceb1d57-2c84-447c-aeec-1cf799f2fb80"
      },
      "execution_count": 15,
      "outputs": [
        {
          "output_type": "stream",
          "name": "stdout",
          "text": [
            "[5 6] \n",
            "\n"
          ]
        }
      ]
    },
    {
      "cell_type": "markdown",
      "source": [
        "Access all columns of the first three rows.\n"
      ],
      "metadata": {
        "id": "WQd-MtxpfPR9"
      }
    },
    {
      "cell_type": "code",
      "source": [
        "print(A[0:3,:],'\\n')"
      ],
      "metadata": {
        "id": "b1H8mizBfQ58",
        "colab": {
          "base_uri": "https://localhost:8080/"
        },
        "outputId": "d92a71b0-b4f5-46bf-c612-3fc1dca5f70e"
      },
      "execution_count": 16,
      "outputs": [
        {
          "output_type": "stream",
          "name": "stdout",
          "text": [
            "[[3 4]\n",
            " [5 6]\n",
            " [7 8]] \n",
            "\n"
          ]
        }
      ]
    },
    {
      "cell_type": "markdown",
      "source": [
        "Change the value of the second element an array to 11."
      ],
      "metadata": {
        "id": "XFHjW3EbfeI-"
      }
    },
    {
      "cell_type": "code",
      "source": [
        "A[1,0]=11\n",
        "print(A,'\\n')"
      ],
      "metadata": {
        "id": "IgwcALhHfh9H",
        "colab": {
          "base_uri": "https://localhost:8080/"
        },
        "outputId": "570fe864-19b6-4a97-ec56-2f15829e5ce8"
      },
      "execution_count": 17,
      "outputs": [
        {
          "output_type": "stream",
          "name": "stdout",
          "text": [
            "[[ 3  4]\n",
            " [11  6]\n",
            " [ 7  8]] \n",
            "\n"
          ]
        }
      ]
    },
    {
      "cell_type": "markdown",
      "source": [
        "**Array operations**\n"
      ],
      "metadata": {
        "id": "yj7TawCwf41g"
      }
    },
    {
      "cell_type": "markdown",
      "source": [
        "Matrix operations follow the rules of linear algebra and are not compatible with multidimensional arrays. The required size and shape of the inputs in relation to one another depends on the operation. For nonscalar inputs, the matrix operators generally calculate different answers than their array operator counterparts.\n",
        "\n",
        "For example, if you use the matrix right division operator, /, to divide two matrices, the matrices must have the same number of columns. But if you use the matrix multiplication operator, *, to multiply two matrices, then the matrices must have a common inner dimension. That is, the number of columns in the first input must be equal to the number of rows in the second input. The matrix multiplication operator calculates the product of two matrices with the formula  \n",
        "$C(i,j) = \\sum\\limits_{k=1}^{n}A(i,k)B(k,j)$  \n",
        "<!-- $C(i,j) = \\sum^{n}_{k=1}A(i,k)B(k,j)$ -->"
      ],
      "metadata": {
        "id": "kZ90hMIniSOg"
      }
    },
    {
      "cell_type": "code",
      "source": [
        "a_1=np.array(([1,1],[1,1]), dtype=np.int64)\n",
        "b_1=np.array(([2,2],[2,2]), dtype=np.int64)"
      ],
      "metadata": {
        "id": "__y3ekKQf6oc"
      },
      "execution_count": null,
      "outputs": []
    },
    {
      "cell_type": "markdown",
      "source": [
        "Perform matrix multiplication.\n"
      ],
      "metadata": {
        "id": "0S-PRHfVgNCZ"
      }
    },
    {
      "cell_type": "code",
      "source": [
        "print(np.matmul(a_1,b_1))\n"
      ],
      "metadata": {
        "id": "axNm1JEAhbEB"
      },
      "execution_count": null,
      "outputs": []
    },
    {
      "cell_type": "markdown",
      "source": [
        "Perform element-wise multiplication.\n"
      ],
      "metadata": {
        "id": "oi2tWg1rhc8H"
      }
    },
    {
      "cell_type": "code",
      "source": [
        "print(np.multiply(a_1,b_1))\n"
      ],
      "metadata": {
        "id": "IdM9d5zlhbtc"
      },
      "execution_count": null,
      "outputs": []
    },
    {
      "cell_type": "markdown",
      "source": [
        "**Multiple outputs**\n"
      ],
      "metadata": {
        "id": "Iv4D50z7hbZT"
      }
    },
    {
      "cell_type": "markdown",
      "source": [
        "Save the number of rows and columns in A to two different variables.\n"
      ],
      "metadata": {
        "id": "xvtKEVPYoHja"
      }
    },
    {
      "cell_type": "code",
      "source": [
        "print(A,'\\n')\n",
        "Arow, Acol = A.shape\n",
        "print(Arow,Acol, '\\n')"
      ],
      "metadata": {
        "id": "36O_RJtLnQEY"
      },
      "execution_count": null,
      "outputs": []
    },
    {
      "cell_type": "markdown",
      "source": [
        "Calculate the maximum value of A and its corresponding index value.  \n",
        "note: start from version 1.22.0.  \n",
        "np.argmax will support numpy.argmax(a, axis=None, out=None, *, keepdims=<no value>)"
      ],
      "metadata": {
        "id": "BI6oGGj9oEnX"
      }
    },
    {
      "cell_type": "code",
      "source": [
        "print(A,'\\n')\n",
        "AMax_1 = np.max(A)\n",
        "print('AMax_1 is\\n',AMax_1, '\\n')\n",
        "idx_1 = np.argmax(A)\n",
        "print('idx_1 is\\n',idx_1, '\\n')\n",
        "\n",
        "AMax_2=np.max(A,axis=0, keepdims=True)\n",
        "print('AMax_2 is\\n', AMax_2, '\\n')\n",
        "idx_2 = np.argmax(A, axis=0)\n",
        "print('idx_2 is\\n',idx_2, '\\n')\n",
        "\n",
        "AMax_3=np.max(A,axis=1, keepdims=True)\n",
        "print('AMax_3 is\\n', AMax_3, '\\n')\n",
        "idx_3 = np.argmax(A, axis=1)\n",
        "print('idx_3 is\\n',idx_3, '\\n')\n"
      ],
      "metadata": {
        "id": "LVwKMJ5VoLej"
      },
      "execution_count": null,
      "outputs": []
    },
    {
      "cell_type": "markdown",
      "source": [
        "**Plotting**\n"
      ],
      "metadata": {
        "id": "gFZjQlestHIu"
      }
    },
    {
      "cell_type": "code",
      "source": [
        "# x = np.random.rand(5,1)\n",
        "# y = np.random.rand(5,1)\n",
        "# z = np.random.randi(5,1)\n",
        "# z = np.random.randint(1, 5, (5, 1))\n",
        "x = np.array(([1],[2],[2],[1],[1]))\n",
        "y = np.array(([1],[1],[2],[2],[1]))\n",
        "z = np.array(([5],[2],[5],[2],[5]))"
      ],
      "metadata": {
        "id": "FuQjxcxlo4n1"
      },
      "execution_count": null,
      "outputs": []
    },
    {
      "cell_type": "markdown",
      "source": [
        "Plot a red (r) dashed (--) line with a circle (o) marker, with a heavy line width."
      ],
      "metadata": {
        "id": "2Ssi_DiZtxza"
      }
    },
    {
      "cell_type": "code",
      "source": [
        "import matplotlib.pyplot as plt\n",
        "plt.plot(x, y, color=\"r\",ls=\"-\",marker=\"o\",linewidth=3)\n",
        "# Add the next line to existing plot.\n",
        "plt.plot(x, z, color=\"g\",ls=\"-\",marker=\"*\",linewidth=1)\n",
        "plt.show()"
      ],
      "metadata": {
        "id": "RcV9_9UZty7n"
      },
      "execution_count": null,
      "outputs": []
    },
    {
      "cell_type": "markdown",
      "source": [
        "Create a new axes for the next plotted line.\n"
      ],
      "metadata": {
        "id": "gOhEqrItyY9V"
      }
    },
    {
      "cell_type": "code",
      "source": [
        "plt.plot(x, z, color=\"g\",ls=\"-\",marker=\"o\",linewidth=3)\n",
        "#Add a label to a plot.\n",
        "plt.title(\"green plot of xz\")\n",
        "plt.show()\n"
      ],
      "metadata": {
        "id": "oSzrT52rwn0r"
      },
      "execution_count": null,
      "outputs": []
    },
    {
      "cell_type": "markdown",
      "source": [
        "\n",
        "**Using tables**"
      ],
      "metadata": {
        "id": "LCcdvtVB60sU"
      }
    },
    {
      "cell_type": "code",
      "source": [
        "import pandas as pd\n",
        "import numpy as np\n",
        "HeightYards = np.random.rand(5,1)\n",
        "data = pd.DataFrame(HeightYards)\n",
        "data.columns = [\"HeightYards\"]\n",
        "data"
      ],
      "metadata": {
        "id": "RKLT7IrH609n"
      },
      "execution_count": null,
      "outputs": []
    },
    {
      "cell_type": "markdown",
      "source": [
        "Extract the variable HeightYards from the table data."
      ],
      "metadata": {
        "id": "NKIHT7Hg9V-C"
      }
    },
    {
      "cell_type": "code",
      "source": [
        "data.HeightYards"
      ],
      "metadata": {
        "id": "BhZ33EML88Za"
      },
      "execution_count": null,
      "outputs": []
    },
    {
      "cell_type": "markdown",
      "source": [
        "Derive a table variable from existing data.\n"
      ],
      "metadata": {
        "id": "8yVkHuI09d8v"
      }
    },
    {
      "cell_type": "code",
      "source": [
        "data['HeightMeters'] = pd.DataFrame(data.HeightYards*0.9144)\n",
        "data"
      ],
      "metadata": {
        "id": "jK3dZJdH9ebd"
      },
      "execution_count": null,
      "outputs": []
    },
    {
      "cell_type": "markdown",
      "source": [
        "**Logicals**\n"
      ],
      "metadata": {
        "id": "E252P4mJ-NnX"
      }
    },
    {
      "cell_type": "markdown",
      "source": [
        "Compare a vector to the value 12."
      ],
      "metadata": {
        "id": "RAUyyQxL-iH7"
      }
    },
    {
      "cell_type": "code",
      "source": [
        "np.array(([5,10,15]))>12"
      ],
      "metadata": {
        "id": "Quvid0Y_7uWK"
      },
      "execution_count": null,
      "outputs": []
    },
    {
      "cell_type": "markdown",
      "source": [
        "Extract all elements in v1 that are greater than 6.\n"
      ],
      "metadata": {
        "id": "8i_QxSc1-k0s"
      }
    },
    {
      "cell_type": "code",
      "source": [
        "v1 = np.array(([5,10,15]))\n",
        "idx= np.where(v1 > 6)\n",
        "v1[idx]\n"
      ],
      "metadata": {
        "id": "gaFYrR-K-mFI"
      },
      "execution_count": null,
      "outputs": []
    },
    {
      "cell_type": "markdown",
      "source": [
        "Replace all values in x that are equal to 999 with the value 1."
      ],
      "metadata": {
        "id": "kIROtxAmC2A6"
      }
    },
    {
      "cell_type": "code",
      "source": [
        "x = np.array(([1,3,999,2]))\n",
        "print('Original x is\\n', x, '\\n')\n",
        "idx= np.where(x == 999)\n",
        "x[idx]=1\n",
        "print('Replaced x is\\n', x, '\\n')\n"
      ],
      "metadata": {
        "id": "7hmjG64VA88s"
      },
      "execution_count": null,
      "outputs": []
    },
    {
      "cell_type": "markdown",
      "source": [
        "**Programming**\n"
      ],
      "metadata": {
        "id": "hEUI_Z1oDbFb"
      }
    },
    {
      "cell_type": "code",
      "source": [
        "import pandas as pd\n",
        "import numpy as np\n",
        "x = np.random.rand(1)\n",
        "print(x)"
      ],
      "metadata": {
        "id": "7TTDSTG_DeYf"
      },
      "execution_count": null,
      "outputs": []
    },
    {
      "cell_type": "markdown",
      "source": [
        "If x is greater than 0.5, set the value of y to 3. Otherwise, set the value of y to 4."
      ],
      "metadata": {
        "id": "m9oQIZZJDp6A"
      }
    },
    {
      "cell_type": "code",
      "source": [
        " if x>0.5:\n",
        "    y=3\n",
        " else:\n",
        "    y=4\n",
        "    print(y)"
      ],
      "metadata": {
        "id": "3MtEZZYXDrAE"
      },
      "execution_count": null,
      "outputs": []
    },
    {
      "cell_type": "markdown",
      "source": [
        "The loop counter (c) progresses through the values 1:3 (1, 2, and 3). The loop body displays each value of c.\n"
      ],
      "metadata": {
        "id": "RVJih9EzEids"
      }
    },
    {
      "cell_type": "code",
      "source": [
        "for c in range(3):\n",
        "    print(c)"
      ],
      "metadata": {
        "id": "auGwATHBEjaj"
      },
      "execution_count": null,
      "outputs": []
    },
    {
      "cell_type": "code",
      "source": [
        "for c in range(1,4):\n",
        "    print(c)"
      ],
      "metadata": {
        "id": "UWuF3dNSE9dB"
      },
      "execution_count": null,
      "outputs": []
    }
  ]
}