{
  "nbformat": 4,
  "nbformat_minor": 0,
  "metadata": {
    "colab": {
      "provenance": [],
      "collapsed_sections": [
        "tayANPHY4W_l"
      ],
      "include_colab_link": true
    },
    "kernelspec": {
      "name": "python3",
      "display_name": "Python 3"
    },
    "language_info": {
      "name": "python"
    }
  },
  "cells": [
    {
      "cell_type": "markdown",
      "metadata": {
        "id": "view-in-github",
        "colab_type": "text"
      },
      "source": [
        "<a href=\"https://colab.research.google.com/github/oceam/agri-image/blob/main/codes/Googlecolab_fundamentals_5.ipynb\" target=\"_parent\"><img src=\"https://colab.research.google.com/assets/colab-badge.svg\" alt=\"Open In Colab\"/></a>"
      ]
    },
    {
      "cell_type": "markdown",
      "metadata": {
        "id": "dYbMyBfrbso_"
      },
      "source": [
        "# Googlecolab_fundamentals_5\n",
        "\n",
        "Extract plant(green) from Image\n",
        "\n",
        "Wei Guo  \n",
        "2022.08.26->2023.08.30\n"
      ]
    },
    {
      "cell_type": "markdown",
      "source": [
        "## Prepare the data"
      ],
      "metadata": {
        "id": "czNzxlY2TqHf"
      }
    },
    {
      "cell_type": "code",
      "source": [
        "import gdown\n",
        "# Download the data you pre-procssed\n",
        "#https://drive.google.com/file/d/1grhJZR1bjsyOwvHCa-2NQ8iwnOfQJyyA/view?usp=sharing\n",
        "url = \"https://drive.google.com/file/d/1tubZ1K5Ku-lv3kieo68PnxjmOSkFAwNn/view?usp=sharing\"\n",
        "output3= \"soybean_s_c.zip\"\n",
        "gdown.download(url=url, output=output3, quiet=False, fuzzy=True)"
      ],
      "metadata": {
        "id": "_828NFvVAomt"
      },
      "execution_count": null,
      "outputs": []
    },
    {
      "cell_type": "code",
      "source": [
        "# unzip image\n",
        "!unzip soybean_s_c.zip"
      ],
      "metadata": {
        "id": "Nooz5WkoA8FO"
      },
      "execution_count": null,
      "outputs": []
    },
    {
      "cell_type": "code",
      "source": [
        "from skimage import io\n",
        "import os\n",
        "imgname= os.path.join('content/soybean_s_c', 'C5_086_c.JPG')\n",
        "I=io.imread(imgname)\n",
        "io.imshow(I)"
      ],
      "metadata": {
        "id": "uPoeu6IUBUIM"
      },
      "execution_count": null,
      "outputs": []
    },
    {
      "cell_type": "markdown",
      "source": [
        "## Segmentation use color index values\n"
      ],
      "metadata": {
        "id": "2IR4HlaUUFXd"
      }
    },
    {
      "cell_type": "markdown",
      "metadata": {
        "id": "tayANPHY4W_l"
      },
      "source": [
        "In the paper of \"[Verification of color vegetation indices for automated crop imaging applications](https://doi.org/10.1016/j.compag.2008.03.009)\n",
        "\", Meyer proposed three index calculated from RGB values: `NDI`, `ExG`, and `ExR`\n",
        "\n",
        "![](https://www.dropbox.com/s/4dyiju0vg0bnmkz/colab_20210629173055.png?dl=1)\n",
        "\n",
        "By using three values, it strength the differences between leaves and backgrounds.\n",
        "\n",
        "Meanwhile, instead of manual given a value (e.g. 100 in previous cases, it used an automatic method: Otsu Threshold)\n",
        "\n",
        "<p><a href=\"https://commons.wikimedia.org/wiki/File:Otsu%27s_Method_Visualization.gif#/media/File:Otsu's_Method_Visualization.gif\"><img src=\"https://upload.wikimedia.org/wikipedia/commons/3/34/Otsu%27s_Method_Visualization.gif\" alt=\"Otsu's Method Visualization.gif\"></a></p>\n",
        "\n",
        "Let us recurrent this experiment:\n",
        "\n",
        "\n",
        "**Show the strength results like paper**\n"
      ]
    },
    {
      "cell_type": "code",
      "source": [
        "import numpy as np\n",
        "img = I.astype(np.float32)\n",
        "R = img[:, :, 0]\n",
        "G = img[:, :, 1]\n",
        "B = img[:, :, 2]\n",
        "ExG = 2 * G - R - B\n",
        "ExR = 1.4 * R - G"
      ],
      "metadata": {
        "id": "JYshxsuJBc0A"
      },
      "execution_count": null,
      "outputs": []
    },
    {
      "cell_type": "code",
      "source": [
        "from skimage.filters import threshold_otsu\n",
        "import matplotlib.pyplot as plt"
      ],
      "metadata": {
        "id": "72e47TkxIU_s"
      },
      "execution_count": null,
      "outputs": []
    },
    {
      "cell_type": "code",
      "metadata": {
        "id": "uUa7rtX58ek_"
      },
      "source": [
        "\n",
        "fig, ax = plt.subplots(1, 2, figsize=(9, 3), dpi=300)\n",
        "ax[0].set_title(\"ExG Tonal Image\")\n",
        "ax[0].imshow(ExG, cmap=\"gray\")\n",
        "\n",
        "ax[1].set_title(\"ExR Tonal Image\")\n",
        "ax[1].imshow(ExR, cmap=\"gray\")\n",
        "\n",
        "plt.show()"
      ],
      "execution_count": null,
      "outputs": []
    },
    {
      "cell_type": "code",
      "source": [
        "thresh = threshold_otsu(ExG)\n",
        "bin_img_1 = ExG>thresh\n",
        "bin_img=bin_img_1.astype(np.int)\n",
        "bin_img.shape\n",
        "plt.imshow(bin_img)\n",
        "plt.title(f\"ExG + Otsu\")"
      ],
      "metadata": {
        "id": "senVrvX7JDsb"
      },
      "execution_count": null,
      "outputs": []
    },
    {
      "cell_type": "code",
      "source": [
        "bin_img_1[1:5,1:5]"
      ],
      "metadata": {
        "id": "B28wZEQ77j_w"
      },
      "execution_count": null,
      "outputs": []
    },
    {
      "cell_type": "code",
      "source": [
        "bin_img[1:5,1:5]"
      ],
      "metadata": {
        "id": "NVy4A5FR791k"
      },
      "execution_count": null,
      "outputs": []
    },
    {
      "cell_type": "markdown",
      "source": [
        "fomular from paper"
      ],
      "metadata": {
        "id": "6fEq5NDsMG3l"
      }
    },
    {
      "cell_type": "code",
      "source": [
        "ex_GR1 = ExG - ExR\n",
        "thresh = 0\n",
        "bin_img_1 = ex_GR1>thresh\n",
        "bin_img=bin_img_1.astype(np.int)\n",
        "bin_img.shape\n",
        "plt.imshow(bin_img)\n",
        "plt.title(f\"ExG -ExR\")"
      ],
      "metadata": {
        "id": "WvNNG5zSLscN"
      },
      "execution_count": null,
      "outputs": []
    },
    {
      "cell_type": "code",
      "source": [
        "rgbimg = I.astype(np.int)\n",
        "rgbimg[:, :, 0] = rgbimg[:, :, 0]*bin_img\n",
        "rgbimg[:, :, 1] = rgbimg[:, :, 1]*bin_img\n",
        "rgbimg[:, :, 2] = rgbimg[:, :, 2]*bin_img\n",
        "plt.imshow(rgbimg)\n",
        "plt.title(f\"ROI\")"
      ],
      "metadata": {
        "id": "kYLiGDTiQZi2"
      },
      "execution_count": null,
      "outputs": []
    },
    {
      "cell_type": "markdown",
      "source": [
        "## Run whole folder"
      ],
      "metadata": {
        "id": "XUdK_1PnUJG3"
      }
    },
    {
      "cell_type": "code",
      "source": [
        "img_list = io.imread_collection(\"content/soybean_s_c/*.JPG\")\n",
        "img_list.files"
      ],
      "metadata": {
        "id": "tq5_T75AUNte"
      },
      "execution_count": null,
      "outputs": []
    },
    {
      "cell_type": "markdown",
      "source": [
        "Define save path"
      ],
      "metadata": {
        "id": "lAxYRhEoV1zA"
      }
    },
    {
      "cell_type": "code",
      "source": [
        "savepath = 'soybean_s_c_seg/'\n",
        "# Check whether the specified path exists or not\n",
        "isExist = os.path.exists(savepath)\n",
        "if not isExist:\n",
        "  # Create a new directory because it does not exist\n",
        "  os.makedirs(savepath)\n",
        "  print('Created path for save')"
      ],
      "metadata": {
        "id": "A3fEIjdCV4mi"
      },
      "execution_count": null,
      "outputs": []
    },
    {
      "cell_type": "code",
      "source": [
        "im_seg_list=[]\n",
        "for imgname in img_list.files:\n",
        "    I = io.imread(imgname)\n",
        "    img = I.astype(np.float32)\n",
        "    R = img[:, :, 0]\n",
        "    G = img[:, :, 1]\n",
        "    B = img[:, :, 2]\n",
        "    ExG = 2 * G - R - B\n",
        "    ExR = 1.4 * R - G\n",
        "    ex_GR1 = ExG - ExR\n",
        "    thresh = 0\n",
        "    bin_img_1 = ex_GR1>thresh\n",
        "    bin_img=bin_img_1.astype(np.uint8)\n",
        "    rgbimg = I.astype(np.uint8)\n",
        "    rgbimg[:, :, 0] = rgbimg[:, :, 0]*bin_img\n",
        "    rgbimg[:, :, 1] = rgbimg[:, :, 1]*bin_img\n",
        "    rgbimg[:, :, 2] = rgbimg[:, :, 2]*bin_img\n",
        "    im_seg_list.append(rgbimg)\n",
        "    c_imgname=savepath+imgname[20:-4]+'_seg.JPG'\n",
        "    io.imsave(c_imgname,rgbimg)"
      ],
      "metadata": {
        "id": "sTz2Sn6AVDIp"
      },
      "execution_count": null,
      "outputs": []
    },
    {
      "cell_type": "code",
      "source": [
        "fig = io.imshow_collection(im_seg_list);\n",
        "fig.set_figwidth(20)\n",
        "fig.set_figheight(10)"
      ],
      "metadata": {
        "id": "fyF21SmzWkGV"
      },
      "execution_count": null,
      "outputs": []
    },
    {
      "cell_type": "code",
      "source": [
        "!zip -r /content/soybean_s_c_seg.zip /content/soybean_s_c_seg"
      ],
      "metadata": {
        "id": "8Oflh25tWQKw"
      },
      "execution_count": null,
      "outputs": []
    },
    {
      "cell_type": "code",
      "source": [
        "from google.colab import drive\n",
        "drive.mount('/content/drive')"
      ],
      "metadata": {
        "id": "dzzojY0--dhc"
      },
      "execution_count": null,
      "outputs": []
    },
    {
      "cell_type": "code",
      "source": [
        "# copy to google drive to save\n",
        "import shutil\n",
        "shutil.copyfile('/content/soybean_s_c_seg.zip', '/content/drive/MyDrive/uktest/soybean_s_c_seg.zip')"
      ],
      "metadata": {
        "id": "Ug5Y3ZltW3T3"
      },
      "execution_count": null,
      "outputs": []
    }
  ]
}