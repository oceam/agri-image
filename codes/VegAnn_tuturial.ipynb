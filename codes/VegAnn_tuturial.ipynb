{
  "nbformat": 4,
  "nbformat_minor": 0,
  "metadata": {
    "colab": {
      "provenance": [],
      "authorship_tag": "ABX9TyPttxRIkkFOlYFxc6dpJdXK",
      "include_colab_link": true
    },
    "kernelspec": {
      "name": "python3",
      "display_name": "Python 3"
    },
    "language_info": {
      "name": "python"
    }
  },
  "cells": [
    {
      "cell_type": "markdown",
      "metadata": {
        "id": "view-in-github",
        "colab_type": "text"
      },
      "source": [
        "<a href=\"https://colab.research.google.com/github/oceam/agri-image/blob/main/codes/VegAnn_tuturial.ipynb\" target=\"_parent\"><img src=\"https://colab.research.google.com/assets/colab-badge.svg\" alt=\"Open In Colab\"/></a>"
      ]
    },
    {
      "cell_type": "markdown",
      "source": [
        "This is a tuturial code for the VggAnn (https://github.com/simonMadec/VegAnn) deep learning networks\n",
        "\n",
        "> **VegAnn**   \n",
        "> Vegetation Annotation of a large multi-crop RGB Dataset acquired under diverse conditions for image semantic segmentation"
      ],
      "metadata": {
        "id": "DUCad_TLdlUJ"
      }
    },
    {
      "cell_type": "code",
      "execution_count": null,
      "metadata": {
        "id": "PDff3gPbbs2l"
      },
      "outputs": [],
      "source": []
    }
  ]
}