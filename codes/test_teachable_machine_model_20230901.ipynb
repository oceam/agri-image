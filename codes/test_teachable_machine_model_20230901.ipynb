{
  "nbformat": 4,
  "nbformat_minor": 0,
  "metadata": {
    "colab": {
      "provenance": [],
      "authorship_tag": "ABX9TyONfT0u85tES3xbIXJXuPYF",
      "include_colab_link": true
    },
    "kernelspec": {
      "name": "python3",
      "display_name": "Python 3"
    },
    "language_info": {
      "name": "python"
    }
  },
  "cells": [
    {
      "cell_type": "markdown",
      "metadata": {
        "id": "view-in-github",
        "colab_type": "text"
      },
      "source": [
        "<a href=\"https://colab.research.google.com/github/oceam/fieldinformatics2023/blob/main/test_teachable_machine_model_20230607.ipynb\" target=\"_parent\"><img src=\"https://colab.research.google.com/assets/colab-badge.svg\" alt=\"Open In Colab\"/></a>"
      ]
    },
    {
      "cell_type": "markdown",
      "source": [
        "First, Please bring your model from Google Teachable Machine  \n",
        "the name of your model should like \"keras_model.h5\""
      ],
      "metadata": {
        "id": "pyOM993Ft1Tu"
      }
    },
    {
      "cell_type": "code",
      "source": [
        "from keras.models import load_model  # TensorFlow is required for Keras to work\n",
        "from PIL import Image, ImageOps  # Install pillow instead of PIL\n",
        "import numpy as np"
      ],
      "metadata": {
        "id": "PdYTVyb0nBk1"
      },
      "execution_count": 1,
      "outputs": []
    },
    {
      "cell_type": "code",
      "source": [
        "# Disable scientific notation for clarity\n",
        "np.set_printoptions(suppress=True)\n",
        "\n",
        "# Load the model\n",
        "model = load_model(\"keras_model.h5\", compile=False)\n",
        "\n",
        "# Load the labels\n",
        "class_names = open(\"labels.txt\", \"r\").readlines()\n"
      ],
      "metadata": {
        "id": "KUGCSaXRnFG0"
      },
      "execution_count": 3,
      "outputs": []
    },
    {
      "cell_type": "code",
      "source": [
        "# check class\n",
        "class_names"
      ],
      "metadata": {
        "colab": {
          "base_uri": "https://localhost:8080/"
        },
        "id": "tzy8m7IbP-se",
        "outputId": "f045fb61-670f-41f9-8c8f-2d16ba2f34e9"
      },
      "execution_count": 5,
      "outputs": [
        {
          "output_type": "execute_result",
          "data": {
            "text/plain": [
              "['0 hakidamegiku\\n',\n",
              " '1 hosoaogeitou\\n',\n",
              " '2 ichibi\\n',\n",
              " '3 inubie\\n',\n",
              " '4 kosendangusa\\n',\n",
              " '5 mameasagao\\n',\n",
              " '6 mehishiba\\n',\n",
              " '7 ohishiba\\n',\n",
              " '8 oinutade\\n',\n",
              " '9 shiroza\\n']"
            ]
          },
          "metadata": {},
          "execution_count": 5
        }
      ]
    },
    {
      "cell_type": "code",
      "source": [
        "# check your model\n",
        "model.summary()"
      ],
      "metadata": {
        "colab": {
          "base_uri": "https://localhost:8080/"
        },
        "id": "vFIcsEULnLr-",
        "outputId": "1e98d5f9-27f2-4774-d5a0-ee28bfaaaa5e"
      },
      "execution_count": 4,
      "outputs": [
        {
          "output_type": "stream",
          "name": "stdout",
          "text": [
            "Model: \"sequential_4\"\n",
            "_________________________________________________________________\n",
            " Layer (type)                Output Shape              Param #   \n",
            "=================================================================\n",
            " sequential_1 (Sequential)   (None, 1280)              410208    \n",
            "                                                                 \n",
            " sequential_3 (Sequential)   (None, 10)                129100    \n",
            "                                                                 \n",
            "=================================================================\n",
            "Total params: 539,308\n",
            "Trainable params: 525,228\n",
            "Non-trainable params: 14,080\n",
            "_________________________________________________________________\n"
          ]
        }
      ]
    },
    {
      "cell_type": "code",
      "source": [
        "# Create the array of the right shape to feed into the keras model\n",
        "# The 'length' or number of images you can put into the array is\n",
        "# determined by the first position in the shape tuple, in this case 1\n",
        "data = np.ndarray(shape=(1, 224, 224, 3), dtype=np.float32)\n",
        "\n",
        "# Replace this with the path to your image\n",
        "image = Image.open(\"/content/test/hakidamegiku_IMG_1546_3.jpg\").convert(\"RGB\")\n",
        "\n",
        "# resizing the image to be at least 224x224 and then cropping from the center\n",
        "size = (224, 224)\n",
        "image = ImageOps.fit(image, size, Image.ANTIALIAS)\n",
        "\n",
        "# turn the image into a numpy array\n",
        "image_array = np.asarray(image)\n",
        "\n",
        "# Normalize the image\n",
        "normalized_image_array = (image_array.astype(np.float32) / 127.5) - 1\n",
        "\n",
        "# Load the image into the array\n",
        "data[0] = normalized_image_array\n",
        "\n",
        "# Predicts the model\n",
        "prediction = model.predict(data)\n",
        "index = np.argmax(prediction)\n",
        "class_name = class_names[index]\n",
        "confidence_score = prediction[0][index]\n",
        "\n",
        "# Print prediction and confidence score\n",
        "print(\"Class:\", class_name[2:], end=\"\")\n",
        "print(\"Confidence Score:\", confidence_score)"
      ],
      "metadata": {
        "colab": {
          "base_uri": "https://localhost:8080/"
        },
        "id": "Wg2Pr3HaQULk",
        "outputId": "d242128c-0d30-4b85-f43f-818a7ecb425d"
      },
      "execution_count": 8,
      "outputs": [
        {
          "output_type": "stream",
          "name": "stdout",
          "text": [
            "1/1 [==============================] - 1s 1s/step\n",
            "Class: hakidamegiku\n",
            "Confidence Score: 1.0\n"
          ]
        }
      ]
    },
    {
      "cell_type": "markdown",
      "source": [
        "Creat a new folder, may be call it \"test\"  \n",
        "then upload the test images that you want to check."
      ],
      "metadata": {
        "id": "eAsnA-Pnuv4u"
      }
    },
    {
      "cell_type": "code",
      "source": [
        "import os\n",
        "# read and show multiple image \n",
        "imgfolder=r'test/'\n",
        "for image in os.listdir(imgfolder):\n",
        " print(image)"
      ],
      "metadata": {
        "colab": {
          "base_uri": "https://localhost:8080/"
        },
        "id": "nzd0_T_ypeBp",
        "outputId": "aa48e484-1924-4e10-f629-2540f5039735"
      },
      "execution_count": 9,
      "outputs": [
        {
          "output_type": "stream",
          "name": "stdout",
          "text": [
            "hosoaogeitou_IMG_1598_19(1).JPG\n",
            "hosoaogeitou_IMG_1598_18(1).JPG\n",
            "hakidamegiku_IMG_1546_3.jpg\n",
            "mehishiba_IMG_1726_7(1).JPG\n",
            "mehishiba_IMG_1726_7.jpg\n",
            "hosoaogeitou_IMG_1598_18.jpg\n",
            "hakidamegiku_IMG_1573_1.jpg\n",
            "hakidamegiku_IMG_1573_1(1).JPG\n",
            "mehishiba_IMG_1635_37.jpg\n"
          ]
        }
      ]
    },
    {
      "cell_type": "code",
      "source": [
        "from skimage import io\n",
        "img_list = io.imread_collection(\"test/*.jpg\")\n",
        "img_list.files"
      ],
      "metadata": {
        "colab": {
          "base_uri": "https://localhost:8080/"
        },
        "id": "E8b2_ZOorwN9",
        "outputId": "64c6d98d-ac86-4a7f-bb92-1e6c3515acb3"
      },
      "execution_count": 10,
      "outputs": [
        {
          "output_type": "execute_result",
          "data": {
            "text/plain": [
              "['test/hakidamegiku_IMG_1546_3.jpg',\n",
              " 'test/hakidamegiku_IMG_1573_1.jpg',\n",
              " 'test/hosoaogeitou_IMG_1598_18.jpg',\n",
              " 'test/mehishiba_IMG_1635_37.jpg',\n",
              " 'test/mehishiba_IMG_1726_7.jpg']"
            ]
          },
          "metadata": {},
          "execution_count": 10
        }
      ]
    },
    {
      "cell_type": "markdown",
      "source": [
        "Check if you model works good for test image."
      ],
      "metadata": {
        "id": "ozckOcQWurdz"
      }
    },
    {
      "cell_type": "code",
      "source": [
        "from keras.models import load_model\n",
        "from PIL import Image, ImageOps\n",
        "import numpy as np\n",
        "\n",
        "for img_name in img_list.files:\n",
        "  image = Image.open(img_name)\n",
        "  #resize the image to a 224x224 with the same strategy as in TM2:\n",
        "  #resizing the image to be at least 224x224 and then cropping from the center\n",
        "  size = (224, 224)\n",
        "  image = ImageOps.fit(image, size, Image.ANTIALIAS)\n",
        "  #turn the image into a numpy array\n",
        "  image_array = np.asarray(image)\n",
        "  # Normalize the image\n",
        "  normalized_image_array = (image_array.astype(np.float32) / 127.0) - 1\n",
        "  # Load the image into the array\n",
        "  data[0] = normalized_image_array\n",
        "  # run the inference\n",
        "  prediction = model.predict(data)\n",
        "  index = np.argmax(prediction)\n",
        "  class_name = class_names[index]\n",
        "  confidence_score = prediction[0][index]\n",
        "\n",
        "  # prediction = model.predict(data)\n",
        "  # judge_idx=np.argmax(prediction)\n",
        "  print('the class_name is :', class_name)\n",
        "  print('the confidence_score is :', confidence_score)"
      ],
      "metadata": {
        "colab": {
          "base_uri": "https://localhost:8080/"
        },
        "id": "T0c3GfczqIzg",
        "outputId": "0b56dcc2-5b22-4048-d6d3-5e0cc2ca5dd0"
      },
      "execution_count": 12,
      "outputs": [
        {
          "output_type": "stream",
          "name": "stdout",
          "text": [
            "1/1 [==============================] - 0s 51ms/step\n",
            "the class_name is : 0 hakidamegiku\n",
            "\n",
            "the confidence_score is : 0.99956053\n",
            "1/1 [==============================] - 0s 47ms/step\n",
            "the class_name is : 0 hakidamegiku\n",
            "\n",
            "the confidence_score is : 0.9957826\n",
            "1/1 [==============================] - 0s 41ms/step\n",
            "the class_name is : 1 hosoaogeitou\n",
            "\n",
            "the confidence_score is : 0.99999917\n",
            "1/1 [==============================] - 0s 42ms/step\n",
            "the class_name is : 6 mehishiba\n",
            "\n",
            "the confidence_score is : 0.9999976\n",
            "1/1 [==============================] - 0s 53ms/step\n",
            "the class_name is : 6 mehishiba\n",
            "\n",
            "the confidence_score is : 0.9754308\n"
          ]
        }
      ]
    }
  ]
}