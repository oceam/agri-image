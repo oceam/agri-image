{
  "nbformat": 4,
  "nbformat_minor": 0,
  "metadata": {
    "colab": {
      "name": "Googlecolab_fundamentals_1_jp.ipynb",
      "provenance": [],
      "collapsed_sections": [],
      "include_colab_link": true
    },
    "kernelspec": {
      "name": "python3",
      "display_name": "Python 3"
    },
    "language_info": {
      "name": "python"
    },
    "gpuClass": "standard"
  },
  "cells": [
    {
      "cell_type": "markdown",
      "metadata": {
        "id": "view-in-github",
        "colab_type": "text"
      },
      "source": [
        "<a href=\"https://colab.research.google.com/github/oceam/agri-image/blob/main/codes/Googlecolab_fundamentals_1_jp.ipynb\" target=\"_parent\"><img src=\"https://colab.research.google.com/assets/colab-badge.svg\" alt=\"Open In Colab\"/></a>"
      ]
    },
    {
      "cell_type": "markdown",
      "source": [
        "# Googlecolab_fundamentals_1\n",
        "# Googlecolab の基本  \n",
        "Wei Guo  \n",
        "2022.08.22\n",
        "\n",
        "## おすすめ教科書 [Pythonプログラミング入門](https://utokyo-ipp.github.io/)"
      ],
      "metadata": {
        "id": "UCW9TjRUhACA"
      }
    },
    {
      "cell_type": "markdown",
      "source": [
        "Google Colaboratory（グーグル・コラボレイトリーもしくはコラボラトリー）とは、Googleが機械学習の教育及び研究用に提供しているインストール不要かつ、すぐにPythonや機械学習・深層学習の環境を整えることが出来る無料のサービスです。Colab（コラボ）とも呼ばれます。無料で利用する事が出来ますが、Googleアカウントが必要になります。またCPU及びGPU(1回12時間)の環境が利用可能です。([引用先](https://aiacademy.jp/media/?p=1037))　　\n",
        "# まずはこちらをみてみましょう　　\n",
        "# [Colab へようこそ](https://colab.research.google.com/?hl=ja)  \n",
        "\n",
        "![colabJP](https://www.dropbox.com/s/mplk1hr0t7p1px9/about-colab.png?dl=1)\n"
      ],
      "metadata": {
        "id": "awH_ULLpMmHT"
      }
    },
    {
      "cell_type": "markdown",
      "source": [
        "You will see rich text and executable code in same document, along with image, HTML, LaTeX and more.\n",
        "Text can be added to Jupyter Notebooks using Markdown **cells**(this is it).  \n",
        "Code can be added to **code cell** like below.\n",
        "Once the toolbar button indicates CONNECTED, click in the cell to select it and execute the contents in the following ways:\n",
        "\n",
        "* Click the **Play icon** in the left gutter of the cell;\n",
        "* Type **Cmd/Ctrl+Enter** to run the cell in place;\n",
        "* Type **Shift+Enter** to run the cell and move focus to the next cell (adding one if none exists); or\n",
        "* Type **Alt+Enter** to run the cell and insert a new code cell immediately below it.\n",
        "\n",
        "There are additional options for running some or all cells in the **Runtime** menu.\n",
        "\n",
        "リッチテキストと実行コードを同じドキュメントで見ることができ、画像、HTML、LaTeXなどとともに見ることができます。\n",
        "テキストはMarkdownの**cells**(これ)を使ってJupyter Notebooksに追加することができます。 \n",
        "コードは以下のような**code cell**に追加できます。\n",
        "ツールバーのボタンがCONNECTEDと表示されたら、セルをクリックして選択し、以下の方法で内容を実行します。\n",
        "\n",
        "* セルの左側の溝にある**Play icon**をクリックします。\n",
        "* **Cmd/Ctrl+Enter** と入力すると、その場でセルが実行されます。\n",
        "* セルを実行し、次のセルにフォーカスを移すには、**Shift+Enter** と入力します(存在しない場合は追加します); または\n",
        "* セルを実行し、そのすぐ下に新しいコードセルを挿入するには、**Alt+Enter** と入力します。\n",
        "\n",
        "**Runtime**メニューには、一部またはすべてのセルを実行するための追加オプションがあります。  \n",
        "これから試してみましょう："
      ],
      "metadata": {
        "id": "_ikYcQCphNte"
      }
    },
    {
      "cell_type": "code",
      "source": [
        "print(\"Hello world\")"
      ],
      "metadata": {
        "id": "R3UA1RWRhLOi",
        "colab": {
          "base_uri": "https://localhost:8080/"
        },
        "outputId": "701befbc-6652-4833-df9a-cf0be5019f4c"
      },
      "execution_count": null,
      "outputs": [
        {
          "output_type": "stream",
          "name": "stdout",
          "text": [
            "Hello world\n"
          ]
        }
      ]
    },
    {
      "cell_type": "markdown",
      "source": [
        "Check the working directiory and list files or directories\n",
        "Like the other desktop environment you can also access most of the bash command with a exclamation mark (!) added in the front of the command.  \n",
        "作業ディレクトリの確認とファイルやディレクトリの一覧表示\n",
        "他のデスクトップ環境と同様に、コマンドの前に感嘆符(!)を付けて、bashのほとんどのコマンドにアクセスすることもできます。"
      ],
      "metadata": {
        "id": "0QK8AkSihMWN"
      }
    },
    {
      "cell_type": "code",
      "source": [
        "!pwd\n",
        "!ls -l"
      ],
      "metadata": {
        "id": "mdO5oojyh4-A"
      },
      "execution_count": null,
      "outputs": []
    },
    {
      "cell_type": "markdown",
      "source": [
        "The entire colab runs in a cloud VM. Let's investigate the VM. You will see that the current colab notebook is running on top of `Ubuntu 18.04.6 LTS` (at the time of this writing.)  \n",
        "colab全体はクラウドのバーチャルマシン（VM）で動いています。現在のcolab notebookは`Ubuntu 18.04.6 LTS`の上で動いていることがわかります（この記事を書いている時点）"
      ],
      "metadata": {
        "id": "mhtfe3rFs0WI"
      }
    },
    {
      "cell_type": "code",
      "source": [
        "!cat /etc/*release "
      ],
      "metadata": {
        "id": "4JMeNFnvtA9y",
        "colab": {
          "base_uri": "https://localhost:8080/"
        },
        "outputId": "4a020891-de1b-47cb-bfb7-834d66239096"
      },
      "execution_count": null,
      "outputs": [
        {
          "output_type": "stream",
          "name": "stdout",
          "text": [
            "DISTRIB_ID=Ubuntu\n",
            "DISTRIB_RELEASE=18.04\n",
            "DISTRIB_CODENAME=bionic\n",
            "DISTRIB_DESCRIPTION=\"Ubuntu 18.04.6 LTS\"\n",
            "NAME=\"Ubuntu\"\n",
            "VERSION=\"18.04.6 LTS (Bionic Beaver)\"\n",
            "ID=ubuntu\n",
            "ID_LIKE=debian\n",
            "PRETTY_NAME=\"Ubuntu 18.04.6 LTS\"\n",
            "VERSION_ID=\"18.04\"\n",
            "HOME_URL=\"https://www.ubuntu.com/\"\n",
            "SUPPORT_URL=\"https://help.ubuntu.com/\"\n",
            "BUG_REPORT_URL=\"https://bugs.launchpad.net/ubuntu/\"\n",
            "PRIVACY_POLICY_URL=\"https://www.ubuntu.com/legal/terms-and-policies/privacy-policy\"\n",
            "VERSION_CODENAME=bionic\n",
            "UBUNTU_CODENAME=bionic\n"
          ]
        }
      ]
    },
    {
      "cell_type": "markdown",
      "source": [
        "Check the version of python, torch and cuDNN.\n",
        "note: The [NVIDIA CUDA® Deep Neural Network library (cuDNN)](https://docs.nvidia.com/deeplearning/cudnn/developer-guide/index.html) is a GPU-accelerated library of primitives for Deep Neural Network(DNN). \n",
        "python、torch、cuDNNのバージョンを確認します。  \n",
        "注: [NVIDIA CUDA® Deep Neural Network library (cuDNN)](https://docs.nvidia.com/deeplearning/cudnn/developer-guide/index.html) は、Deep Neural Network(DNN)開発用のライブラリです。\n",
        "\n"
      ],
      "metadata": {
        "id": "OyT-NHb1ulFj"
      }
    },
    {
      "cell_type": "code",
      "source": [
        "from platform import python_version\n",
        "import torch\n",
        "print(\"Python version\", python_version())\n",
        "print(\"Pytorch - version\", torch.__version__)\n",
        "print(\"Pytorch - cuDNN version :\", torch.backends.cudnn.version())"
      ],
      "metadata": {
        "id": "P6nIH9Gcs0rt",
        "colab": {
          "base_uri": "https://localhost:8080/"
        },
        "outputId": "955d0c24-a378-49cc-fda1-ea1d34f36779"
      },
      "execution_count": null,
      "outputs": [
        {
          "output_type": "stream",
          "name": "stdout",
          "text": [
            "Python version 3.7.13\n",
            "Pytorch - version 1.12.1+cu113\n",
            "Pytorch - cuDNN version : 8302\n"
          ]
        }
      ]
    },
    {
      "cell_type": "markdown",
      "source": [
        "**Task 1**  \n",
        "You can execute commands by entering them in the Command Window after the  ([ ]) and pressing the \"Ctrl + Enter\" key.  \n",
        "T: Multiply the numbers 3 and 5 together with the command ``` 3*5 ```  \n",
        "コマンドを実行するには、コマンドウィンドウの ([ ]) の後にコマンドを入力し、「Ctrl + Enter」キーを押してください。  \n",
        "T: `` 3*5 ``` というコマンドで数字の 3 と 5 を掛け算する。\n",
        "\n"
      ],
      "metadata": {
        "id": "K_DvswYsxFS5"
      }
    },
    {
      "cell_type": "code",
      "source": [
        "3 * 5"
      ],
      "metadata": {
        "id": "SNkQIl0ExFuF",
        "colab": {
          "base_uri": "https://localhost:8080/"
        },
        "outputId": "483e8525-ea3d-4db0-f4fb-d5206b4a48d8"
      },
      "execution_count": null,
      "outputs": [
        {
          "output_type": "execute_result",
          "data": {
            "text/plain": [
              "15"
            ]
          },
          "metadata": {},
          "execution_count": 4
        }
      ]
    },
    {
      "cell_type": "markdown",
      "source": [
        "**Task 2**  \n",
        "Unless you specify an output variable, colab won't store the calculations in variable inspector (something like \"workspace\" in Matlab).  \n",
        "T: Assign the 3*5 calculation to a variable named m as shown: ``` m = 3 * 5```  \n",
        "Note: Colab now has a variable inspector to give you more insights into what your code is doing while executing. More information on this and the status bar at [here](https://github.com/googlecolab/colabtools/wiki/Runtime-Status)  \n",
        "出力変数を指定しない限り、colabは計算結果を変数インスペクタ（Matlabの\"workspace\" のようなもの）に保存しません。  \n",
        "T: 3*5の計算を図のようにmという変数に代入してください．``` m = 3 * 5```  \n",
        "注：Colabには変数インスペクタが実装されている、実行中のコードが何を行っているかをより深く理解することができます。Windowの左側にある{x}をクリックすると変数インスペクタが表示され、変数の型と形状が確認できます。\n",
        "また、ステータスバーに関する詳細は、[こちらから](https://github.com/googlecolab/colabtools/wiki/Runtime-Status)を参照してください。"
      ],
      "metadata": {
        "id": "DVxyhTDErkOn"
      }
    },
    {
      "cell_type": "code",
      "source": [
        "m = 3*5"
      ],
      "metadata": {
        "id": "WVxztQ6Exd7A"
      },
      "execution_count": null,
      "outputs": []
    },
    {
      "cell_type": "markdown",
      "source": [
        "**Task 3**  \n",
        "The equals sign $(=)$ in python is the assignment operator, meaning that the expression on the right of the equals sign is assigned to the variable on the left. When you enter $x = 3 + 4$, python first evaluates $3 + 4$ and then assigns the result $7$ to the variable $x$.  \n",
        "T: Enter the  ``` m = m + 1 ```\n",
        "to see what happens.  \n",
        "pythonの等号$(=)$は**変数定義**演算子で、等号の右にある式を左にある変数を定義することを意味します。$x = 3 + 4$ と入力すると、python はまず $3 + 4$ を評価し、その結果 $7$ を変数 $x$ に代入します。  \n",
        "T: ``` m = m + 1```  と入力し、何が起こるか見てみましょう。\n",
        "を入力して、何が起こるか見てみましょう。"
      ],
      "metadata": {
        "id": "oOFn37cxvo9c"
      }
    },
    {
      "cell_type": "code",
      "source": [
        "m = m + 1"
      ],
      "metadata": {
        "id": "Ozw97KgewZxj"
      },
      "execution_count": null,
      "outputs": []
    },
    {
      "cell_type": "markdown",
      "source": [
        "**Task 4**  \n",
        "Notice that the variable inspector (on the left) shows all the variables you have created and assigned.  \n",
        "T: Create a variable named y that has the value ``` m/2```  \n",
        "```\n",
        "y = m/2\n",
        "```  \n",
        "変数インスペクタ（左側）には、あなたが作成し割り当てたすべての変数が表示されていることに確認してください。 \n",
        "T: y という名前の変数を作成し、その値を``` m/2```とします。\n",
        "```\n",
        "y = m/2\n",
        "```  \n"
      ],
      "metadata": {
        "id": "eaEpwo_3xBrY"
      }
    },
    {
      "cell_type": "code",
      "source": [
        "y = m/2\n",
        "y"
      ],
      "metadata": {
        "id": "j4-mAllUwcs3",
        "colab": {
          "base_uri": "https://localhost:8080/"
        },
        "outputId": "bb02b0fe-3919-445b-93e5-7925b6175500"
      },
      "execution_count": null,
      "outputs": [
        {
          "output_type": "execute_result",
          "data": {
            "text/plain": [
              "9.5"
            ]
          },
          "metadata": {},
          "execution_count": 28
        }
      ]
    },
    {
      "cell_type": "markdown",
      "source": [
        "**Task 5**  \n",
        "The following rule won't work for colab. To display the result, input the variable such as `k` here.  \n",
        ">When you enter a command without a semicolon at the end, MATLAB displays the result.  \n",
        "If you add a semicolon to the end of a command, the result will not be displayed. The command will still be executed, as you can see in the Workspace.\n",
        "\n",
        "T:  Enter ``` k = 8 - 2```; then check the result of `k`.  \n",
        "結果を表示するには、変数名 `k`を入力する。 "
      ],
      "metadata": {
        "id": "9jwWm07vxlsO"
      }
    },
    {
      "cell_type": "code",
      "source": [
        "k = 8 - 2\n",
        "m= 3 * k"
      ],
      "metadata": {
        "id": "Gx9FS7p5yVrM"
      },
      "execution_count": null,
      "outputs": []
    },
    {
      "cell_type": "code",
      "source": [
        "m"
      ],
      "metadata": {
        "colab": {
          "base_uri": "https://localhost:8080/"
        },
        "id": "AtXe0Qlkw3_P",
        "outputId": "65d461d2-b77e-4980-d72a-d5666d56e146"
      },
      "execution_count": null,
      "outputs": [
        {
          "output_type": "execute_result",
          "data": {
            "text/plain": [
              "18"
            ]
          },
          "metadata": {},
          "execution_count": 30
        }
      ]
    },
    {
      "cell_type": "code",
      "source": [
        "k"
      ],
      "metadata": {
        "id": "DGx2Dd0-yYxp",
        "colab": {
          "base_uri": "https://localhost:8080/"
        },
        "outputId": "e22a5d03-ec3d-400e-91fe-34c4442e2598"
      },
      "execution_count": null,
      "outputs": [
        {
          "output_type": "execute_result",
          "data": {
            "text/plain": [
              "6"
            ]
          },
          "metadata": {},
          "execution_count": 31
        }
      ]
    },
    {
      "cell_type": "markdown",
      "source": [
        "**Task 6**  \n",
        "In Task 4, you used the value of m to calculate $y$. Was $y$ recalculated when $m$ was modified in Task 5?  \n",
        "T: Enter just the variable name $y$ at the command prompt (and press ctrl+Enter).  \n",
        "タスク4では、mの値を使って$y$を計算しました。タスク5で$m$を変更したとき、$y$は再計算されましたか？  \n",
        "T：コマンドプロンプトで変数名 $y$ とだけ入力する（ctrl+Enter を押す）。"
      ],
      "metadata": {
        "id": "tePGNXtLy2ej"
      }
    },
    {
      "cell_type": "code",
      "source": [
        "y"
      ],
      "metadata": {
        "id": "ADlmfWLN0sjc",
        "colab": {
          "base_uri": "https://localhost:8080/"
        },
        "outputId": "321d4943-61d3-4240-9cd7-b477a82826a2"
      },
      "execution_count": null,
      "outputs": [
        {
          "output_type": "execute_result",
          "data": {
            "text/plain": [
              "9.5"
            ]
          },
          "metadata": {},
          "execution_count": 32
        }
      ]
    },
    {
      "cell_type": "markdown",
      "source": [
        "**Task 8**  \n",
        "The value of $y$ was unchanged because colab does not rerun previous commands in the Command Window.  \n",
        "If you want to recalculate y after m is modified, you need to repeat the command ```y = m/2```.  \n",
        "Try this now! Input command ``` y = m/2 ```, then rerun it. To see the new value of $y$, remember open variable inspector or type $y$ .\n",
        "colab はコマンドウィンドウで前のコマンドを再実行しないので、$y$ の値は変化していません。 \n",
        "もし、$m$ が変更された後に $y$を再計算したい場合は、 ```y = m/2``` というコマンドを繰り返す必要があります。   \n",
        "さて、```y = m/2 ``` というコマンドを入力、再実行してみてください。yの新しい値を見るには、変数インスペクタを開くか、$y$とタイプしてください。"
      ],
      "metadata": {
        "id": "Bg42QYnK023R"
      }
    },
    {
      "cell_type": "code",
      "source": [
        "y = m/2"
      ],
      "metadata": {
        "id": "l9SIF-DZ2K2L"
      },
      "execution_count": null,
      "outputs": []
    },
    {
      "cell_type": "code",
      "source": [
        "y"
      ],
      "metadata": {
        "id": "bgfGGjnd2OfD",
        "colab": {
          "base_uri": "https://localhost:8080/"
        },
        "outputId": "ec93f56e-2575-4e38-f119-126cec835b1d"
      },
      "execution_count": null,
      "outputs": [
        {
          "output_type": "execute_result",
          "data": {
            "text/plain": [
              "9.0"
            ]
          },
          "metadata": {},
          "execution_count": 35
        }
      ]
    },
    {
      "cell_type": "markdown",
      "source": [
        "**Task 9**  \n",
        "Lets try to clear all **Variables** use ``` %reset-f ```  \n",
        "Check your variable inspector or type previouse used variables before and after.  \n",
        "すべての ** 変数** をクリアするには、`` %reset-f ``` を使用します。 \n",
        "変数インスペクタを確認するか、以前に使用した変数の前後をタイプしてください。"
      ],
      "metadata": {
        "id": "PY26ISrv5Izi"
      }
    },
    {
      "cell_type": "code",
      "source": [
        "%reset"
      ],
      "metadata": {
        "id": "ZJqkMzIz2V2j",
        "colab": {
          "base_uri": "https://localhost:8080/"
        },
        "outputId": "6a5d01c8-7a65-4aee-86a0-ed8ddb683612"
      },
      "execution_count": null,
      "outputs": [
        {
          "name": "stdout",
          "output_type": "stream",
          "text": [
            "Once deleted, variables cannot be recovered. Proceed (y/[n])? y\n"
          ]
        }
      ]
    },
    {
      "cell_type": "code",
      "source": [
        "%reset -f"
      ],
      "metadata": {
        "id": "HNryVTLa5G6s"
      },
      "execution_count": null,
      "outputs": []
    },
    {
      "cell_type": "markdown",
      "source": [
        "**Task 10**  \n",
        "You can name your python variables anything you'd like as long as they start with a letter and contain only letters, numbers, and underscores (_).  \n",
        "**Python variables are also case sensitive.**  \n",
        "T: Create a variable named $A$ with the value $-2$ and $a$ with the value $3$. Then check your variable inspector.\n",
        "Use A and a to calculate  \n",
        "$\\frac{a+A}{2}$  \n",
        "Store the result in a variable named meanAa.  \n",
        "Pythonの変数は、文字で始まり、文字、数字、アンダースコア(_)だけを含む限り、好きな名前を付けることができます。 \n",
        "**Pythonの変数は、大文字と小文字を区別します。  \n",
        "T: $A$という変数に$-2$という値を、$a$という変数に$3$という値を設定しなさい。そして、変数インスペクタを確認してください。  \n",
        "A と a を使って計算し、その結果をmeanAaという変数に格納せよ。  \n",
        "$\\frac{a+A}{2}$  \n"
      ],
      "metadata": {
        "id": "wMO8wIFr8paA"
      }
    },
    {
      "cell_type": "code",
      "source": [
        "A=-2\n",
        "a=3"
      ],
      "metadata": {
        "id": "oNpvLdNI8ooe"
      },
      "execution_count": null,
      "outputs": []
    },
    {
      "cell_type": "code",
      "source": [
        "meanAa=(a+A)/2"
      ],
      "metadata": {
        "id": "ubSbi8k6zn81"
      },
      "execution_count": null,
      "outputs": []
    },
    {
      "cell_type": "markdown",
      "source": [
        "**Tips**  \n",
        "If you use an invalid variable name, colab will display an error message and a suggested correction. You can use this correction, modify it, or press Esc to delete the suggestion.  \n",
        "T: Try creating the variable ``` 3sq = 9 ``` to see the error message.\n"
      ],
      "metadata": {
        "id": "_iW7q_LP9bZL"
      }
    }
  ]
}