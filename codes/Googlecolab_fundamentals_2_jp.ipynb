{
  "nbformat": 4,
  "nbformat_minor": 0,
  "metadata": {
    "colab": {
      "name": "Googlecolab_fundamentals_2_jp.ipynb",
      "provenance": [],
      "include_colab_link": true
    },
    "kernelspec": {
      "name": "python3",
      "display_name": "Python 3"
    },
    "language_info": {
      "name": "python"
    },
    "gpuClass": "standard"
  },
  "cells": [
    {
      "cell_type": "markdown",
      "metadata": {
        "id": "view-in-github",
        "colab_type": "text"
      },
      "source": [
        "<a href=\"https://colab.research.google.com/github/oceam/agri-image/blob/main/codes/Googlecolab_fundamentals_2_jp.ipynb\" target=\"_parent\"><img src=\"https://colab.research.google.com/assets/colab-badge.svg\" alt=\"Open In Colab\"/></a>"
      ]
    },
    {
      "cell_type": "markdown",
      "source": [
        "# Googlecolab_fundamentals_2  \n",
        "Wei Guo  \n",
        "2022.08.23->2023.08.29->2024.08.25(ask AI)->2025.08.26 (Toggle Gemini).  \n",
        "![Gemini](https://raw.githubusercontent.com/oceam/agri-image/refs/heads/main/pictures/togglegemini.jpg)"
      ],
      "metadata": {
        "id": "UCW9TjRUhACA"
      }
    },
    {
      "cell_type": "markdown",
      "source": [
        "**Basic syntax**\n",
        "Run following cell first.   \n",
        "\n"
      ],
      "metadata": {
        "id": "_ikYcQCphNte"
      }
    },
    {
      "cell_type": "code",
      "source": [
        "x = pi\n",
        "print(x)"
      ],
      "metadata": {
        "id": "fWFU48dbBaNz"
      },
      "execution_count": null,
      "outputs": []
    },
    {
      "cell_type": "markdown",
      "source": [
        "Why it happens?\n",
        "Because python will need to import **module** by yourself.  \n",
        "You can import whole module or just what you need (same as R).  \n",
        "Typically, importing just the whole module will get you what you need.  There are actually a few ways to import functionality from modules. One of the most common is to simply import the whole Python module. To do that, you just follow the import command with the name of the Python module you want to import. For example, this imports the entire math module, which has lots of functions and stuff for doing math:  \n",
        "なぜか$\\pi$が定義されていなかったようでした。その理由は、\n",
        "Pythonは自分で**モジュール**をインポートする必要があるからです。\n",
        "モジュール全体をインポートすることもできますし、必要なものだけをインポートすることもできます（Rと同じです）。\n",
        "一般的には、モジュール全体をインポートすれば、必要なものが手に入ります。 モジュールから機能をインポートするには、実はいくつかの方法があります。最も一般的なのは、単純にPythonモジュール全体をインポートする方法です。これを行うには、importコマンドに続けてインポートしたいPythonモジュールの名前を指定するだけです。例えば、これはmathモジュール全体をインポートしており、そこには数学を行うための関数やものがたくさんあります。"
      ],
      "metadata": {
        "id": "_2uw8cTfDrn6"
      }
    },
    {
      "cell_type": "code",
      "source": [
        "import math"
      ],
      "metadata": {
        "id": "P4hlBovzD8cC"
      },
      "execution_count": null,
      "outputs": []
    },
    {
      "cell_type": "markdown",
      "source": [
        "After you import a Python module, the ```dir()``` and ```help()``` functions work on that too. For example, if you tried doing dir(math) or help(math) before import math, you'd get an error. That’s because that math package isn’t part of the standard library. However, if you do import math first, and then ```help(math)```, then it all works.  \n",
        "Python モジュールをインポートした後、```dir()``` と ```help()``` 関数はそのモジュールに対しても機能します。例えば、```import math``` の前に ```dir(math)``` や ```help(math)``` を実行しようとすると、エラーが発生します。これは、その数学パッケージが標準ライブラリの一部でないためです。"
      ],
      "metadata": {
        "id": "u9fMsgLuD-u0"
      }
    },
    {
      "cell_type": "code",
      "source": [
        "dir(math)"
      ],
      "metadata": {
        "id": "fELwA8P5ECuO"
      },
      "execution_count": null,
      "outputs": []
    },
    {
      "cell_type": "markdown",
      "source": [
        "Yes, pi is there! Now let's see:"
      ],
      "metadata": {
        "id": "Nk_EjW6PEft7"
      }
    },
    {
      "cell_type": "code",
      "source": [
        "x =pi\n",
        "print(x)"
      ],
      "metadata": {
        "id": "HSgvEa_K_kQf"
      },
      "execution_count": null,
      "outputs": []
    },
    {
      "cell_type": "code",
      "source": [
        "y = sin(-5)\n",
        "print(y)"
      ],
      "metadata": {
        "id": "dy6SXKQQz3f0"
      },
      "execution_count": null,
      "outputs": []
    },
    {
      "cell_type": "markdown",
      "source": [
        "$\\pi$ isn’t part of the standard library that’s always available to your Python code. To use it, you have to import the math module. There are 3 ways to do that:  \n",
        "1. To precede the part you want to use with the name of the module and a dot like `math.pi`.\n",
        "2. To import the module by associate the name of everything in the math module with that Python module a Python module like `from math import *`.\n",
        "3. To import just what you need (pi) using a syntax like `from math import pi\n",
        "`.    \n",
        "\n",
        "$pi$ は、Pythonコードで常に利用できる標準ライブラリの一部ではありません。それを使用するには、mathモジュールからインポートする必要があります。その方法は3つあります。\n",
        "1. 使用したい部分の前にモジュール名と `math.pi` のようなドットを置く。\n",
        "2. 「from math import *`」のように、mathモジュール内のすべての名前をそのPythonモジュールに関連付けることでモジュールをインポートする方法。\n",
        "3. 必要なものだけをインポートするには、 `from math import pi` のような構文にします。"
      ],
      "metadata": {
        "id": "JLp-EGv4Fm0e"
      }
    },
    {
      "cell_type": "code",
      "source": [
        "x =math.pi\n",
        "print(x)"
      ],
      "metadata": {
        "id": "R3UA1RWRhLOi"
      },
      "execution_count": null,
      "outputs": []
    },
    {
      "cell_type": "code",
      "source": [
        "from math import *\n",
        "x =pi\n",
        "print(x)"
      ],
      "metadata": {
        "id": "n0xKEOqzHqbV"
      },
      "execution_count": null,
      "outputs": []
    },
    {
      "cell_type": "code",
      "source": [
        "y = sin(-5)\n",
        "print(y)"
      ],
      "metadata": {
        "id": "InwmP5EBIC5m"
      },
      "execution_count": null,
      "outputs": []
    },
    {
      "cell_type": "markdown",
      "source": [
        "Using format() method to change the positional argument  \n",
        "format() メソッドを使用して位置の引数を変更する"
      ],
      "metadata": {
        "id": "QF9zqi3Rz_3F"
      }
    },
    {
      "cell_type": "code",
      "source": [
        "print('{:.20f}'.format(x))\n",
        "print('{:.4f}'.format(x))"
      ],
      "metadata": {
        "id": "zmvGy9n0MCKG"
      },
      "execution_count": null,
      "outputs": []
    },
    {
      "cell_type": "code",
      "source": [
        "x2='{:.10f}'.format(x)\n",
        "x2"
      ],
      "metadata": {
        "id": "Gz3C3hXV1KyG"
      },
      "execution_count": null,
      "outputs": []
    },
    {
      "cell_type": "markdown",
      "source": [
        "# **Array types**\n",
        "# **配列**"
      ],
      "metadata": {
        "id": "ALu1fIhRSECh"
      }
    },
    {
      "cell_type": "code",
      "source": [
        "import numpy as np\n",
        "a = 4\n",
        "print(\"a is:\",a,'\\n')\n",
        "a = np.array([3, 5], dtype=np.int64)\n",
        "print(\"a is:\\n\", a)\n",
        "print(\"shape of a is: {}\".format(a.shape))\n",
        "print(\"size of a is:{}\".format(a.size),'\\n')\n",
        "a = np.array(([1], [3]), dtype=np.int64)\n",
        "print(\"a is:\\n\", a)\n",
        "print(\"shape of a is: {}\".format(a.shape))\n",
        "print(\"size of a is:{}\".format(a.size),'\\n')\n",
        "a = np.array(([3,4,5], [6,7,8]), dtype=np.int64)\n",
        "print(\"a is:\\n\", a)\n",
        "print(\"shape of a is: {}\".format(a.shape))\n",
        "print(\"size of a is:{}\".format(a.size),'\\n')\n",
        "#[3 5]\n",
        "#[1;3]\n",
        "#[3 4 5; 6 7 8]"
      ],
      "metadata": {
        "id": "VjmTgHa1PAPr"
      },
      "execution_count": null,
      "outputs": []
    },
    {
      "cell_type": "markdown",
      "source": [
        "**Evenly-spaced vectors**  \n",
        "Use np.linspace() when the exact values for the start and end points of your range are the important attributes in your application.  \n",
        "Use np.arange() when the step size between values is more important.  \n",
        "**等間隔のベクトル**  \n",
        "範囲の始点と終点の間の数を定義するならnp.linspace()  \n",
        "範囲の始点と終点の間ののステップサイズを定義するならnp.arange()\n"
      ],
      "metadata": {
        "id": "19bg2uYiT8UQ"
      }
    },
    {
      "cell_type": "code",
      "source": [
        "b= np.arange(1,5)\n",
        "print(\"use arrange:{}\".format(b),'\\n')\n",
        "b= np.arange(1,5,0.5)\n",
        "print(\"use arrange:{}\".format(b),'\\n')\n",
        "b= np.linspace(1, 10, num=5)\n",
        "print(\"use linspace:{}\".format(b),'\\n')\n",
        "b= np.random.rand(5)\n",
        "print(\"generate random number:{}\".format(b),'\\n')\n",
        "b= np.zeros((2))\n",
        "print(\"generate zero vector:{}\".format(b),'\\n')\n",
        "b= np.ones((2))\n",
        "print(\"generate one vector:{}\".format(b),'\\n')"
      ],
      "metadata": {
        "id": "rftYKrxMT-QI"
      },
      "execution_count": null,
      "outputs": []
    },
    {
      "cell_type": "markdown",
      "source": [
        "**Creating matrices**  \n",
        "Create a square matrix with x rows and x columns.  \n",
        "**行列の作成**  \n",
        "x行x列の正方行列を作成します。\n"
      ],
      "metadata": {
        "id": "z39dGeJAVyYJ"
      }
    },
    {
      "cell_type": "code",
      "source": [
        "c= np.random.rand(2,2)\n",
        "print(\"generate random number matric:{}\".format(c),'\\n')\n",
        "c= np.zeros((3,3))\n",
        "print(\"generate zero matric:{}\".format(c),'\\n')\n",
        "c= np.ones((4,4))\n",
        "print(\"generate one matric:{}\".format(c),'\\n')\n"
      ],
      "metadata": {
        "id": "54jbaMM1Vv0T"
      },
      "execution_count": null,
      "outputs": []
    },
    {
      "cell_type": "markdown",
      "source": [
        "**Indexing**  \n"
      ],
      "metadata": {
        "id": "CmQHvr2vb0U5"
      }
    },
    {
      "cell_type": "code",
      "source": [
        "A = np.array(([3,4],[5,6],[7,8]), dtype=np.int64)\n",
        "print(A,'\\n')"
      ],
      "metadata": {
        "id": "0loVkb8xb4Rf"
      },
      "execution_count": null,
      "outputs": []
    },
    {
      "cell_type": "markdown",
      "source": [
        "Access the element in the second column of the last row.\n",
        "Please pay attention of the **index numbers** here.  \n",
        "Please note python index starts from 0.  \n",
        "\n",
        "最後の行の2列目にある要素にアクセスします。\n",
        "ここでは、**index numbers**に注意してください。  \n",
        "pythonのindexは1からではなく0から始まります。\n",
        "\n"
      ],
      "metadata": {
        "id": "fsO5xD_vcW5m"
      }
    },
    {
      "cell_type": "code",
      "source": [
        "print(A[0,0],'\\n')\n",
        "print(A[2,1],'\\n')"
      ],
      "metadata": {
        "id": "pGSneP9icYjz"
      },
      "execution_count": null,
      "outputs": []
    },
    {
      "cell_type": "markdown",
      "source": [
        "Access the entire second row.  \n",
        "2列目全体にアクセスします。\n"
      ],
      "metadata": {
        "id": "ms2TRT_XdiqH"
      }
    },
    {
      "cell_type": "code",
      "source": [
        "print(A[1,:],'\\n')"
      ],
      "metadata": {
        "id": "blZoNTf8djQC"
      },
      "execution_count": null,
      "outputs": []
    },
    {
      "cell_type": "markdown",
      "source": [
        "Access all columns of the first two rows.  \n",
        "最初の2行のすべての列にアクセスします。"
      ],
      "metadata": {
        "id": "WQd-MtxpfPR9"
      }
    },
    {
      "cell_type": "code",
      "source": [
        "print(A[0:2,:],'\\n')"
      ],
      "metadata": {
        "id": "b1H8mizBfQ58"
      },
      "execution_count": null,
      "outputs": []
    },
    {
      "cell_type": "markdown",
      "source": [
        "Change the value of the second element an array to 11.  \n",
        "配列の2番目の要素の値を11に変更します。"
      ],
      "metadata": {
        "id": "XFHjW3EbfeI-"
      }
    },
    {
      "cell_type": "code",
      "source": [
        "A[1,0]=11\n",
        "print(A,'\\n')"
      ],
      "metadata": {
        "id": "IgwcALhHfh9H"
      },
      "execution_count": null,
      "outputs": []
    },
    {
      "cell_type": "markdown",
      "source": [
        "**Array operations**  \n",
        "**配列の演算**\n"
      ],
      "metadata": {
        "id": "yj7TawCwf41g"
      }
    },
    {
      "cell_type": "markdown",
      "source": [
        "Matrix operations follow the rules of linear algebra and are not compatible with multidimensional arrays. The required size and shape of the inputs in relation to one another depends on the operation. For nonscalar inputs, the matrix operators generally calculate different answers than their array operator counterparts.\n",
        "\n",
        "For example, if you use the matrix multiplication operator, *, to multiply two matrices, then the matrices must have a common inner dimension. That is, the number of columns in the first input must be equal to the number of rows in the second input. The matrix multiplication operator calculates the product of two matrices with the formula:  \n",
        "$C(i,j) = \\sum\\limits_{k=1}^{n}A(i,k)B(k,j)$  \n",
        "<!-- $C(i,j) = \\sum^{n}_{k=1}A(i,k)B(k,j)$ -->  \n",
        "The product of the linear algebra of matrices A and B. The number of columns in A must be equal to the number of rows in B.  \n",
        "\n",
        "行列演算は線形代数の規則に従っており、多次元配列とは互換性がありません。必要な入力のサイズと形状は、演算によって異なります。非スカラー入力の場合、行列演算子は一般に配列演算子と異なる計算結果を出します。  \n",
        "たとえば、行列の乗算演算子 * を使って 2 つの行列を乗算する場合、その行列は共通の内部次元を持っている必要があります。つまり、最初の入力の列数は、2 番目の入力の行数と同じでなければなりません。行列の乗算演算子は，2 つの行列の積を次の式で計算します．\n",
        "$C(i,j) = \\sum\\limits_{k=1}^{n}A(i,k)B(k,j)$  \n",
        "行列 A と B の線形代数の積では、A の列数は B の行数と等しくな\n",
        "ければなりません。"
      ],
      "metadata": {
        "id": "kZ90hMIniSOg"
      }
    },
    {
      "cell_type": "code",
      "source": [
        "a_1=np.array(([1,1],[1,1]), dtype=np.int64)\n",
        "b_1=np.array(([2,2],[2,2]), dtype=np.int64)\n",
        "print(\"a_1:\\n{}\".format(a_1),'\\n')\n",
        "print(\"b_1:\\n{}\".format(b_1),'\\n')"
      ],
      "metadata": {
        "id": "__y3ekKQf6oc"
      },
      "execution_count": null,
      "outputs": []
    },
    {
      "cell_type": "markdown",
      "source": [
        "Perform matrix multiplication.\n"
      ],
      "metadata": {
        "id": "0S-PRHfVgNCZ"
      }
    },
    {
      "cell_type": "code",
      "source": [
        "print(np.matmul(a_1,b_1))\n"
      ],
      "metadata": {
        "id": "axNm1JEAhbEB"
      },
      "execution_count": null,
      "outputs": []
    },
    {
      "cell_type": "markdown",
      "source": [
        "Perform element-wise multiplication (Array operations).  \n",
        "Array operations execute element by element operations on corresponding elements of vectors, matrices, and multidimensional arrays. If the operands have the same size, then each element in the first operand gets matched up with the element in the same location in the second operand. If the operands have compatible sizes, then each input is implicitly expanded as needed to match the size of the other.   \n",
        "要素ごとの乗算を行う（配列演算）。\n",
        "配列演算は、ベクトル、行列、多次元配列の対応する要素について、要素ごとの演算を実行します。オペランドが同じ大きさの場合、最初のオペランドの各要素は、2 番目のオペランドの同じ位置の要素とマッチングされます。オペランドのサイズが同じであれば、各入力は必要に応じて拡張され、他方のサイズと一致するようになります。\n",
        "\n",
        "\n"
      ],
      "metadata": {
        "id": "oi2tWg1rhc8H"
      }
    },
    {
      "cell_type": "code",
      "source": [
        "print(np.multiply(a_1,b_1))\n"
      ],
      "metadata": {
        "id": "IdM9d5zlhbtc"
      },
      "execution_count": null,
      "outputs": []
    },
    {
      "cell_type": "markdown",
      "source": [
        "**Multiple outputs**\n"
      ],
      "metadata": {
        "id": "Iv4D50z7hbZT"
      }
    },
    {
      "cell_type": "markdown",
      "source": [
        "Save the number of rows and columns in A to two different variables.  \n",
        "A の行と列の数を変数に保存します。\n",
        "\n"
      ],
      "metadata": {
        "id": "xvtKEVPYoHja"
      }
    },
    {
      "cell_type": "code",
      "source": [
        "print(A,'\\n')\n",
        "Arow, Acol = A.shape\n",
        "#print(Arow,Acol, '\\n')\n",
        "print(\"Arow is {:d} and Acol is {:d}\".format(Arow,Acol),'\\n')\n"
      ],
      "metadata": {
        "id": "36O_RJtLnQEY"
      },
      "execution_count": null,
      "outputs": []
    },
    {
      "cell_type": "markdown",
      "source": [
        "Calculate the maximum value of A and its corresponding index value.  \n",
        "note: start from version 1.22.0.\n",
        "np.argmax will support numpy.argmax(a, axis=None, out=None, *, keepdims=<no value>)  \n",
        "行列Aの最大値とそれに対応するインデックス値を算出する。  \n",
        "2025.08.26.\n",
        "```\n",
        "2.0.2\n",
        "```\n",
        "\n",
        "\n"
      ],
      "metadata": {
        "id": "BI6oGGj9oEnX"
      }
    },
    {
      "cell_type": "code",
      "source": [
        "np.__version__"
      ],
      "metadata": {
        "id": "iGKlUwoLd5xj"
      },
      "execution_count": null,
      "outputs": []
    },
    {
      "cell_type": "code",
      "source": [
        "print(A,'\\n')\n",
        "AMax_1 = np.max(A)\n",
        "print('AMax_1 is\\n',AMax_1, '\\n')\n",
        "idx_1 = np.argmax(A)\n",
        "print('idx_1 is\\n',idx_1, '\\n')\n",
        "\n",
        "AMax_2=np.max(A,axis=0, keepdims=True)\n",
        "print('AMax_2 is: ', AMax_2, '\\n')\n",
        "idx_2 = np.argmax(A, axis=0)\n",
        "print('idx_2 is:\\n',idx_2, '\\n')\n",
        "\n",
        "AMax_3=np.max(A,axis=1, keepdims=True)\n",
        "print('AMax_3 is:\\n', AMax_3, '\\n')\n",
        "idx_3 = np.argmax(A, axis=1)\n",
        "print('idx_3 is:\\n',idx_3, '\\n')\n"
      ],
      "metadata": {
        "id": "LVwKMJ5VoLej"
      },
      "execution_count": null,
      "outputs": []
    },
    {
      "cell_type": "markdown",
      "source": [
        "**Plotting**\n"
      ],
      "metadata": {
        "id": "gFZjQlestHIu"
      }
    },
    {
      "cell_type": "code",
      "source": [
        "# x = np.random.rand(5,1)\n",
        "# y = np.random.rand(5,1)\n",
        "# z = np.random.randi(5,1)\n",
        "# z = np.random.randint(1, 5, (5, 1))\n",
        "x = np.array(([1],[2],[2],[1],[1]))\n",
        "y = np.array(([1],[1],[2],[2],[1]))\n",
        "z = np.array(([5],[2],[5],[2],[5]))"
      ],
      "metadata": {
        "id": "FuQjxcxlo4n1"
      },
      "execution_count": null,
      "outputs": []
    },
    {
      "cell_type": "markdown",
      "source": [
        "Plot a red (r) dashed (--) line with a circle (o) marker, with a heavy line width."
      ],
      "metadata": {
        "id": "2Ssi_DiZtxza"
      }
    },
    {
      "cell_type": "code",
      "source": [
        "import matplotlib.pyplot as plt\n",
        "plt.plot(x, y, color=\"r\",ls=\"-\",marker=\"o\",linewidth=3)\n",
        "# Add the next line to existing plot.\n",
        "plt.plot(x, z, color=\"g\",ls=\"-\",marker=\"*\",linewidth=1)\n",
        "plt.show()"
      ],
      "metadata": {
        "id": "RcV9_9UZty7n"
      },
      "execution_count": null,
      "outputs": []
    },
    {
      "cell_type": "markdown",
      "source": [
        "Create a new axes for the next plotted line.\n"
      ],
      "metadata": {
        "id": "gOhEqrItyY9V"
      }
    },
    {
      "cell_type": "code",
      "source": [
        "plt.plot(x, z, color=\"g\",ls=\"-\",marker=\"o\",linewidth=3)\n",
        "#Add a label to a plot.\n",
        "plt.title(\"green plot of xz\")\n",
        "plt.show()\n"
      ],
      "metadata": {
        "id": "oSzrT52rwn0r"
      },
      "execution_count": null,
      "outputs": []
    },
    {
      "cell_type": "markdown",
      "source": [
        "\n",
        "**Using tables**"
      ],
      "metadata": {
        "id": "LCcdvtVB60sU"
      }
    },
    {
      "cell_type": "code",
      "source": [
        "import pandas as pd\n",
        "import numpy as np\n",
        "Vnamec1 = np.random.rand(5,1)\n",
        "data = pd.DataFrame(Vnamec1)\n",
        "data.columns = [\"Vnamec1\"]\n",
        "data"
      ],
      "metadata": {
        "id": "RKLT7IrH609n"
      },
      "execution_count": null,
      "outputs": []
    },
    {
      "cell_type": "markdown",
      "source": [
        "Extract the variable ```Vnamec1``` from the table data.  \n",
        "テーブルデータから変数``` Vnamec1``` を取り出します。"
      ],
      "metadata": {
        "id": "NKIHT7Hg9V-C"
      }
    },
    {
      "cell_type": "code",
      "source": [
        "data.Vnamec1"
      ],
      "metadata": {
        "id": "BhZ33EML88Za"
      },
      "execution_count": null,
      "outputs": []
    },
    {
      "cell_type": "markdown",
      "source": [
        "Derive a table variable from existing data.  \n",
        "既存のデータからテーブル変数を導出する。"
      ],
      "metadata": {
        "id": "8yVkHuI09d8v"
      }
    },
    {
      "cell_type": "code",
      "source": [
        "data['Vnamec2'] = pd.DataFrame(data.Vnamec1*0.9144)\n",
        "data"
      ],
      "metadata": {
        "id": "jK3dZJdH9ebd"
      },
      "execution_count": null,
      "outputs": []
    },
    {
      "cell_type": "markdown",
      "source": [
        "**Logicals**  \n",
        "**ロジック**"
      ],
      "metadata": {
        "id": "E252P4mJ-NnX"
      }
    },
    {
      "cell_type": "markdown",
      "source": [
        "Compare a vector to the value 12.  \n",
        "ベクトルの値を12と比較する。"
      ],
      "metadata": {
        "id": "RAUyyQxL-iH7"
      }
    },
    {
      "cell_type": "code",
      "source": [
        "np.array(([5,10,15]))>12"
      ],
      "metadata": {
        "id": "Quvid0Y_7uWK"
      },
      "execution_count": null,
      "outputs": []
    },
    {
      "cell_type": "code",
      "source": [
        "np.array(A)>12"
      ],
      "metadata": {
        "id": "x7Ww9IvogR98"
      },
      "execution_count": null,
      "outputs": []
    },
    {
      "cell_type": "markdown",
      "source": [
        "Extract all elements in v1 that are greater than 6.  \n",
        "v1の中で6より大きい要素を全て取り出します。\n"
      ],
      "metadata": {
        "id": "8i_QxSc1-k0s"
      }
    },
    {
      "cell_type": "code",
      "source": [
        "v1 = np.array(([5,6,10,15]))\n",
        "idx= np.where(v1 > 6)\n",
        "v1[idx]\n"
      ],
      "metadata": {
        "id": "gaFYrR-K-mFI"
      },
      "execution_count": null,
      "outputs": []
    },
    {
      "cell_type": "markdown",
      "source": [
        "Replace all values in x that are equal to 999 with the value 1.  \n",
        "ベクトルxの中999に等しいものをすべて1に置き換える。"
      ],
      "metadata": {
        "id": "kIROtxAmC2A6"
      }
    },
    {
      "cell_type": "code",
      "source": [
        "x = np.array(([0,3,999,2]))\n",
        "print('Original x is\\n', x, '\\n')\n",
        "idx= np.where(x == 999)\n",
        "x[idx]=1\n",
        "print('Replaced x is\\n', x, '\\n')\n"
      ],
      "metadata": {
        "id": "7hmjG64VA88s"
      },
      "execution_count": null,
      "outputs": []
    },
    {
      "cell_type": "markdown",
      "source": [
        "**Programming**  \n",
        "**プログラミング練習**\n",
        "\n"
      ],
      "metadata": {
        "id": "hEUI_Z1oDbFb"
      }
    },
    {
      "cell_type": "code",
      "source": [
        "import pandas as pd\n",
        "import numpy as np\n",
        "x = np.random.rand(1)\n",
        "print(x)"
      ],
      "metadata": {
        "id": "7TTDSTG_DeYf"
      },
      "execution_count": null,
      "outputs": []
    },
    {
      "cell_type": "markdown",
      "source": [
        "If x is greater than 0.5, set the value of y to 3. Otherwise, set the value of y to 4.  \n",
        "xが0.5より大きい場合はyの値を3、それ以外の場合はyの値を4とする。"
      ],
      "metadata": {
        "id": "m9oQIZZJDp6A"
      }
    },
    {
      "cell_type": "code",
      "source": [
        "if x>0.5:\n",
        "  y=3\n",
        "else:\n",
        "  y=4\n",
        "print(y)"
      ],
      "metadata": {
        "id": "3MtEZZYXDrAE"
      },
      "execution_count": null,
      "outputs": []
    },
    {
      "cell_type": "markdown",
      "source": [
        "The loop counter (c) progresses through the values 1:3 (1, 2, and 3). The loop body displays each value of c.  \n",
        "ループカウンタ（c）は、1：3（1、2、3）の値で進行する。ループ本体は、cの各値を表示する。\n"
      ],
      "metadata": {
        "id": "RVJih9EzEids"
      }
    },
    {
      "cell_type": "code",
      "source": [
        "for c in range(3):\n",
        "    print(c)"
      ],
      "metadata": {
        "id": "auGwATHBEjaj"
      },
      "execution_count": null,
      "outputs": []
    },
    {
      "cell_type": "code",
      "source": [
        "sum100=0\n",
        "for c in range(1,101):\n",
        "    sum100=sum100+c\n",
        "print(sum100)"
      ],
      "metadata": {
        "id": "UWuF3dNSE9dB"
      },
      "execution_count": null,
      "outputs": []
    },
    {
      "cell_type": "markdown",
      "source": [
        "**Practice with AI**  \n",
        "Ask Gemini to help you write a program that only loop count the odd number/even number．\n",
        "奇数/偶数だけをループカウンターと足し算するプログラムを書くのをGeminiに手伝ってもらいなさい。  \n",
        "Tips： Ask correct questions\n",
        "\n",
        "```\n",
        "1から100まで、奇数だけをループカウンターをし、足し算をするプログラムをお願い\n",
        "```\n",
        "\n",
        "\n"
      ],
      "metadata": {
        "id": "epsDevbeZvkG"
      }
    }
  ]
}