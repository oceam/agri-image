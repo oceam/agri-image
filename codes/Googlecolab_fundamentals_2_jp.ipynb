{
  "nbformat": 4,
  "nbformat_minor": 0,
  "metadata": {
    "colab": {
      "name": "Googlecolab_fundamentals_2_jp.ipynb",
      "provenance": [],
      "collapsed_sections": [],
      "include_colab_link": true
    },
    "kernelspec": {
      "name": "python3",
      "display_name": "Python 3"
    },
    "language_info": {
      "name": "python"
    },
    "gpuClass": "standard"
  },
  "cells": [
    {
      "cell_type": "markdown",
      "metadata": {
        "id": "view-in-github",
        "colab_type": "text"
      },
      "source": [
        "<a href=\"https://colab.research.google.com/github/oceam/agri-image/blob/main/codes/Googlecolab_fundamentals_2_jp.ipynb\" target=\"_parent\"><img src=\"https://colab.research.google.com/assets/colab-badge.svg\" alt=\"Open In Colab\"/></a>"
      ]
    },
    {
      "cell_type": "markdown",
      "source": [
        "# Googlecolab_fundamentals_2  \n",
        "Wei Guo  \n",
        "2022.08.23"
      ],
      "metadata": {
        "id": "UCW9TjRUhACA"
      }
    },
    {
      "cell_type": "markdown",
      "source": [
        "**Basic syntax**\n",
        "Run following cell first.   \n",
        "\n"
      ],
      "metadata": {
        "id": "_ikYcQCphNte"
      }
    },
    {
      "cell_type": "code",
      "source": [
        "x = pi\n",
        "print(x)"
      ],
      "metadata": {
        "id": "fWFU48dbBaNz",
        "colab": {
          "base_uri": "https://localhost:8080/",
          "height": 193
        },
        "outputId": "b7aa81cb-f9e5-41ef-b705-675e6683dea3"
      },
      "execution_count": 15,
      "outputs": [
        {
          "output_type": "error",
          "ename": "NameError",
          "evalue": "ignored",
          "traceback": [
            "\u001b[0;31m---------------------------------------------------------------------------\u001b[0m",
            "\u001b[0;31mNameError\u001b[0m                                 Traceback (most recent call last)",
            "\u001b[0;32m<ipython-input-15-72a5f6da844b>\u001b[0m in \u001b[0;36m<module>\u001b[0;34m\u001b[0m\n\u001b[0;32m----> 1\u001b[0;31m \u001b[0mx\u001b[0m \u001b[0;34m=\u001b[0m \u001b[0mpi\u001b[0m\u001b[0;34m\u001b[0m\u001b[0;34m\u001b[0m\u001b[0m\n\u001b[0m\u001b[1;32m      2\u001b[0m \u001b[0mprint\u001b[0m\u001b[0;34m(\u001b[0m\u001b[0mx\u001b[0m\u001b[0;34m)\u001b[0m\u001b[0;34m\u001b[0m\u001b[0;34m\u001b[0m\u001b[0m\n",
            "\u001b[0;31mNameError\u001b[0m: name 'pi' is not defined"
          ]
        }
      ]
    },
    {
      "cell_type": "markdown",
      "source": [
        "Why it happens?\n",
        "Because python will need to import **module** by yourself.  \n",
        "You can import whole module or just what you need (same as R).  \n",
        "Typically, importing just the whole module will get you what you need.  There are actually a few ways to import functionality from modules. One of the most common is to simply import the whole Python module. To do that, you just follow the import command with the name of the Python module you want to import. For example, this imports the entire math module, which has lots of functions and stuff for doing math:  \n",
        "なぜか$\\pi$が定義されていなかったようでした。その理由は、\n",
        "Pythonは自分で**モジュール**をインポートする必要があるからです。 \n",
        "モジュール全体をインポートすることもできますし、必要なものだけをインポートすることもできます（Rと同じです）。 \n",
        "一般的には、モジュール全体をインポートすれば、必要なものが手に入ります。 モジュールから機能をインポートするには、実はいくつかの方法があります。最も一般的なのは、単純にPythonモジュール全体をインポートする方法です。これを行うには、importコマンドに続けてインポートしたいPythonモジュールの名前を指定するだけです。例えば、これはmathモジュール全体をインポートしており、そこには数学を行うための関数やものがたくさんあります。"
      ],
      "metadata": {
        "id": "_2uw8cTfDrn6"
      }
    },
    {
      "cell_type": "code",
      "source": [
        "import math"
      ],
      "metadata": {
        "id": "P4hlBovzD8cC"
      },
      "execution_count": 16,
      "outputs": []
    },
    {
      "cell_type": "markdown",
      "source": [
        "After you import a Python module, the ```dir()``` and ```help()``` functions work on that too. For example, if you tried doing dir(math) or help(math) before import math, you'd get an error. That’s because that math package isn’t part of the standard library. However, if you do import math first, and then ```help(math)```, then it all works.  \n",
        "Python モジュールをインポートした後、```dir()``` と ```help()``` 関数はそのモジュールに対しても機能します。例えば、```import math``` の前に ```dir(math)``` や ```help(math)``` を実行しようとすると、エラーが発生します。これは、その数学パッケージが標準ライブラリの一部でないためです。"
      ],
      "metadata": {
        "id": "u9fMsgLuD-u0"
      }
    },
    {
      "cell_type": "code",
      "source": [
        "dir(math)"
      ],
      "metadata": {
        "id": "fELwA8P5ECuO",
        "colab": {
          "base_uri": "https://localhost:8080/"
        },
        "outputId": "b9a8ffb2-2f08-4825-8fe0-d16a98147112"
      },
      "execution_count": 17,
      "outputs": [
        {
          "output_type": "execute_result",
          "data": {
            "text/plain": [
              "['__doc__',\n",
              " '__loader__',\n",
              " '__name__',\n",
              " '__package__',\n",
              " '__spec__',\n",
              " 'acos',\n",
              " 'acosh',\n",
              " 'asin',\n",
              " 'asinh',\n",
              " 'atan',\n",
              " 'atan2',\n",
              " 'atanh',\n",
              " 'ceil',\n",
              " 'copysign',\n",
              " 'cos',\n",
              " 'cosh',\n",
              " 'degrees',\n",
              " 'e',\n",
              " 'erf',\n",
              " 'erfc',\n",
              " 'exp',\n",
              " 'expm1',\n",
              " 'fabs',\n",
              " 'factorial',\n",
              " 'floor',\n",
              " 'fmod',\n",
              " 'frexp',\n",
              " 'fsum',\n",
              " 'gamma',\n",
              " 'gcd',\n",
              " 'hypot',\n",
              " 'inf',\n",
              " 'isclose',\n",
              " 'isfinite',\n",
              " 'isinf',\n",
              " 'isnan',\n",
              " 'ldexp',\n",
              " 'lgamma',\n",
              " 'log',\n",
              " 'log10',\n",
              " 'log1p',\n",
              " 'log2',\n",
              " 'modf',\n",
              " 'nan',\n",
              " 'pi',\n",
              " 'pow',\n",
              " 'radians',\n",
              " 'remainder',\n",
              " 'sin',\n",
              " 'sinh',\n",
              " 'sqrt',\n",
              " 'tan',\n",
              " 'tanh',\n",
              " 'tau',\n",
              " 'trunc']"
            ]
          },
          "metadata": {},
          "execution_count": 17
        }
      ]
    },
    {
      "cell_type": "markdown",
      "source": [
        "Yes, pi is there! Now let's see:"
      ],
      "metadata": {
        "id": "Nk_EjW6PEft7"
      }
    },
    {
      "cell_type": "code",
      "source": [
        "x =pi\n",
        "print(x)"
      ],
      "metadata": {
        "id": "HSgvEa_K_kQf",
        "colab": {
          "base_uri": "https://localhost:8080/",
          "height": 193
        },
        "outputId": "017c1184-86d7-46db-d8c7-1c471f62e8a4"
      },
      "execution_count": 18,
      "outputs": [
        {
          "output_type": "error",
          "ename": "NameError",
          "evalue": "ignored",
          "traceback": [
            "\u001b[0;31m---------------------------------------------------------------------------\u001b[0m",
            "\u001b[0;31mNameError\u001b[0m                                 Traceback (most recent call last)",
            "\u001b[0;32m<ipython-input-18-7093e7b0d2a3>\u001b[0m in \u001b[0;36m<module>\u001b[0;34m\u001b[0m\n\u001b[0;32m----> 1\u001b[0;31m \u001b[0mx\u001b[0m \u001b[0;34m=\u001b[0m\u001b[0mpi\u001b[0m\u001b[0;34m\u001b[0m\u001b[0;34m\u001b[0m\u001b[0m\n\u001b[0m\u001b[1;32m      2\u001b[0m \u001b[0mprint\u001b[0m\u001b[0;34m(\u001b[0m\u001b[0mx\u001b[0m\u001b[0;34m)\u001b[0m\u001b[0;34m\u001b[0m\u001b[0;34m\u001b[0m\u001b[0m\n",
            "\u001b[0;31mNameError\u001b[0m: name 'pi' is not defined"
          ]
        }
      ]
    },
    {
      "cell_type": "code",
      "source": [
        "y = sin(-5)\n",
        "print(y)"
      ],
      "metadata": {
        "colab": {
          "base_uri": "https://localhost:8080/",
          "height": 193
        },
        "id": "dy6SXKQQz3f0",
        "outputId": "31c3127f-73cf-4d29-d4f6-7825f2b781a8"
      },
      "execution_count": 19,
      "outputs": [
        {
          "output_type": "error",
          "ename": "NameError",
          "evalue": "ignored",
          "traceback": [
            "\u001b[0;31m---------------------------------------------------------------------------\u001b[0m",
            "\u001b[0;31mNameError\u001b[0m                                 Traceback (most recent call last)",
            "\u001b[0;32m<ipython-input-19-41b468478fbf>\u001b[0m in \u001b[0;36m<module>\u001b[0;34m\u001b[0m\n\u001b[0;32m----> 1\u001b[0;31m \u001b[0my\u001b[0m \u001b[0;34m=\u001b[0m \u001b[0msin\u001b[0m\u001b[0;34m(\u001b[0m\u001b[0;34m-\u001b[0m\u001b[0;36m5\u001b[0m\u001b[0;34m)\u001b[0m\u001b[0;34m\u001b[0m\u001b[0;34m\u001b[0m\u001b[0m\n\u001b[0m\u001b[1;32m      2\u001b[0m \u001b[0mprint\u001b[0m\u001b[0;34m(\u001b[0m\u001b[0my\u001b[0m\u001b[0;34m)\u001b[0m\u001b[0;34m\u001b[0m\u001b[0;34m\u001b[0m\u001b[0m\n",
            "\u001b[0;31mNameError\u001b[0m: name 'sin' is not defined"
          ]
        }
      ]
    },
    {
      "cell_type": "markdown",
      "source": [
        "$\\pi$ isn’t part of the standard library that’s always available to your Python code. To use it, you have to import the math module. There are 3 ways to do that:  \n",
        "1. To precede the part you want to use with the name of the module and a dot like `math.pi`.\n",
        "2. To import the module by associate the name of everything in the math module with that Python module a Python module like `from math import *`.\n",
        "3. To import just what you need (pi) using a syntax like `from math import pi\n",
        "`.    \n",
        "\n",
        "$pi$ は、Pythonコードで常に利用できる標準ライブラリの一部ではありません。それを使用するには、mathモジュールからインポートする必要があります。その方法は3つあります。 \n",
        "1. 使用したい部分の前にモジュール名と `math.pi` のようなドットを置く。\n",
        "2. 「from math import *`」のように、mathモジュール内のすべての名前をそのPythonモジュールに関連付けることでモジュールをインポートする方法。\n",
        "3. 必要なものだけをインポートするには、 `from math import pi` のような構文にします。"
      ],
      "metadata": {
        "id": "JLp-EGv4Fm0e"
      }
    },
    {
      "cell_type": "code",
      "source": [
        "x =math.pi\n",
        "print(x)"
      ],
      "metadata": {
        "id": "R3UA1RWRhLOi",
        "colab": {
          "base_uri": "https://localhost:8080/"
        },
        "outputId": "1937b921-9bc1-4860-a0b5-1f01d603e36c"
      },
      "execution_count": 20,
      "outputs": [
        {
          "output_type": "stream",
          "name": "stdout",
          "text": [
            "3.141592653589793\n"
          ]
        }
      ]
    },
    {
      "cell_type": "code",
      "source": [
        "from math import *\n",
        "x =pi\n",
        "print(x)"
      ],
      "metadata": {
        "id": "n0xKEOqzHqbV",
        "colab": {
          "base_uri": "https://localhost:8080/"
        },
        "outputId": "03555802-24a0-4d99-e98e-b7dd3c3612fc"
      },
      "execution_count": 21,
      "outputs": [
        {
          "output_type": "stream",
          "name": "stdout",
          "text": [
            "3.141592653589793\n"
          ]
        }
      ]
    },
    {
      "cell_type": "code",
      "source": [
        "y = sin(-5)\n",
        "print(y)"
      ],
      "metadata": {
        "id": "InwmP5EBIC5m",
        "colab": {
          "base_uri": "https://localhost:8080/"
        },
        "outputId": "e9784004-130a-423f-b9b7-f9e4da5339e8"
      },
      "execution_count": 23,
      "outputs": [
        {
          "output_type": "stream",
          "name": "stdout",
          "text": [
            "0.9589242746631385\n"
          ]
        }
      ]
    },
    {
      "cell_type": "markdown",
      "source": [
        "Using format() method to change the positional argument  \n",
        "format() メソッドを使用して位置の引数を変更する"
      ],
      "metadata": {
        "id": "QF9zqi3Rz_3F"
      }
    },
    {
      "cell_type": "code",
      "source": [
        "print('{:.20f}'.format(x))\n",
        "print('{:.4f}'.format(x))"
      ],
      "metadata": {
        "id": "zmvGy9n0MCKG",
        "colab": {
          "base_uri": "https://localhost:8080/"
        },
        "outputId": "05715657-afbe-4af8-a42f-c493cf1780f3"
      },
      "execution_count": 24,
      "outputs": [
        {
          "output_type": "stream",
          "name": "stdout",
          "text": [
            "3.14159265358979311600\n",
            "3.1416\n"
          ]
        }
      ]
    },
    {
      "cell_type": "code",
      "source": [
        "x2='{:.10f}'.format(x)\n",
        "x2"
      ],
      "metadata": {
        "colab": {
          "base_uri": "https://localhost:8080/",
          "height": 36
        },
        "id": "Gz3C3hXV1KyG",
        "outputId": "b57fe7a3-d24b-4f7a-fd0b-f03916f32feb"
      },
      "execution_count": 25,
      "outputs": [
        {
          "output_type": "execute_result",
          "data": {
            "text/plain": [
              "'3.1415926536'"
            ],
            "application/vnd.google.colaboratory.intrinsic+json": {
              "type": "string"
            }
          },
          "metadata": {},
          "execution_count": 25
        }
      ]
    },
    {
      "cell_type": "markdown",
      "source": [
        "# **Array types**\n",
        "# **配列**"
      ],
      "metadata": {
        "id": "ALu1fIhRSECh"
      }
    },
    {
      "cell_type": "code",
      "source": [
        "import numpy as np\n",
        "a = 4\n",
        "print(\"a is:\",a,'\\n')\n",
        "a = np.array([3, 5], dtype=np.int64)\n",
        "print(\"a is:\\n\", a)\n",
        "print(\"shape of a is: {}\".format(a.shape))\n",
        "print(\"size of a is:{}\".format(a.size),'\\n')\n",
        "a = np.array(([1], [3]), dtype=np.int64)\n",
        "print(\"a is:\\n\", a)\n",
        "print(\"shape of a is: {}\".format(a.shape))\n",
        "print(\"size of a is:{}\".format(a.size),'\\n')\n",
        "a = np.array(([3,4,5], [6,7,8]), dtype=np.int64)\n",
        "print(\"a is:\\n\", a)\n",
        "print(\"shape of a is: {}\".format(a.shape))\n",
        "print(\"size of a is:{}\".format(a.size),'\\n')\n",
        "#[3 5]\n",
        "#[1;3]\n",
        "#[3 4 5; 6 7 8]"
      ],
      "metadata": {
        "id": "VjmTgHa1PAPr",
        "outputId": "af3c5ebe-47ab-4273-9460-9a0714ba433c",
        "colab": {
          "base_uri": "https://localhost:8080/"
        }
      },
      "execution_count": 26,
      "outputs": [
        {
          "output_type": "stream",
          "name": "stdout",
          "text": [
            "a is: 4 \n",
            "\n",
            "a is:\n",
            " [3 5]\n",
            "shape of a is: (2,)\n",
            "size of a is:2 \n",
            "\n",
            "a is:\n",
            " [[1]\n",
            " [3]]\n",
            "shape of a is: (2, 1)\n",
            "size of a is:2 \n",
            "\n",
            "a is:\n",
            " [[3 4 5]\n",
            " [6 7 8]]\n",
            "shape of a is: (2, 3)\n",
            "size of a is:6 \n",
            "\n"
          ]
        }
      ]
    },
    {
      "cell_type": "markdown",
      "source": [
        "**Evenly-spaced vectors**  \n",
        "Use np.linspace() when the exact values for the start and end points of your range are the important attributes in your application.  \n",
        "Use np.arange() when the step size between values is more important.  \n",
        "**等間隔のベクトル**  \n",
        "範囲の始点と終点の間の数を定義するならnp.linspace()  \n",
        "範囲の始点と終点の間ののステップサイズを定義するならnp.arange()\n"
      ],
      "metadata": {
        "id": "19bg2uYiT8UQ"
      }
    },
    {
      "cell_type": "code",
      "source": [
        "b= np.arange(1,5)\n",
        "print(\"use arrange:{}\".format(b),'\\n')\n",
        "b= np.arange(1,5,0.5)\n",
        "print(\"use arrange:{}\".format(b),'\\n')\n",
        "b= np.linspace(1, 10, num=5)\n",
        "print(\"use linspace:{}\".format(b),'\\n')\n",
        "b= np.random.rand(5)\n",
        "print(\"generate random number:{}\".format(b),'\\n')\n",
        "b= np.zeros((2))\n",
        "print(\"generate zero vector:{}\".format(b),'\\n')\n",
        "b= np.ones((2))\n",
        "print(\"generate one vector:{}\".format(b),'\\n')"
      ],
      "metadata": {
        "id": "rftYKrxMT-QI",
        "outputId": "0c16f0a4-8882-4a2a-a22f-1638f2438b0e",
        "colab": {
          "base_uri": "https://localhost:8080/"
        }
      },
      "execution_count": 27,
      "outputs": [
        {
          "output_type": "stream",
          "name": "stdout",
          "text": [
            "use arrange:[1 2 3 4] \n",
            "\n",
            "use arrange:[1.  1.5 2.  2.5 3.  3.5 4.  4.5] \n",
            "\n",
            "use linspace:[ 1.    3.25  5.5   7.75 10.  ] \n",
            "\n",
            "generate random number:[0.49314279 0.43343999 0.15730257 0.04774975 0.5503154 ] \n",
            "\n",
            "generate zero vector:[0. 0.] \n",
            "\n",
            "generate one vector:[1. 1.] \n",
            "\n"
          ]
        }
      ]
    },
    {
      "cell_type": "markdown",
      "source": [
        "**Creating matrices**  \n",
        "Create a square matrix with x rows and x columns.  \n",
        "**行列の作成**  \n",
        "x行x列の正方行列を作成します。\n"
      ],
      "metadata": {
        "id": "z39dGeJAVyYJ"
      }
    },
    {
      "cell_type": "code",
      "source": [
        "c= np.random.rand(2,2)\n",
        "print(\"generate random number matric:{}\".format(c),'\\n')\n",
        "c= np.zeros((3,3))\n",
        "print(\"generate zero matric:{}\".format(c),'\\n')\n",
        "c= np.ones((4,4))\n",
        "print(\"generate one matric:{}\".format(c),'\\n')\n"
      ],
      "metadata": {
        "id": "54jbaMM1Vv0T",
        "colab": {
          "base_uri": "https://localhost:8080/"
        },
        "outputId": "feac8826-154b-49b8-ec29-307313f2ca3b"
      },
      "execution_count": 28,
      "outputs": [
        {
          "output_type": "stream",
          "name": "stdout",
          "text": [
            "generate random number matric:[[0.53315447 0.11405052]\n",
            " [0.40041888 0.18445052]] \n",
            "\n",
            "generate zero matric:[[0. 0. 0.]\n",
            " [0. 0. 0.]\n",
            " [0. 0. 0.]] \n",
            "\n",
            "generate one matric:[[1. 1. 1. 1.]\n",
            " [1. 1. 1. 1.]\n",
            " [1. 1. 1. 1.]\n",
            " [1. 1. 1. 1.]] \n",
            "\n"
          ]
        }
      ]
    },
    {
      "cell_type": "markdown",
      "source": [
        "**Indexing**  \n"
      ],
      "metadata": {
        "id": "CmQHvr2vb0U5"
      }
    },
    {
      "cell_type": "code",
      "source": [
        "A = np.array(([3,4],[5,6],[7,8]), dtype=np.int64)\n",
        "print(A,'\\n')"
      ],
      "metadata": {
        "id": "0loVkb8xb4Rf",
        "colab": {
          "base_uri": "https://localhost:8080/"
        },
        "outputId": "a8ea7231-6c71-4b1a-f562-e6177801b731"
      },
      "execution_count": 29,
      "outputs": [
        {
          "output_type": "stream",
          "name": "stdout",
          "text": [
            "[[3 4]\n",
            " [5 6]\n",
            " [7 8]] \n",
            "\n"
          ]
        }
      ]
    },
    {
      "cell_type": "markdown",
      "source": [
        "Access the element in the second column of the last row.\n",
        "Please pay attention of the **index numbers** here.  \n",
        "Please note python index starts from 0.  \n",
        "\n",
        "最後の行の2列目にある要素にアクセスします。\n",
        "ここでは、**index numbers**に注意してください。  \n",
        "pythonのindexは1からではなく0から始まります。\n",
        "\n"
      ],
      "metadata": {
        "id": "fsO5xD_vcW5m"
      }
    },
    {
      "cell_type": "code",
      "source": [
        "print(A[0,0],'\\n')\n",
        "print(A[2,1],'\\n')"
      ],
      "metadata": {
        "id": "pGSneP9icYjz",
        "colab": {
          "base_uri": "https://localhost:8080/"
        },
        "outputId": "09503725-a431-4e60-b27c-5bfc6ae6479c"
      },
      "execution_count": 30,
      "outputs": [
        {
          "output_type": "stream",
          "name": "stdout",
          "text": [
            "3 \n",
            "\n",
            "8 \n",
            "\n"
          ]
        }
      ]
    },
    {
      "cell_type": "markdown",
      "source": [
        "Access the entire second row.  \n",
        "2列目全体にアクセスします。\n"
      ],
      "metadata": {
        "id": "ms2TRT_XdiqH"
      }
    },
    {
      "cell_type": "code",
      "source": [
        "print(A[1,:],'\\n')"
      ],
      "metadata": {
        "id": "blZoNTf8djQC",
        "colab": {
          "base_uri": "https://localhost:8080/"
        },
        "outputId": "b985e29d-53db-41f8-e629-7c75d7879d5e"
      },
      "execution_count": 31,
      "outputs": [
        {
          "output_type": "stream",
          "name": "stdout",
          "text": [
            "[5 6] \n",
            "\n"
          ]
        }
      ]
    },
    {
      "cell_type": "markdown",
      "source": [
        "Access all columns of the first two rows.  \n",
        "最初の2行のすべての列にアクセスします。"
      ],
      "metadata": {
        "id": "WQd-MtxpfPR9"
      }
    },
    {
      "cell_type": "code",
      "source": [
        "print(A[0:2,:],'\\n')"
      ],
      "metadata": {
        "id": "b1H8mizBfQ58",
        "colab": {
          "base_uri": "https://localhost:8080/"
        },
        "outputId": "71533e1e-aac5-47cb-c599-2a27d2e5f7bc"
      },
      "execution_count": 32,
      "outputs": [
        {
          "output_type": "stream",
          "name": "stdout",
          "text": [
            "[[3 4]\n",
            " [5 6]] \n",
            "\n"
          ]
        }
      ]
    },
    {
      "cell_type": "markdown",
      "source": [
        "Change the value of the second element an array to 11.  \n",
        "配列の2番目の要素の値を11に変更します。"
      ],
      "metadata": {
        "id": "XFHjW3EbfeI-"
      }
    },
    {
      "cell_type": "code",
      "source": [
        "A[1,0]=11\n",
        "print(A,'\\n')"
      ],
      "metadata": {
        "id": "IgwcALhHfh9H",
        "colab": {
          "base_uri": "https://localhost:8080/"
        },
        "outputId": "f4e5a6eb-9b55-45d2-c38d-26e0d1344700"
      },
      "execution_count": 33,
      "outputs": [
        {
          "output_type": "stream",
          "name": "stdout",
          "text": [
            "[[ 3  4]\n",
            " [11  6]\n",
            " [ 7  8]] \n",
            "\n"
          ]
        }
      ]
    },
    {
      "cell_type": "markdown",
      "source": [
        "**Array operations**  \n",
        "**配列の演算**\n"
      ],
      "metadata": {
        "id": "yj7TawCwf41g"
      }
    },
    {
      "cell_type": "markdown",
      "source": [
        "Matrix operations follow the rules of linear algebra and are not compatible with multidimensional arrays. The required size and shape of the inputs in relation to one another depends on the operation. For nonscalar inputs, the matrix operators generally calculate different answers than their array operator counterparts.\n",
        "\n",
        "For example, if you use the matrix multiplication operator, *, to multiply two matrices, then the matrices must have a common inner dimension. That is, the number of columns in the first input must be equal to the number of rows in the second input. The matrix multiplication operator calculates the product of two matrices with the formula:  \n",
        "$C(i,j) = \\sum\\limits_{k=1}^{n}A(i,k)B(k,j)$  \n",
        "<!-- $C(i,j) = \\sum^{n}_{k=1}A(i,k)B(k,j)$ -->  \n",
        "The product of the linear algebra of matrices A and B. The number of columns in A must be equal to the number of rows in B.  \n",
        " \n",
        "行列演算は線形代数の規則に従っており、多次元配列とは互換性がありません。必要な入力のサイズと形状は、演算によって異なります。非スカラー入力の場合、行列演算子は一般に配列演算子と異なる計算結果を出します。  \n",
        "たとえば、行列の乗算演算子 * を使って 2 つの行列を乗算する場合、その行列は共通の内部次元を持っている必要があります。つまり、最初の入力の列数は、2 番目の入力の行数と同じでなければなりません。行列の乗算演算子は，2 つの行列の積を次の式で計算します． \n",
        "$C(i,j) = \\sum\\limits_{k=1}^{n}A(i,k)B(k,j)$  \n",
        "行列 A と B の線形代数の積では、A の列数は B の行数と等しくな\n",
        "ければなりません。 "
      ],
      "metadata": {
        "id": "kZ90hMIniSOg"
      }
    },
    {
      "cell_type": "code",
      "source": [
        "a_1=np.array(([1,1],[1,1]), dtype=np.int64)\n",
        "b_1=np.array(([2,2],[2,2]), dtype=np.int64)\n",
        "print(\"a_1:\\n{}\".format(a_1),'\\n')\n",
        "print(\"b_1:\\n{}\".format(b_1),'\\n')"
      ],
      "metadata": {
        "id": "__y3ekKQf6oc",
        "colab": {
          "base_uri": "https://localhost:8080/"
        },
        "outputId": "7febdf03-639b-4055-d14d-4eb63857ce0b"
      },
      "execution_count": 34,
      "outputs": [
        {
          "output_type": "stream",
          "name": "stdout",
          "text": [
            "a_1:\n",
            "[[1 1]\n",
            " [1 1]] \n",
            "\n",
            "b_1:\n",
            "[[2 2]\n",
            " [2 2]] \n",
            "\n"
          ]
        }
      ]
    },
    {
      "cell_type": "markdown",
      "source": [
        "Perform matrix multiplication.\n"
      ],
      "metadata": {
        "id": "0S-PRHfVgNCZ"
      }
    },
    {
      "cell_type": "code",
      "source": [
        "print(np.matmul(a_1,b_1))\n"
      ],
      "metadata": {
        "id": "axNm1JEAhbEB",
        "colab": {
          "base_uri": "https://localhost:8080/"
        },
        "outputId": "4380135c-4c12-49b7-db72-cc1b1e27c9e0"
      },
      "execution_count": 35,
      "outputs": [
        {
          "output_type": "stream",
          "name": "stdout",
          "text": [
            "[[4 4]\n",
            " [4 4]]\n"
          ]
        }
      ]
    },
    {
      "cell_type": "markdown",
      "source": [
        "Perform element-wise multiplication (Array operations).  \n",
        "Array operations execute element by element operations on corresponding elements of vectors, matrices, and multidimensional arrays. If the operands have the same size, then each element in the first operand gets matched up with the element in the same location in the second operand. If the operands have compatible sizes, then each input is implicitly expanded as needed to match the size of the other.   \n",
        "要素ごとの乗算を行う（配列演算）。 \n",
        "配列演算は、ベクトル、行列、多次元配列の対応する要素について、要素ごとの演算を実行します。オペランドが同じ大きさの場合、最初のオペランドの各要素は、2 番目のオペランドの同じ位置の要素とマッチングされます。オペランドのサイズが同じであれば、各入力は必要に応じて拡張され、他方のサイズと一致するようになります。\n",
        "\n",
        "\n"
      ],
      "metadata": {
        "id": "oi2tWg1rhc8H"
      }
    },
    {
      "cell_type": "code",
      "source": [
        "print(np.multiply(a_1,b_1))\n"
      ],
      "metadata": {
        "id": "IdM9d5zlhbtc",
        "colab": {
          "base_uri": "https://localhost:8080/"
        },
        "outputId": "46a30d16-a2d5-402a-8fb1-22ab9a0bba1e"
      },
      "execution_count": 36,
      "outputs": [
        {
          "output_type": "stream",
          "name": "stdout",
          "text": [
            "[[2 2]\n",
            " [2 2]]\n"
          ]
        }
      ]
    },
    {
      "cell_type": "markdown",
      "source": [
        "**Multiple outputs**\n"
      ],
      "metadata": {
        "id": "Iv4D50z7hbZT"
      }
    },
    {
      "cell_type": "markdown",
      "source": [
        "Save the number of rows and columns in A to two different variables.  \n",
        "A の行と列の数を変数に保存します。\n",
        "\n"
      ],
      "metadata": {
        "id": "xvtKEVPYoHja"
      }
    },
    {
      "cell_type": "code",
      "source": [
        "print(A,'\\n')\n",
        "Arow, Acol = A.shape\n",
        "#print(Arow,Acol, '\\n')\n",
        "print(\"Arow is {:d} and Acol is {:d}\".format(Arow,Acol),'\\n')\n"
      ],
      "metadata": {
        "id": "36O_RJtLnQEY",
        "colab": {
          "base_uri": "https://localhost:8080/"
        },
        "outputId": "47117558-c3ca-45c1-b410-f168df9db461"
      },
      "execution_count": 37,
      "outputs": [
        {
          "output_type": "stream",
          "name": "stdout",
          "text": [
            "[[ 3  4]\n",
            " [11  6]\n",
            " [ 7  8]] \n",
            "\n",
            "Arow is 3 and Acol is 2 \n",
            "\n"
          ]
        }
      ]
    },
    {
      "cell_type": "markdown",
      "source": [
        "Calculate the maximum value of A and its corresponding index value.  \n",
        "note: start from version 1.22.0. \n",
        "np.argmax will support numpy.argmax(a, axis=None, out=None, *, keepdims=<no value>)  \n",
        "行列Aの最大値とそれに対応するインデックス値を算出する。 \n"
      ],
      "metadata": {
        "id": "BI6oGGj9oEnX"
      }
    },
    {
      "cell_type": "code",
      "source": [
        "np.__version__ "
      ],
      "metadata": {
        "colab": {
          "base_uri": "https://localhost:8080/",
          "height": 36
        },
        "id": "iGKlUwoLd5xj",
        "outputId": "866368a8-1c62-4ecc-8648-ba22de03698e"
      },
      "execution_count": 38,
      "outputs": [
        {
          "output_type": "execute_result",
          "data": {
            "text/plain": [
              "'1.21.6'"
            ],
            "application/vnd.google.colaboratory.intrinsic+json": {
              "type": "string"
            }
          },
          "metadata": {},
          "execution_count": 38
        }
      ]
    },
    {
      "cell_type": "code",
      "source": [
        "print(A,'\\n')\n",
        "AMax_1 = np.max(A)\n",
        "print('AMax_1 is\\n',AMax_1, '\\n')\n",
        "idx_1 = np.argmax(A)\n",
        "print('idx_1 is\\n',idx_1, '\\n')\n",
        "\n",
        "AMax_2=np.max(A,axis=0, keepdims=True)\n",
        "print('AMax_2 is: ', AMax_2, '\\n')\n",
        "idx_2 = np.argmax(A, axis=0)\n",
        "print('idx_2 is:\\n',idx_2, '\\n')\n",
        "\n",
        "AMax_3=np.max(A,axis=1, keepdims=True)\n",
        "print('AMax_3 is:\\n', AMax_3, '\\n')\n",
        "idx_3 = np.argmax(A, axis=1)\n",
        "print('idx_3 is:\\n',idx_3, '\\n')\n"
      ],
      "metadata": {
        "id": "LVwKMJ5VoLej",
        "colab": {
          "base_uri": "https://localhost:8080/"
        },
        "outputId": "1712f7bf-9be6-4295-d5ec-6df052906ed9"
      },
      "execution_count": 39,
      "outputs": [
        {
          "output_type": "stream",
          "name": "stdout",
          "text": [
            "[[ 3  4]\n",
            " [11  6]\n",
            " [ 7  8]] \n",
            "\n",
            "AMax_1 is\n",
            " 11 \n",
            "\n",
            "idx_1 is\n",
            " 2 \n",
            "\n",
            "AMax_2 is:  [[11  8]] \n",
            "\n",
            "idx_2 is:\n",
            " [1 2] \n",
            "\n",
            "AMax_3 is:\n",
            " [[ 4]\n",
            " [11]\n",
            " [ 8]] \n",
            "\n",
            "idx_3 is:\n",
            " [1 0 1] \n",
            "\n"
          ]
        }
      ]
    },
    {
      "cell_type": "markdown",
      "source": [
        "**Plotting**\n"
      ],
      "metadata": {
        "id": "gFZjQlestHIu"
      }
    },
    {
      "cell_type": "code",
      "source": [
        "# x = np.random.rand(5,1)\n",
        "# y = np.random.rand(5,1)\n",
        "# z = np.random.randi(5,1)\n",
        "# z = np.random.randint(1, 5, (5, 1))\n",
        "x = np.array(([1],[2],[2],[1],[1]))\n",
        "y = np.array(([1],[1],[2],[2],[1]))\n",
        "z = np.array(([5],[2],[5],[2],[5]))"
      ],
      "metadata": {
        "id": "FuQjxcxlo4n1"
      },
      "execution_count": 40,
      "outputs": []
    },
    {
      "cell_type": "markdown",
      "source": [
        "Plot a red (r) dashed (--) line with a circle (o) marker, with a heavy line width."
      ],
      "metadata": {
        "id": "2Ssi_DiZtxza"
      }
    },
    {
      "cell_type": "code",
      "source": [
        "import matplotlib.pyplot as plt\n",
        "plt.plot(x, y, color=\"r\",ls=\"-\",marker=\"o\",linewidth=3)\n",
        "# Add the next line to existing plot.\n",
        "plt.plot(x, z, color=\"g\",ls=\"-\",marker=\"*\",linewidth=1)\n",
        "plt.show()"
      ],
      "metadata": {
        "id": "RcV9_9UZty7n",
        "colab": {
          "base_uri": "https://localhost:8080/",
          "height": 265
        },
        "outputId": "9f81a2cf-be26-485e-c2ea-423456b80748"
      },
      "execution_count": 41,
      "outputs": [
        {
          "output_type": "display_data",
          "data": {
            "text/plain": [
              "<Figure size 432x288 with 1 Axes>"
            ],
            "image/png": "[encoded data removed]"
          },
          "metadata": {
            "needs_background": "light"
          }
        }
      ]
    },
    {
      "cell_type": "markdown",
      "source": [
        "Create a new axes for the next plotted line.\n"
      ],
      "metadata": {
        "id": "gOhEqrItyY9V"
      }
    },
    {
      "cell_type": "code",
      "source": [
        "plt.plot(x, z, color=\"g\",ls=\"-\",marker=\"o\",linewidth=3)\n",
        "#Add a label to a plot.\n",
        "plt.title(\"green plot of xz\")\n",
        "plt.show()\n"
      ],
      "metadata": {
        "id": "oSzrT52rwn0r",
        "colab": {
          "base_uri": "https://localhost:8080/",
          "height": 281
        },
        "outputId": "c54c366e-e851-4621-c68b-df30242b4674"
      },
      "execution_count": 42,
      "outputs": [
        {
          "output_type": "display_data",
          "data": {
            "text/plain": [
              "<Figure size 432x288 with 1 Axes>"
            ],
            "image/png": "[encoded data removed]"
          },
          "metadata": {
            "needs_background": "light"
          }
        }
      ]
    },
    {
      "cell_type": "markdown",
      "source": [
        "\n",
        "**Using tables**"
      ],
      "metadata": {
        "id": "LCcdvtVB60sU"
      }
    },
    {
      "cell_type": "code",
      "source": [
        "import pandas as pd\n",
        "import numpy as np\n",
        "Vnamec1 = np.random.rand(5,1)\n",
        "data = pd.DataFrame(Vnamec1)\n",
        "data.columns = [\"Vnamec1\"]\n",
        "data"
      ],
      "metadata": {
        "id": "RKLT7IrH609n",
        "colab": {
          "base_uri": "https://localhost:8080/",
          "height": 206
        },
        "outputId": "46b76c1a-4c7e-4836-96c4-5c319c9418bd"
      },
      "execution_count": 43,
      "outputs": [
        {
          "output_type": "execute_result",
          "data": {
            "text/plain": [
              "    Vnamec1\n",
              "0  0.423808\n",
              "1  0.684846\n",
              "2  0.463490\n",
              "3  0.704671\n",
              "4  0.327219"
            ],
            "text/html": [
              "\n",
              "  <div id=\"df-b2297416-ca24-4d74-bbd3-4d490d4d9648\">\n",
              "    <div class=\"colab-df-container\">\n",
              "      <div>\n",
              "<style scoped>\n",
              "    .dataframe tbody tr th:only-of-type {\n",
              "        vertical-align: middle;\n",
              "    }\n",
              "\n",
              "    .dataframe tbody tr th {\n",
              "        vertical-align: top;\n",
              "    }\n",
              "\n",
              "    .dataframe thead th {\n",
              "        text-align: right;\n",
              "    }\n",
              "</style>\n",
              "<table border=\"1\" class=\"dataframe\">\n",
              "  <thead>\n",
              "    <tr style=\"text-align: right;\">\n",
              "      <th></th>\n",
              "      <th>Vnamec1</th>\n",
              "    </tr>\n",
              "  </thead>\n",
              "  <tbody>\n",
              "    <tr>\n",
              "      <th>0</th>\n",
              "      <td>0.423808</td>\n",
              "    </tr>\n",
              "    <tr>\n",
              "      <th>1</th>\n",
              "      <td>0.684846</td>\n",
              "    </tr>\n",
              "    <tr>\n",
              "      <th>2</th>\n",
              "      <td>0.463490</td>\n",
              "    </tr>\n",
              "    <tr>\n",
              "      <th>3</th>\n",
              "      <td>0.704671</td>\n",
              "    </tr>\n",
              "    <tr>\n",
              "      <th>4</th>\n",
              "      <td>0.327219</td>\n",
              "    </tr>\n",
              "  </tbody>\n",
              "</table>\n",
              "</div>\n",
              "      <button class=\"colab-df-convert\" onclick=\"convertToInteractive('df-b2297416-ca24-4d74-bbd3-4d490d4d9648')\"\n",
              "              title=\"Convert this dataframe to an interactive table.\"\n",
              "              style=\"display:none;\">\n",
              "        \n",
              "  <svg xmlns=\"http://www.w3.org/2000/svg\" height=\"24px\"viewBox=\"0 0 24 24\"\n",
              "       width=\"24px\">\n",
              "    <path d=\"M0 0h24v24H0V0z\" fill=\"none\"/>\n",
              "    <path d=\"M18.56 5.44l.94 2.06.94-2.06 2.06-.94-2.06-.94-.94-2.06-.94 2.06-2.06.94zm-11 1L8.5 8.5l.94-2.06 2.06-.94-2.06-.94L8.5 2.5l-.94 2.06-2.06.94zm10 10l.94 2.06.94-2.06 2.06-.94-2.06-.94-.94-2.06-.94 2.06-2.06.94z\"/><path d=\"M17.41 7.96l-1.37-1.37c-.4-.4-.92-.59-1.43-.59-.52 0-1.04.2-1.43.59L10.3 9.45l-7.72 7.72c-.78.78-.78 2.05 0 2.83L4 21.41c.39.39.9.59 1.41.59.51 0 1.02-.2 1.41-.59l7.78-7.78 2.81-2.81c.8-.78.8-2.07 0-2.86zM5.41 20L4 18.59l7.72-7.72 1.47 1.35L5.41 20z\"/>\n",
              "  </svg>\n",
              "      </button>\n",
              "      \n",
              "  <style>\n",
              "    .colab-df-container {\n",
              "      display:flex;\n",
              "      flex-wrap:wrap;\n",
              "      gap: 12px;\n",
              "    }\n",
              "\n",
              "    .colab-df-convert {\n",
              "      background-color: #E8F0FE;\n",
              "      border: none;\n",
              "      border-radius: 50%;\n",
              "      cursor: pointer;\n",
              "      display: none;\n",
              "      fill: #1967D2;\n",
              "      height: 32px;\n",
              "      padding: 0 0 0 0;\n",
              "      width: 32px;\n",
              "    }\n",
              "\n",
              "    .colab-df-convert:hover {\n",
              "      background-color: #E2EBFA;\n",
              "      box-shadow: 0px 1px 2px rgba(60, 64, 67, 0.3), 0px 1px 3px 1px rgba(60, 64, 67, 0.15);\n",
              "      fill: #174EA6;\n",
              "    }\n",
              "\n",
              "    [theme=dark] .colab-df-convert {\n",
              "      background-color: #3B4455;\n",
              "      fill: #D2E3FC;\n",
              "    }\n",
              "\n",
              "    [theme=dark] .colab-df-convert:hover {\n",
              "      background-color: #434B5C;\n",
              "      box-shadow: 0px 1px 3px 1px rgba(0, 0, 0, 0.15);\n",
              "      filter: drop-shadow(0px 1px 2px rgba(0, 0, 0, 0.3));\n",
              "      fill: #FFFFFF;\n",
              "    }\n",
              "  </style>\n",
              "\n",
              "      <script>\n",
              "        const buttonEl =\n",
              "          document.querySelector('#df-b2297416-ca24-4d74-bbd3-4d490d4d9648 button.colab-df-convert');\n",
              "        buttonEl.style.display =\n",
              "          google.colab.kernel.accessAllowed ? 'block' : 'none';\n",
              "\n",
              "        async function convertToInteractive(key) {\n",
              "          const element = document.querySelector('#df-b2297416-ca24-4d74-bbd3-4d490d4d9648');\n",
              "          const dataTable =\n",
              "            await google.colab.kernel.invokeFunction('convertToInteractive',\n",
              "                                                     [key], {});\n",
              "          if (!dataTable) return;\n",
              "\n",
              "          const docLinkHtml = 'Like what you see? Visit the ' +\n",
              "            '<a target=\"_blank\" href=https://colab.research.google.com/notebooks/data_table.ipynb>data table notebook</a>'\n",
              "            + ' to learn more about interactive tables.';\n",
              "          element.innerHTML = '';\n",
              "          dataTable['output_type'] = 'display_data';\n",
              "          await google.colab.output.renderOutput(dataTable, element);\n",
              "          const docLink = document.createElement('div');\n",
              "          docLink.innerHTML = docLinkHtml;\n",
              "          element.appendChild(docLink);\n",
              "        }\n",
              "      </script>\n",
              "    </div>\n",
              "  </div>\n",
              "  "
            ]
          },
          "metadata": {},
          "execution_count": 43
        }
      ]
    },
    {
      "cell_type": "markdown",
      "source": [
        "Extract the variable ```Vnamec1``` from the table data.  \n",
        "テーブルデータから変数``` Vnamec1``` を取り出します。"
      ],
      "metadata": {
        "id": "NKIHT7Hg9V-C"
      }
    },
    {
      "cell_type": "code",
      "source": [
        "data.Vnamec1"
      ],
      "metadata": {
        "id": "BhZ33EML88Za",
        "colab": {
          "base_uri": "https://localhost:8080/"
        },
        "outputId": "d67a59bc-41ed-4429-ee42-d9c5fad9483c"
      },
      "execution_count": 44,
      "outputs": [
        {
          "output_type": "execute_result",
          "data": {
            "text/plain": [
              "0    0.423808\n",
              "1    0.684846\n",
              "2    0.463490\n",
              "3    0.704671\n",
              "4    0.327219\n",
              "Name: Vnamec1, dtype: float64"
            ]
          },
          "metadata": {},
          "execution_count": 44
        }
      ]
    },
    {
      "cell_type": "markdown",
      "source": [
        "Derive a table variable from existing data.  \n",
        "既存のデータからテーブル変数を導出する。"
      ],
      "metadata": {
        "id": "8yVkHuI09d8v"
      }
    },
    {
      "cell_type": "code",
      "source": [
        "data['Vnamec2'] = pd.DataFrame(data.Vnamec1*0.9144)\n",
        "data"
      ],
      "metadata": {
        "id": "jK3dZJdH9ebd",
        "colab": {
          "base_uri": "https://localhost:8080/",
          "height": 206
        },
        "outputId": "d915f795-17a1-466c-812d-5937fa1ac9c4"
      },
      "execution_count": 45,
      "outputs": [
        {
          "output_type": "execute_result",
          "data": {
            "text/plain": [
              "    Vnamec1   Vnamec2\n",
              "0  0.423808  0.387530\n",
              "1  0.684846  0.626223\n",
              "2  0.463490  0.423815\n",
              "3  0.704671  0.644351\n",
              "4  0.327219  0.299209"
            ],
            "text/html": [
              "\n",
              "  <div id=\"df-07cd1458-e9e9-4ce8-a9bc-0d5f031c126e\">\n",
              "    <div class=\"colab-df-container\">\n",
              "      <div>\n",
              "<style scoped>\n",
              "    .dataframe tbody tr th:only-of-type {\n",
              "        vertical-align: middle;\n",
              "    }\n",
              "\n",
              "    .dataframe tbody tr th {\n",
              "        vertical-align: top;\n",
              "    }\n",
              "\n",
              "    .dataframe thead th {\n",
              "        text-align: right;\n",
              "    }\n",
              "</style>\n",
              "<table border=\"1\" class=\"dataframe\">\n",
              "  <thead>\n",
              "    <tr style=\"text-align: right;\">\n",
              "      <th></th>\n",
              "      <th>Vnamec1</th>\n",
              "      <th>Vnamec2</th>\n",
              "    </tr>\n",
              "  </thead>\n",
              "  <tbody>\n",
              "    <tr>\n",
              "      <th>0</th>\n",
              "      <td>0.423808</td>\n",
              "      <td>0.387530</td>\n",
              "    </tr>\n",
              "    <tr>\n",
              "      <th>1</th>\n",
              "      <td>0.684846</td>\n",
              "      <td>0.626223</td>\n",
              "    </tr>\n",
              "    <tr>\n",
              "      <th>2</th>\n",
              "      <td>0.463490</td>\n",
              "      <td>0.423815</td>\n",
              "    </tr>\n",
              "    <tr>\n",
              "      <th>3</th>\n",
              "      <td>0.704671</td>\n",
              "      <td>0.644351</td>\n",
              "    </tr>\n",
              "    <tr>\n",
              "      <th>4</th>\n",
              "      <td>0.327219</td>\n",
              "      <td>0.299209</td>\n",
              "    </tr>\n",
              "  </tbody>\n",
              "</table>\n",
              "</div>\n",
              "      <button class=\"colab-df-convert\" onclick=\"convertToInteractive('df-07cd1458-e9e9-4ce8-a9bc-0d5f031c126e')\"\n",
              "              title=\"Convert this dataframe to an interactive table.\"\n",
              "              style=\"display:none;\">\n",
              "        \n",
              "  <svg xmlns=\"http://www.w3.org/2000/svg\" height=\"24px\"viewBox=\"0 0 24 24\"\n",
              "       width=\"24px\">\n",
              "    <path d=\"M0 0h24v24H0V0z\" fill=\"none\"/>\n",
              "    <path d=\"M18.56 5.44l.94 2.06.94-2.06 2.06-.94-2.06-.94-.94-2.06-.94 2.06-2.06.94zm-11 1L8.5 8.5l.94-2.06 2.06-.94-2.06-.94L8.5 2.5l-.94 2.06-2.06.94zm10 10l.94 2.06.94-2.06 2.06-.94-2.06-.94-.94-2.06-.94 2.06-2.06.94z\"/><path d=\"M17.41 7.96l-1.37-1.37c-.4-.4-.92-.59-1.43-.59-.52 0-1.04.2-1.43.59L10.3 9.45l-7.72 7.72c-.78.78-.78 2.05 0 2.83L4 21.41c.39.39.9.59 1.41.59.51 0 1.02-.2 1.41-.59l7.78-7.78 2.81-2.81c.8-.78.8-2.07 0-2.86zM5.41 20L4 18.59l7.72-7.72 1.47 1.35L5.41 20z\"/>\n",
              "  </svg>\n",
              "      </button>\n",
              "      \n",
              "  <style>\n",
              "    .colab-df-container {\n",
              "      display:flex;\n",
              "      flex-wrap:wrap;\n",
              "      gap: 12px;\n",
              "    }\n",
              "\n",
              "    .colab-df-convert {\n",
              "      background-color: #E8F0FE;\n",
              "      border: none;\n",
              "      border-radius: 50%;\n",
              "      cursor: pointer;\n",
              "      display: none;\n",
              "      fill: #1967D2;\n",
              "      height: 32px;\n",
              "      padding: 0 0 0 0;\n",
              "      width: 32px;\n",
              "    }\n",
              "\n",
              "    .colab-df-convert:hover {\n",
              "      background-color: #E2EBFA;\n",
              "      box-shadow: 0px 1px 2px rgba(60, 64, 67, 0.3), 0px 1px 3px 1px rgba(60, 64, 67, 0.15);\n",
              "      fill: #174EA6;\n",
              "    }\n",
              "\n",
              "    [theme=dark] .colab-df-convert {\n",
              "      background-color: #3B4455;\n",
              "      fill: #D2E3FC;\n",
              "    }\n",
              "\n",
              "    [theme=dark] .colab-df-convert:hover {\n",
              "      background-color: #434B5C;\n",
              "      box-shadow: 0px 1px 3px 1px rgba(0, 0, 0, 0.15);\n",
              "      filter: drop-shadow(0px 1px 2px rgba(0, 0, 0, 0.3));\n",
              "      fill: #FFFFFF;\n",
              "    }\n",
              "  </style>\n",
              "\n",
              "      <script>\n",
              "        const buttonEl =\n",
              "          document.querySelector('#df-07cd1458-e9e9-4ce8-a9bc-0d5f031c126e button.colab-df-convert');\n",
              "        buttonEl.style.display =\n",
              "          google.colab.kernel.accessAllowed ? 'block' : 'none';\n",
              "\n",
              "        async function convertToInteractive(key) {\n",
              "          const element = document.querySelector('#df-07cd1458-e9e9-4ce8-a9bc-0d5f031c126e');\n",
              "          const dataTable =\n",
              "            await google.colab.kernel.invokeFunction('convertToInteractive',\n",
              "                                                     [key], {});\n",
              "          if (!dataTable) return;\n",
              "\n",
              "          const docLinkHtml = 'Like what you see? Visit the ' +\n",
              "            '<a target=\"_blank\" href=https://colab.research.google.com/notebooks/data_table.ipynb>data table notebook</a>'\n",
              "            + ' to learn more about interactive tables.';\n",
              "          element.innerHTML = '';\n",
              "          dataTable['output_type'] = 'display_data';\n",
              "          await google.colab.output.renderOutput(dataTable, element);\n",
              "          const docLink = document.createElement('div');\n",
              "          docLink.innerHTML = docLinkHtml;\n",
              "          element.appendChild(docLink);\n",
              "        }\n",
              "      </script>\n",
              "    </div>\n",
              "  </div>\n",
              "  "
            ]
          },
          "metadata": {},
          "execution_count": 45
        }
      ]
    },
    {
      "cell_type": "markdown",
      "source": [
        "**Logicals**  \n",
        "**ロジック**"
      ],
      "metadata": {
        "id": "E252P4mJ-NnX"
      }
    },
    {
      "cell_type": "markdown",
      "source": [
        "Compare a vector to the value 12.  \n",
        "ベクトルの値を12と比較する。"
      ],
      "metadata": {
        "id": "RAUyyQxL-iH7"
      }
    },
    {
      "cell_type": "code",
      "source": [
        "np.array(([5,10,15]))>12"
      ],
      "metadata": {
        "id": "Quvid0Y_7uWK",
        "colab": {
          "base_uri": "https://localhost:8080/"
        },
        "outputId": "990f398d-66ee-47bc-ecb4-a271f4ea162f"
      },
      "execution_count": 46,
      "outputs": [
        {
          "output_type": "execute_result",
          "data": {
            "text/plain": [
              "array([False, False,  True])"
            ]
          },
          "metadata": {},
          "execution_count": 46
        }
      ]
    },
    {
      "cell_type": "code",
      "source": [
        "np.array(A)>12"
      ],
      "metadata": {
        "colab": {
          "base_uri": "https://localhost:8080/"
        },
        "id": "x7Ww9IvogR98",
        "outputId": "a56eb01e-21b5-496a-df9a-55eaa4694d5a"
      },
      "execution_count": 47,
      "outputs": [
        {
          "output_type": "execute_result",
          "data": {
            "text/plain": [
              "array([[False, False],\n",
              "       [False, False],\n",
              "       [False, False]])"
            ]
          },
          "metadata": {},
          "execution_count": 47
        }
      ]
    },
    {
      "cell_type": "markdown",
      "source": [
        "Extract all elements in v1 that are greater than 6.  \n",
        "v1の中で6より大きい要素を全て取り出します。\n"
      ],
      "metadata": {
        "id": "8i_QxSc1-k0s"
      }
    },
    {
      "cell_type": "code",
      "source": [
        "v1 = np.array(([5,6,10,15]))\n",
        "idx= np.where(v1 > 6)\n",
        "v1[idx]\n"
      ],
      "metadata": {
        "id": "gaFYrR-K-mFI",
        "colab": {
          "base_uri": "https://localhost:8080/"
        },
        "outputId": "eafc4ec9-d428-49c5-a14b-7a76f46fdd14"
      },
      "execution_count": 48,
      "outputs": [
        {
          "output_type": "execute_result",
          "data": {
            "text/plain": [
              "array([10, 15])"
            ]
          },
          "metadata": {},
          "execution_count": 48
        }
      ]
    },
    {
      "cell_type": "markdown",
      "source": [
        "Replace all values in x that are equal to 999 with the value 1.  \n",
        "ベクトルxの中999に等しいものをすべて1に置き換える。"
      ],
      "metadata": {
        "id": "kIROtxAmC2A6"
      }
    },
    {
      "cell_type": "code",
      "source": [
        "x = np.array(([0,3,999,2]))\n",
        "print('Original x is\\n', x, '\\n')\n",
        "idx= np.where(x == 999)\n",
        "x[idx]=1\n",
        "print('Replaced x is\\n', x, '\\n')\n"
      ],
      "metadata": {
        "id": "7hmjG64VA88s",
        "colab": {
          "base_uri": "https://localhost:8080/"
        },
        "outputId": "f7ddf7f2-486e-470d-8b56-4fa8e19ee10c"
      },
      "execution_count": 49,
      "outputs": [
        {
          "output_type": "stream",
          "name": "stdout",
          "text": [
            "Original x is\n",
            " [  0   3 999   2] \n",
            "\n",
            "Replaced x is\n",
            " [0 3 1 2] \n",
            "\n"
          ]
        }
      ]
    },
    {
      "cell_type": "markdown",
      "source": [
        "**Programming**  \n",
        "**プログラミング練習**\n",
        "\n"
      ],
      "metadata": {
        "id": "hEUI_Z1oDbFb"
      }
    },
    {
      "cell_type": "code",
      "source": [
        "import pandas as pd\n",
        "import numpy as np\n",
        "x = np.random.rand(1)\n",
        "print(x)"
      ],
      "metadata": {
        "id": "7TTDSTG_DeYf",
        "colab": {
          "base_uri": "https://localhost:8080/"
        },
        "outputId": "dd9f243b-825b-42e6-d59a-c155dd9cb362"
      },
      "execution_count": 50,
      "outputs": [
        {
          "output_type": "stream",
          "name": "stdout",
          "text": [
            "[0.11293362]\n"
          ]
        }
      ]
    },
    {
      "cell_type": "markdown",
      "source": [
        "If x is greater than 0.5, set the value of y to 3. Otherwise, set the value of y to 4.  \n",
        "xが0.5より大きい場合はyの値を3、それ以外の場合はyの値を4とする。"
      ],
      "metadata": {
        "id": "m9oQIZZJDp6A"
      }
    },
    {
      "cell_type": "code",
      "source": [
        "if x>0.5:\n",
        "  y=3\n",
        "else:\n",
        "  y=4\n",
        "print(y)"
      ],
      "metadata": {
        "id": "3MtEZZYXDrAE",
        "colab": {
          "base_uri": "https://localhost:8080/"
        },
        "outputId": "3964c0fa-080c-4866-b0d1-fb5ecd3b3f2d"
      },
      "execution_count": 52,
      "outputs": [
        {
          "output_type": "stream",
          "name": "stdout",
          "text": [
            "4\n"
          ]
        }
      ]
    },
    {
      "cell_type": "markdown",
      "source": [
        "The loop counter (c) progresses through the values 1:3 (1, 2, and 3). The loop body displays each value of c.  \n",
        "ループカウンタ（c）は、1：3（1、2、3）の値で進行する。ループ本体は、cの各値を表示する。\n"
      ],
      "metadata": {
        "id": "RVJih9EzEids"
      }
    },
    {
      "cell_type": "code",
      "source": [
        "for c in range(3):\n",
        "    print(c)"
      ],
      "metadata": {
        "id": "auGwATHBEjaj",
        "colab": {
          "base_uri": "https://localhost:8080/"
        },
        "outputId": "cab3c197-cca7-4f4e-db91-140d59059933"
      },
      "execution_count": 53,
      "outputs": [
        {
          "output_type": "stream",
          "name": "stdout",
          "text": [
            "0\n",
            "1\n",
            "2\n"
          ]
        }
      ]
    },
    {
      "cell_type": "code",
      "source": [
        "sum100=0\n",
        "for c in range(1,101):\n",
        "    sum100=sum100+c\n",
        "print(sum100)"
      ],
      "metadata": {
        "id": "UWuF3dNSE9dB",
        "colab": {
          "base_uri": "https://localhost:8080/"
        },
        "outputId": "3e9f2243-deda-4b89-9264-c6b7ee476c39"
      },
      "execution_count": 54,
      "outputs": [
        {
          "output_type": "stream",
          "name": "stdout",
          "text": [
            "5050\n"
          ]
        }
      ]
    }
  ]
}