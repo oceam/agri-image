{
  "nbformat": 4,
  "nbformat_minor": 0,
  "metadata": {
    "colab": {
      "name": "Googlecolab_fundamentals_4_jp.ipynb",
      "provenance": [],
      "include_colab_link": true
    },
    "kernelspec": {
      "name": "python3",
      "display_name": "Python 3"
    },
    "language_info": {
      "name": "python"
    },
    "gpuClass": "standard",
    "accelerator": "GPU"
  },
  "cells": [
    {
      "cell_type": "markdown",
      "metadata": {
        "id": "view-in-github",
        "colab_type": "text"
      },
      "source": [
        "<a href=\"https://colab.research.google.com/github/oceam/agri-image/blob/main/codes/Googlecolab_fundamentals_4_jp.ipynb\" target=\"_parent\"><img src=\"https://colab.research.google.com/assets/colab-badge.svg\" alt=\"Open In Colab\"/></a>"
      ]
    },
    {
      "cell_type": "markdown",
      "source": [
        "# Googlecolab_fundamentals_4\n",
        "Fundamentals of Read, process and save image.   \n",
        "画像の読み取り、処理、保存の基礎。\n",
        "\n",
        "Wei Guo  \n",
        "2022.08.26->2023.08.31"
      ],
      "metadata": {
        "id": "UCW9TjRUhACA"
      }
    },
    {
      "cell_type": "markdown",
      "source": [
        "# Acess the image data"
      ],
      "metadata": {
        "id": "GGrTZ-RdKYvq"
      }
    },
    {
      "cell_type": "markdown",
      "source": [
        "The images that needed to be processed can be saved at:\n",
        "\n",
        "\n",
        "1.   You local disk\n",
        "2.   Third party cloud server\n",
        "3.   You google driver\n",
        "\n"
      ],
      "metadata": {
        "id": "yoKP51hYKHmX"
      }
    },
    {
      "cell_type": "markdown",
      "source": [
        "## Uploading files from your local disk to colab\n",
        "You can upload your file from local disk by drag to \"Files\" or use command.\n",
        "`files.upload` returns a dictionary of the files which were uploaded.\n",
        "The dictionary is keyed by the file name and values are the data which were uploaded."
      ],
      "metadata": {
        "id": "5HqQzUN6LGRZ"
      }
    },
    {
      "cell_type": "code",
      "source": [
        "from google.colab import files\n",
        "\n",
        "uploaded = files.upload()\n",
        "\n",
        "for fn in uploaded.keys():\n",
        "  print('User uploaded file \"{name}\" with length {length} bytes'.format(\n",
        "      name=fn, length=len(uploaded[fn])))"
      ],
      "metadata": {
        "id": "GTHZNQTwLOMH"
      },
      "execution_count": null,
      "outputs": []
    },
    {
      "cell_type": "markdown",
      "source": [
        "It is not efficient for sure!"
      ],
      "metadata": {
        "id": "mZ1w4_IcLeeP"
      }
    },
    {
      "cell_type": "markdown",
      "source": [
        "## Downloading files from thrid party could server to colab  \n",
        "You can also download the files that saved at a cloud server.\n",
        "e.g. google driver, dropbox, etc.  \n",
        "Now you can also ask `Gemini` how to do it quickly.\n",
        "\n"
      ],
      "metadata": {
        "id": "jXwQ8GViLebL"
      }
    },
    {
      "cell_type": "code",
      "source": [
        "# download file from dropbox\n",
        "\n",
        "!wget https://www.dropbox.com/s/eoa5vtygc8til9p/soybean_s.zip\n"
      ],
      "metadata": {
        "id": "40Erza3sTJNR"
      },
      "execution_count": null,
      "outputs": []
    },
    {
      "cell_type": "code",
      "source": [
        "# download file from google drive\n",
        "# file link: https://drive.google.com/file/d/14794wG4rU-7nKsNhH7WJBdyL9zLlfv-7/view?usp=sharing\n",
        "# download link(when you click download): https://drive.google.com/u/1/uc?id=14794wG4rU-7nKsNhH7WJBdyL9zLlfv-7&export=download\n",
        "# use id from download link\n",
        "!gdown --id 14794wG4rU-7nKsNhH7WJBdyL9zLlfv-7"
      ],
      "metadata": {
        "id": "no1Zsn2nTZvK"
      },
      "execution_count": null,
      "outputs": []
    },
    {
      "cell_type": "code",
      "source": [
        "import gdown\n",
        "\n",
        "# a file\n",
        "url = \"https://drive.google.com/u/1/uc?id=14794wG4rU-7nKsNhH7WJBdyL9zLlfv-7\"\n",
        "output1 = \"soybean_s1.zip\"\n",
        "gdown.download(url, output1, quiet=False)"
      ],
      "metadata": {
        "id": "OXmd0oOcULmh"
      },
      "execution_count": null,
      "outputs": []
    },
    {
      "cell_type": "code",
      "source": [
        "# same as the above, but with the file ID\n",
        "id = \"14794wG4rU-7nKsNhH7WJBdyL9zLlfv-7\"\n",
        "output2= \"soybean_s2.zip\"\n",
        "gdown.download(id=id, output=output2, quiet=False)"
      ],
      "metadata": {
        "id": "I0E_3-g6VIYK"
      },
      "execution_count": null,
      "outputs": []
    },
    {
      "cell_type": "code",
      "source": [
        "# same as the above, and you can copy-and-paste a URL from Google Drive with fuzzy=True\n",
        "url = \"https://drive.google.com/file/d/14794wG4rU-7nKsNhH7WJBdyL9zLlfv-7/view?usp=sharing\"\n",
        "output3= \"soybean_s3.zip\"\n",
        "gdown.download(url=url, output=output3, quiet=False, fuzzy=True)"
      ],
      "metadata": {
        "id": "IMSwLxAOVJlW"
      },
      "execution_count": null,
      "outputs": []
    },
    {
      "cell_type": "code",
      "source": [
        "# lets see what we got from download\n",
        "!unzip soybean_s3.zip"
      ],
      "metadata": {
        "id": "eexbVNKEWCab"
      },
      "execution_count": null,
      "outputs": []
    },
    {
      "cell_type": "markdown",
      "source": [
        "## Mount your google driver to colab  \n",
        "You can access files in Drive in a number of ways, including:\n",
        "- Mounting your Google Drive in the runtime's virtual machine\n",
        "- Using a wrapper around the API such as [PyDrive](https://pythonhosted.org/PyDrive/)\n",
        "- Using the [native REST API](https://developers.google.com/drive/v3/web/about-sdk)"
      ],
      "metadata": {
        "id": "OWw6voppLeYU"
      }
    },
    {
      "cell_type": "markdown",
      "source": [
        "**Mounting Google Drive locally**\n",
        "The example below shows how to mount your Google Drive on your runtime using an authorization code, and how to write and read files there.  \n",
        "\n",
        "This only supports reading, writing, and moving files; to programmatically modify sharing settings or other metadata, use one of the other options.  \n",
        "\n",
        "**Note:** When using the 'Mount Drive' button in the file browser, no authentication codes are necessary for notebooks that have only been edited by the current user.\n",
        "\n",
        "Google ドライブをローカルにマウントする\n",
        "\n",
        "以下の例では、認証コードを使用してランタイム上に Google ドライブをマウントする方法と、そのドライブでファイルを読み書きする方法を示します。\n",
        "\n",
        "この例では、ファイルの読み取り、書き込み、移動のみに対応しています。共有設定や他のメタデータをプログラムから変更するには、下記の他の方法を使用してください。\n",
        "\n",
        "<strong>注:</strong> ファイル ブラウザで &#91;ドライブをマウント&#93; ボタンを使用する場合、現在のユーザーのみに編集されたノートブックについては認証コードは必要ありません。"
      ],
      "metadata": {
        "id": "Lt7z4hpQLeVJ"
      }
    },
    {
      "cell_type": "code",
      "source": [
        "from google.colab import drive\n",
        "drive.mount('/content/drive')"
      ],
      "metadata": {
        "id": "Hb44cYTaXOrF"
      },
      "execution_count": null,
      "outputs": []
    },
    {
      "cell_type": "markdown",
      "source": [
        "# Process/preprocess the image data\n",
        "lets try to process the images\n"
      ],
      "metadata": {
        "id": "kR5i-MmqamfX"
      }
    },
    {
      "cell_type": "code",
      "source": [
        "# read and show one image\n",
        "from skimage import io\n",
        "import os\n",
        "imgname= os.path.join('soybean_s', 'C5_086.JPG')\n",
        "I=io.imread(imgname)\n",
        "io.imshow(I)"
      ],
      "metadata": {
        "id": "mbTIpE83de3F"
      },
      "execution_count": null,
      "outputs": []
    },
    {
      "cell_type": "code",
      "source": [
        "# read and show multiple image\n",
        "imgfolder=r'soybean_s'\n",
        "for image in os.listdir(imgfolder):\n",
        " print(image)"
      ],
      "metadata": {
        "id": "NHrEuZ_7g5AJ"
      },
      "execution_count": null,
      "outputs": []
    },
    {
      "cell_type": "code",
      "source": [
        "# or use glob to get list of images\n",
        "import glob\n",
        "from skimage import io\n",
        "img_list = glob.glob(r'soybean_s/*.JPG')\n",
        "print(img_list)"
      ],
      "metadata": {
        "id": "HA4pb_ZXiRUw"
      },
      "execution_count": null,
      "outputs": []
    },
    {
      "cell_type": "markdown",
      "source": [
        "The `io` module provides a method named imread_collection() which accepts a list of files to be read from disk or Unix style path matching pattern. It does not load all images immediately in memory but it reads image only when its called, till then it just maintains a list of image names as an array."
      ],
      "metadata": {
        "id": "QAWMOObKlpAJ"
      }
    },
    {
      "cell_type": "code",
      "source": [
        "img_list = io.imread_collection(\"soybean_s/*.JPG\")\n",
        "img_list.files"
      ],
      "metadata": {
        "id": "XWgtVvfylkKM"
      },
      "execution_count": null,
      "outputs": []
    },
    {
      "cell_type": "code",
      "source": [
        "for idx, image in enumerate(img_list):\n",
        "    print(\"Image %d Size : \"%(idx+1), image.shape)"
      ],
      "metadata": {
        "id": "ArknV5Hml9qR"
      },
      "execution_count": null,
      "outputs": []
    },
    {
      "cell_type": "code",
      "source": [
        "# io.imshow_collection  to display multipy images respectively.\n",
        "fig = io.imshow_collection(img_list);\n",
        "fig.set_figwidth(20)\n",
        "fig.set_figheight(10)"
      ],
      "metadata": {
        "id": "4Ldg5p5vmNyc"
      },
      "execution_count": null,
      "outputs": []
    },
    {
      "cell_type": "code",
      "source": [
        "from skimage.util import crop\n",
        "# crop(img,length, width, rgb)\n",
        "# インデックスで上から150〜下から(3456-1300-150)の区間が切り取られることになる。\n",
        "im_crop=crop(I,((150,(3456-1300-150)),(1300,(5184-1500-1300)),(0,0)))\n",
        "io.imshow(im_crop)\n",
        "im_crop.shape"
      ],
      "metadata": {
        "id": "zIODE7HLqEP0"
      },
      "execution_count": null,
      "outputs": []
    },
    {
      "cell_type": "code",
      "source": [
        "savepath = 'soybean_s_c/'\n",
        "# Check whether the specified path exists or not\n",
        "isExist = os.path.exists(savepath)\n",
        "if not isExist:\n",
        "  # Create a new directory because it does not exist\n",
        "  os.makedirs(savepath)\n",
        "  print('Created path for save')"
      ],
      "metadata": {
        "id": "OxM9yf_oxAKd"
      },
      "execution_count": null,
      "outputs": []
    },
    {
      "cell_type": "code",
      "source": [
        "# Once all the paths are retrieved, read the images one by one in a loop.\n",
        "from skimage.util import crop\n",
        "im_crop_list = []\n",
        "for imgname in img_list.files:\n",
        "    im = io.imread(imgname)\n",
        "    # crop(img,length, width, rgb)\n",
        "    im_crop=crop(im,((150,(3456-1300-150)),(1300,(5184-1500-1300)),(0,0)))\n",
        "    im_crop_list.append(im_crop)\n",
        "    c_imgname=savepath+imgname[10:-4]+'_c.JPG'\n",
        "    io.imsave(c_imgname,im_crop)"
      ],
      "metadata": {
        "id": "jK6trNV5oEo1"
      },
      "execution_count": null,
      "outputs": []
    },
    {
      "cell_type": "code",
      "source": [
        "fig = io.imshow_collection(im_crop_list);\n",
        "fig.set_figwidth(20)\n",
        "fig.set_figheight(10)"
      ],
      "metadata": {
        "id": "2MloH5ifyTqD"
      },
      "execution_count": null,
      "outputs": []
    },
    {
      "cell_type": "markdown",
      "source": [
        "# Save the image data\n",
        "\n",
        "Save the processed image data by:\n",
        "1.   Download to local disk\n",
        "2.   Save to mounted google drive\n",
        "\n"
      ],
      "metadata": {
        "id": "gbuDOs6azF27"
      }
    },
    {
      "cell_type": "code",
      "source": [
        "!zip -r /content/soybean_s_c.zip /content/soybean_s_c"
      ],
      "metadata": {
        "id": "JU3PVHi3zabe"
      },
      "execution_count": null,
      "outputs": []
    },
    {
      "cell_type": "code",
      "source": [
        "# or just right click the file that want to download\n",
        "from google.colab import files\n",
        "files.download('/content/soybean_s_c.zip')"
      ],
      "metadata": {
        "id": "PZ25LIhC0EsX"
      },
      "execution_count": null,
      "outputs": []
    },
    {
      "cell_type": "code",
      "source": [
        "# copy to google drive to save\n",
        "import shutil\n",
        "shutil.copyfile('/content/soybean_s_c.zip', '/content/drive/MyDrive/Lecture2022/image-py/imgfundamentals/soybean_s_c.zip')\n"
      ],
      "metadata": {
        "id": "xlFmKGmE0xJd"
      },
      "execution_count": null,
      "outputs": []
    }
  ]
}