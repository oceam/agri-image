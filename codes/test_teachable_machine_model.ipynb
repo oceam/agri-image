{
  "nbformat": 4,
  "nbformat_minor": 0,
  "metadata": {
    "colab": {
      "provenance": [],
      "collapsed_sections": [],
      "authorship_tag": "ABX9TyMIeLZxSDHPe24wxNsmNbIN",
      "include_colab_link": true
    },
    "kernelspec": {
      "name": "python3",
      "display_name": "Python 3"
    },
    "language_info": {
      "name": "python"
    }
  },
  "cells": [
    {
      "cell_type": "markdown",
      "metadata": {
        "id": "view-in-github",
        "colab_type": "text"
      },
      "source": [
        "<a href=\"https://colab.research.google.com/github/oceam/agri-image/blob/main/codes/test_teachable_machine_model.ipynb\" target=\"_parent\"><img src=\"https://colab.research.google.com/assets/colab-badge.svg\" alt=\"Open In Colab\"/></a>"
      ]
    },
    {
      "cell_type": "markdown",
      "source": [
        "First, Please bring your model from Google Teachable Machine  \n",
        "the name of your model should like \"keras_model.h5\""
      ],
      "metadata": {
        "id": "pyOM993Ft1Tu"
      }
    },
    {
      "cell_type": "code",
      "source": [
        "from keras.models import load_model\n",
        "from PIL import Image, ImageOps\n",
        "import numpy as np"
      ],
      "metadata": {
        "id": "PdYTVyb0nBk1"
      },
      "execution_count": 1,
      "outputs": []
    },
    {
      "cell_type": "code",
      "source": [
        "# Load the model\n",
        "model = load_model('keras_model.h5')\n"
      ],
      "metadata": {
        "colab": {
          "base_uri": "https://localhost:8080/"
        },
        "id": "KUGCSaXRnFG0",
        "outputId": "7dd7ae5d-2d27-4c95-c940-db470d9cf1b1"
      },
      "execution_count": 2,
      "outputs": [
        {
          "output_type": "stream",
          "name": "stderr",
          "text": [
            "WARNING:tensorflow:No training configuration found in the save file, so the model was *not* compiled. Compile it manually.\n"
          ]
        }
      ]
    },
    {
      "cell_type": "code",
      "source": [
        "# check your model\n",
        "model.summary()"
      ],
      "metadata": {
        "colab": {
          "base_uri": "https://localhost:8080/"
        },
        "id": "vFIcsEULnLr-",
        "outputId": "191ed99f-147a-407e-92b1-ba51bd2aa849"
      },
      "execution_count": 4,
      "outputs": [
        {
          "output_type": "stream",
          "name": "stdout",
          "text": [
            "Model: \"sequential_5\"\n",
            "_________________________________________________________________\n",
            " Layer (type)                Output Shape              Param #   \n",
            "=================================================================\n",
            " sequential_2 (Sequential)   (None, 1280)              410208    \n",
            "                                                                 \n",
            " sequential_4 (Sequential)   (None, 9)                 129000    \n",
            "                                                                 \n",
            "=================================================================\n",
            "Total params: 539,208\n",
            "Trainable params: 525,128\n",
            "Non-trainable params: 14,080\n",
            "_________________________________________________________________\n"
          ]
        }
      ]
    },
    {
      "cell_type": "code",
      "execution_count": 5,
      "metadata": {
        "colab": {
          "base_uri": "https://localhost:8080/"
        },
        "id": "psSVh4t0mqes",
        "outputId": "104c1c58-94f7-40ae-f181-65d6701db218"
      },
      "outputs": [
        {
          "output_type": "stream",
          "name": "stdout",
          "text": [
            "[[9.9997437e-01 7.5814329e-12 9.8316541e-08 2.8282374e-10 3.3747033e-12\n",
            "  2.7553929e-12 2.5480953e-05 2.4418332e-11 3.1085074e-12]]\n"
          ]
        }
      ],
      "source": [
        "# Create the array of the right shape to feed into the keras model\n",
        "# The 'length' or number of images you can put into the array is\n",
        "# determined by the first position in the shape tuple, in this case 1.\n",
        "data = np.ndarray(shape=(1, 224, 224, 3), dtype=np.float32)\n",
        "# Replace this with the path to your image\n",
        "image = Image.open('/content/dsc_0248_american_skunk_cabbage_2_by_png.rf.a5ab31b1817eaf595363085cc7ae5adc.jpg')\n",
        "#resize the image to a 224x224 with the same strategy as in TM2:\n",
        "#resizing the image to be at least 224x224 and then cropping from the center\n",
        "size = (224, 224)\n",
        "image = ImageOps.fit(image, size, Image.ANTIALIAS)\n",
        "\n",
        "#turn the image into a numpy array\n",
        "image_array = np.asarray(image)\n",
        "# Normalize the image\n",
        "normalized_image_array = (image_array.astype(np.float32) / 127.0) - 1\n",
        "# Load the image into the array\n",
        "data[0] = normalized_image_array\n",
        "\n",
        "# run the inference\n",
        "prediction = model.predict(data)\n",
        "print(prediction)\n",
        "\n"
      ]
    },
    {
      "cell_type": "code",
      "source": [
        "judge_idx=np.argmax(prediction)"
      ],
      "metadata": {
        "id": "n7iNobWhoMqj"
      },
      "execution_count": 8,
      "outputs": []
    },
    {
      "cell_type": "code",
      "source": [
        "classname=['American skunk cabbage','Chilean rhubarb','Curly waterweed','Floating pennywort','Giant hogweed','Himalayan balsam','Non-invasive','Nuttallâs waterweed','Parrotâs feather']"
      ],
      "metadata": {
        "id": "vB2WduIzoUKI"
      },
      "execution_count": 7,
      "outputs": []
    },
    {
      "cell_type": "code",
      "source": [
        "print('the answer is :', classname[judge_idx])"
      ],
      "metadata": {
        "colab": {
          "base_uri": "https://localhost:8080/"
        },
        "id": "_Xjt-fRLpAos",
        "outputId": "ebb8419d-cc3f-4b85-d6ea-fe898425baae"
      },
      "execution_count": 10,
      "outputs": [
        {
          "output_type": "stream",
          "name": "stdout",
          "text": [
            "the answer is : American skunk cabbage\n"
          ]
        }
      ]
    },
    {
      "cell_type": "markdown",
      "source": [
        "Creat a new folder, may be call it \"test\"  \n",
        "then upload the test images that you want to check."
      ],
      "metadata": {
        "id": "eAsnA-Pnuv4u"
      }
    },
    {
      "cell_type": "code",
      "source": [
        "import os\n",
        "# read and show multiple image \n",
        "imgfolder=r'test/'\n",
        "for image in os.listdir(imgfolder):\n",
        " print(image)"
      ],
      "metadata": {
        "colab": {
          "base_uri": "https://localhost:8080/"
        },
        "id": "nzd0_T_ypeBp",
        "outputId": "aa52c193-4b19-4355-8a78-fc326b62cd43"
      },
      "execution_count": 12,
      "outputs": [
        {
          "output_type": "stream",
          "name": "stdout",
          "text": [
            "044AmerSkunkCabbageSavillGdnsMay13_jpg.rf.dcc90361229e29aa7f969dd16bec20dd.jpg\n",
            "793b2_jpg.rf.d67e1ff058c656c57badefa52bcfc4fd.jpg\n",
            "2011_0421SpringMooseRRflowers0011_jpg.rf.cb54690d89e1e5ab0dfe276a4b0eef99.jpg\n",
            "dsc_0248_american_skunk_cabbage_2_by_png.rf.a5ab31b1817eaf595363085cc7ae5adc.jpg\n"
          ]
        }
      ]
    },
    {
      "cell_type": "code",
      "source": [
        "from skimage import io\n",
        "img_list = io.imread_collection(\"test/*.jpg\")\n",
        "img_list.files"
      ],
      "metadata": {
        "colab": {
          "base_uri": "https://localhost:8080/"
        },
        "id": "E8b2_ZOorwN9",
        "outputId": "dbd3ecff-a22b-43f6-bd6e-45a7cf57fa75"
      },
      "execution_count": 21,
      "outputs": [
        {
          "output_type": "execute_result",
          "data": {
            "text/plain": [
              "['test/044AmerSkunkCabbageSavillGdnsMay13_jpg.rf.dcc90361229e29aa7f969dd16bec20dd.jpg',\n",
              " 'test/793b2_jpg.rf.d67e1ff058c656c57badefa52bcfc4fd.jpg',\n",
              " 'test/2011_0421SpringMooseRRflowers0011_jpg.rf.cb54690d89e1e5ab0dfe276a4b0eef99.jpg',\n",
              " 'test/48168530642_79d8b1e182_b_jpg.rf.0669917b9facb8a69ec54fc4086f4307.jpg',\n",
              " 'test/DSC_0058-scaled_jpg.rf.e43df5fbc41b97eaeb15d2e375bf8a4e.jpg',\n",
              " 'test/PUB0009081_673674_jpg.rf.1952ea7ae26dc45a2e6e4bb66011ba5e.jpg',\n",
              " 'test/dsc_0248_american_skunk_cabbage_2_by_png.rf.a5ab31b1817eaf595363085cc7ae5adc.jpg',\n",
              " 'test/himalayan-balsam-9_jpg.rf.6848b184e7fae899a11cf60017f4c764.jpg',\n",
              " 'test/himalayan-balsam-16_jpg.rf.0af4519b87b7dd702fe2a4f0dae894cd.jpg',\n",
              " 'test/o_1bp0ncsa5olfcupuc951oqim8_jpg.rf.e7257e5a6954bbf3bbae5da22928483d.jpg',\n",
              " 'test/p38_20180704_pp_1706-1_jpg.rf.5236f8c80ad4c7a3067e4510448a49f6.jpg']"
            ]
          },
          "metadata": {},
          "execution_count": 21
        }
      ]
    },
    {
      "cell_type": "markdown",
      "source": [
        "Check if you model works good for test image."
      ],
      "metadata": {
        "id": "ozckOcQWurdz"
      }
    },
    {
      "cell_type": "code",
      "source": [
        "from keras.models import load_model\n",
        "from PIL import Image, ImageOps\n",
        "import numpy as np\n",
        "\n",
        "for img_name in img_list.files:\n",
        "  image = Image.open(img_name)\n",
        "  #resize the image to a 224x224 with the same strategy as in TM2:\n",
        "  #resizing the image to be at least 224x224 and then cropping from the center\n",
        "  size = (224, 224)\n",
        "  image = ImageOps.fit(image, size, Image.ANTIALIAS)\n",
        "  #turn the image into a numpy array\n",
        "  image_array = np.asarray(image)\n",
        "  # Normalize the image\n",
        "  normalized_image_array = (image_array.astype(np.float32) / 127.0) - 1\n",
        "  # Load the image into the array\n",
        "  data[0] = normalized_image_array\n",
        "  # run the inference\n",
        "  prediction = model.predict(data)\n",
        "  judge_idx=np.argmax(prediction)\n",
        "  print('the answer is :', classname[judge_idx])"
      ],
      "metadata": {
        "colab": {
          "base_uri": "https://localhost:8080/"
        },
        "id": "T0c3GfczqIzg",
        "outputId": "d3b09a58-01b4-4f31-ef09-998c23f431ba"
      },
      "execution_count": 22,
      "outputs": [
        {
          "output_type": "stream",
          "name": "stdout",
          "text": [
            "the answer is : American skunk cabbage\n",
            "the answer is : American skunk cabbage\n",
            "the answer is : American skunk cabbage\n",
            "the answer is : Non-invasive\n",
            "the answer is : Non-invasive\n",
            "the answer is : Himalayan balsam\n",
            "the answer is : American skunk cabbage\n",
            "the answer is : Himalayan balsam\n",
            "the answer is : Himalayan balsam\n",
            "the answer is : Non-invasive\n",
            "the answer is : Giant hogweed\n"
          ]
        }
      ]
    }
  ]
}