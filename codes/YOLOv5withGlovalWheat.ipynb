{
  "cells": [
    {
      "cell_type": "markdown",
      "metadata": {
        "id": "view-in-github",
        "colab_type": "text"
      },
      "source": [
        "<a href=\"https://colab.research.google.com/github/oceam/agri-image/blob/main/codes/YOLOv5withGlovalWheat.ipynb\" target=\"_parent\"><img src=\"https://colab.research.google.com/assets/colab-badge.svg\" alt=\"Open In Colab\"/></a>"
      ]
    },
    {
      "cell_type": "markdown",
      "source": [
        "Detecte wheat head use YOLOv5  \n",
        "Masanori Ishii & Wei Guo  \n",
        "2022.08.26  \n",
        "**Note:** dataset used here is [Global Wheat HEAd deTection (Global WHEAT) Dataset](http://www.global-wheat.com/)"
      ],
      "metadata": {
        "id": "hZRBb3XsmEC2"
      }
    },
    {
      "cell_type": "markdown",
      "metadata": {
        "id": "7mGmQbAO5pQb"
      },
      "source": [
        "# Setup\n",
        "\n",
        "Clone repo, install dependencies and check PyTorch and GPU."
      ]
    },
    {
      "cell_type": "markdown",
      "metadata": {
        "id": "HvhYZrIZCEyo"
      },
      "source": [
        "<img src=\"https://user-images.githubusercontent.com/26833433/98702494-b71c4e80-237a-11eb-87ed-17fcd6b3f066.jpg\">\n",
        "\n",
        "This notebook was written by Ultralytics LLC, and is freely available for redistribution under the [GPL-3.0 license](https://choosealicense.com/licenses/gpl-3.0/). \n",
        "For more information please visit https://github.com/ultralytics/yolov5 and https://www.ultralytics.com."
      ]
    },
    {
      "cell_type": "code",
      "execution_count": null,
      "metadata": {
        "id": "sYcoS85ngmLq"
      },
      "outputs": [],
      "source": [
        "# !git clone https://github.com/NikaMasa51/yolov5  # clone repo\n",
        "!git clone https://github.com/ultralytics/yolov5\n",
        "%cd yolov5\n",
        "%pip install -qr requirements.txt  # install dependencies\n",
        "\n",
        "import torch\n",
        "from IPython.display import Image, clear_output  # to display images\n",
        "\n",
        "clear_output()\n",
        "print(f\"Setup complete. Using torch {torch.__version__} ({torch.cuda.get_device_properties(0).name if torch.cuda.is_available() else 'CPU'})\")"
      ]
    },
    {
      "cell_type": "markdown",
      "metadata": {
        "id": "NCQh_T0zLntu"
      },
      "source": [
        "# Download data"
      ]
    },
    {
      "cell_type": "markdown",
      "metadata": {
        "id": "J3RWUUGik0Nr"
      },
      "source": [
        "Download datasets"
      ]
    },
    {
      "cell_type": "code",
      "execution_count": null,
      "metadata": {
        "id": "ZfiOnOr2Ttg2"
      },
      "outputs": [],
      "source": [
        "import gdown\n",
        "# GWHD small dataset 3G\n",
        "url = \"https://drive.google.com/file/d/1G0qsbEYMK6kbC9B9aRhkSrmyyeEJEeYC/view?usp=sharing\"\n",
        "output1 = \"datasets100.zip\"\n",
        "gdown.download(url, output1, quiet=False, fuzzy=True)\n",
        "!unzip datasets100.zip -d ../\n",
        "print(\"unzip datasets100\")"
      ]
    },
    {
      "cell_type": "markdown",
      "metadata": {
        "id": "BlRfRZ4FaTTc"
      },
      "source": [
        "Download yaml file"
      ]
    },
    {
      "cell_type": "code",
      "execution_count": null,
      "metadata": {
        "id": "xPiGHPw6b2ZV"
      },
      "outputs": [],
      "source": [
        "import gdown\n",
        "# a file\n",
        "url = \"https://drive.google.com/file/d/1-ILg4BW5U2slRvEa2hPXXN7_KhqMMgm2/view?usp=sharing\"\n",
        "output1 = \"./data/GlobalWheat2020_coco.yaml\"\n",
        "gdown.download(url, output1, quiet=False, fuzzy=True)\n",
        "print(\"Download GlobalWheat2020_coco.yaml\")"
      ]
    },
    {
      "cell_type": "markdown",
      "metadata": {
        "id": "0CZXjdxletaB"
      },
      "source": [
        "Download runs(予め学習済みのweightを取得)"
      ]
    },
    {
      "cell_type": "code",
      "execution_count": null,
      "metadata": {
        "id": "9aCqHenwakzP"
      },
      "outputs": [],
      "source": [
        "import gdown\n",
        "\n",
        "# a file\n",
        "url = \"https://drive.google.com/file/d/1-4gHcZXwcf1FcFyWaVzN84F5nzICOaW9/view?usp=sharing\"\n",
        "output1 = \"runs.zip\"\n",
        "gdown.download(url, output1, quiet=False, fuzzy=True)\n",
        "!unzip runs.zip\n",
        "print(\"unzip runs\")"
      ]
    },
    {
      "cell_type": "markdown",
      "metadata": {
        "id": "6gWEdpQ6tv4G"
      },
      "source": [
        "・Dataset images"
      ]
    },
    {
      "cell_type": "code",
      "execution_count": null,
      "metadata": {
        "id": "hp5n6m-AM6cX"
      },
      "outputs": [],
      "source": [
        "import os\n",
        "import glob\n",
        "import matplotlib.pyplot as plt\n",
        "from PIL import Image\n",
        "\n",
        "def show_img():\n",
        "  #　リストに定義\n",
        "  wheat_names = ['arvalis_1', 'arvalis_2', 'arvalis_3', 'ethz_1', 'rres_1', 'inrae_1', 'usask_1', \\\n",
        "        'utokyo_1', 'utokyo_2', 'nau_1', 'uq_1']\n",
        "\n",
        "  dir_path = '/content/datasets/GlobalWheat2020/images'\n",
        "  dir_list = os.listdir(dir_path)\n",
        "\n",
        "  #　リストの長さを足して表示枚数を確認\n",
        "  hs = len(wheat_names)*2\n",
        "\n",
        "  #　表示設定\n",
        "  col=len(wheat_names)\n",
        "  row=hs/col\n",
        "  cols=col*4\n",
        "  rows=row*4\n",
        "  dpis = 100\n",
        "\n",
        "  #　イメージの表示サイズ、解像度\n",
        "  fig = plt.figure(figsize=(cols,rows),dpi=dpis)\n",
        "  \n",
        "  #　＊＊番目に指定\n",
        "  pi=1\n",
        "\n",
        "  #　イメージ表示\n",
        "  for input_dir in dir_list:\n",
        "    if input_dir=='.DS_Store':\n",
        "      continue\n",
        "    #　1段目\n",
        "    img_path = os.path.join(dir_path, input_dir)\n",
        "    img_list = os.listdir(img_path)\n",
        "    plot_num = pi\n",
        "    ax=fig.add_subplot(row, col, plot_num)\n",
        "    ax.set_title(input_dir, fontsize=20)\n",
        "    # if plot_num == 1:\n",
        "    #   plt.ylabel(f'wheat{i}', fontsize=20) # y軸ラベル\n",
        "    img = Image.open(os.path.join(img_path, img_list[1])) # indexを変更して別の画像を表示！！\n",
        "    plt.xticks(color=\"None\")\n",
        "    plt.yticks(color=\"None\")\n",
        "    plt.tick_params(length=0)\n",
        "    plt.imshow(img, cmap='gray')\n",
        "    #　2段目\n",
        "    img_path = os.path.join(dir_path, input_dir)\n",
        "    img_list = os.listdir(img_path)\n",
        "    plot_num2 = pi+11\n",
        "    bx=fig.add_subplot(row, col, plot_num2)\n",
        "    # bx.set_title(input_dir, fontsize=20, pad=0)\n",
        "    # if plot_num2 == 11:\n",
        "    #   plt.ylabel(weed_type[1], fontsize=20) # y軸ラベル\n",
        "    img2 = Image.open(os.path.join(img_path, img_list[2]))\n",
        "    plt.xticks(color=\"None\")\n",
        "    plt.yticks(color=\"None\")\n",
        "    plt.tick_params(length=0)\n",
        "    plt.imshow(img2, cmap='gray')\n",
        "    pi = pi+1\n",
        "  fig.align_labels()\n",
        "\n",
        "show_img()"
      ]
    },
    {
      "cell_type": "markdown",
      "metadata": {
        "id": "VUOiNLtMP5aG"
      },
      "source": [
        "# Train Object Detection\n"
      ]
    },
    {
      "cell_type": "code",
      "execution_count": null,
      "metadata": {
        "id": "Din36B-ZiZ0r"
      },
      "outputs": [],
      "source": [
        "!python train.py --batch 8 --weights yolov5x.pt --data GlobalWheat2020_coco.yaml --epochs 10 --cache --img 640 --project runs/train/GlobalWheat --name demo640_data100"
      ]
    },
    {
      "cell_type": "markdown",
      "metadata": {
        "id": "bL-Tj1bytzPm"
      },
      "source": [
        "Large model(おまけ)"
      ]
    },
    {
      "cell_type": "code",
      "execution_count": null,
      "metadata": {
        "colab": {
          "background_save": true
        },
        "id": "csQcgNDYlLzS"
      },
      "outputs": [],
      "source": [
        "# !python train.py --batch 8 --weights yolov5n6.pt --data GlobalWheat2020_coco.yaml --epochs 10 --cache --img 1280 --project runs/train/GlobalWheat --name demo"
      ]
    },
    {
      "cell_type": "markdown",
      "metadata": {
        "id": "j0y3W_74wCVV"
      },
      "source": [
        "mAP @ [.5：.95]（mAP @ [.5,.95]と表示する人もいる）は、0.5から0.95までのさまざまなIoUしきい値での平均mAPを示す（0.05ごとに0.5、0.55、0.6、0.65、0.7、0.75、 0.8、0.85、0.9、0.95）。"
      ]
    },
    {
      "cell_type": "markdown",
      "metadata": {
        "id": "4JnkELT0cIJg"
      },
      "source": [
        "# 1. Inference"
      ]
    },
    {
      "cell_type": "code",
      "execution_count": null,
      "metadata": {
        "colab": {
          "background_save": true
        },
        "id": "5J5jY8gZ0hBg"
      },
      "outputs": [],
      "source": [
        "# !python detect.py --weights runs/train/GlobalWheat/demo/weights/best.pt --img 1280 --source ../datasets/GlobalWheat2020/images/usask_1 --project runs/detect/GlobalWheat --name demo"
      ]
    },
    {
      "cell_type": "code",
      "execution_count": null,
      "metadata": {
        "id": "jKI77H3w3pn8"
      },
      "outputs": [],
      "source": [
        "!python val.py --iou-thres 0.999 --weights runs/train/GlobalWheat/demo640_data100/weights/best.pt --data GlobalWheat2020_coco.yaml --task test --project runs/val/GlobalWheat --name demo640_data100"
      ]
    },
    {
      "cell_type": "markdown",
      "metadata": {
        "id": "vWuegWCOmnj-"
      },
      "source": [
        "# Perform inferencing"
      ]
    },
    {
      "cell_type": "code",
      "execution_count": null,
      "metadata": {
        "id": "qhOg3dcXCsOT"
      },
      "outputs": [],
      "source": [
        "from typing import List, Tuple\n",
        "\n",
        "import matplotlib.patches as patches\n",
        "import numpy as np\n",
        "from PIL import Image\n",
        "\n",
        "# boxをimageに表示\n",
        "def add_bboxes_to_image(ax, image: np.ndarray,\n",
        "                        bboxes: List[Tuple[int, int, int, int]],\n",
        "                        labels: List[str] = None,\n",
        "                        label_size: int = 10,\n",
        "                        line_width: int = 2,\n",
        "                        border_color=(0, 1, 0, 1),\n",
        "                        height=640,\n",
        "                        width=640) -> None:\n",
        "    \"\"\"\n",
        "    Add bbox to ax\n",
        "\n",
        "    :param image: dtype=np.uint8\n",
        "    :param bbox: [(left, top, right, bottom)]\n",
        "    :param label: List[str] or None\n",
        "    :return: ax\n",
        "    \"\"\"\n",
        "    # Display the image\n",
        "    ax.imshow(image)\n",
        "\n",
        "    if labels is None:\n",
        "        labels = [None] * len(bboxes)\n",
        "\n",
        "    for bbox, label in zip(bboxes, labels):\n",
        "        # Add bounding box\n",
        "        left, top, width_, height_ = bbox\n",
        "        rect = patches.Rectangle((left, top), width_, height_,\n",
        "                                 linewidth=line_width,\n",
        "                                 edgecolor=border_color,\n",
        "                                 facecolor='none')\n",
        "        ax.add_patch(rect)\n",
        "\n",
        "        # label\n",
        "        if label:\n",
        "            bbox_props = dict(boxstyle=\"square,pad=0\",\n",
        "                              linewidth=line_width, facecolor=border_color,\n",
        "                              edgecolor=border_color)\n",
        "            ax.text(left, top, label,\n",
        "                    ha=\"left\", va=\"bottom\", rotation=0,\n",
        "                    size=label_size, bbox=bbox_props)\n",
        "    return ax"
      ]
    },
    {
      "cell_type": "code",
      "execution_count": null,
      "metadata": {
        "id": "0jn5e73iQsLX"
      },
      "outputs": [],
      "source": [
        "import json\n",
        "\n",
        "json_file = './runs/val/GlobalWheat/demo640_data100/best_predictions.json'\n",
        "\n",
        "# read labelbox JSON output\n",
        "with open(json_file, 'r', encoding='utf-8') as f:\n",
        "    # lines = f.readlines()\n",
        "    pred_data = json.load(f)\n",
        "\n",
        "predicted_boxes_ = []\n",
        "# print('uid', datarow.uid)\n",
        "for row in pred_data:\n",
        "    if row['image_id']=='00175657-c80c-4ce1-a2d7-7d89592ee892':\n",
        "        predicted_boxes_.append(row['bbox'])\n"
      ]
    },
    {
      "cell_type": "code",
      "execution_count": null,
      "metadata": {
        "id": "71BXRmEBIuvX"
      },
      "outputs": [],
      "source": [
        "from PIL import Image\n",
        "from matplotlib import pyplot as plt\n",
        "\n",
        "image = np.array(Image.open('/content/datasets/GlobalWheat2020/images/utokyo_1/00175657-c80c-4ce1-a2d7-7d89592ee892.png'))\n",
        "print(image.shape)\n",
        "height, width = image.shape[:2]\n",
        "\n",
        "bboxes = predicted_boxes_ # [left, top, w, h]\n",
        "\n",
        "print(bboxes)\n",
        "fig, ax = plt.subplots()\n",
        "add_bboxes_to_image(ax, np.uint8(image), bboxes, height=height, width=width)\n",
        "# plt.imshow(cv2.cvtColor(img2, cv2.COLOR_BGR2RGB))"
      ]
    },
    {
      "cell_type": "markdown",
      "metadata": {
        "id": "uqARwoqcTeeG"
      },
      "source": [
        "# Evolustion(おまけ)"
      ]
    },
    {
      "cell_type": "code",
      "execution_count": null,
      "metadata": {
        "colab": {
          "background_save": true
        },
        "id": "bJwgkK2EnLdJ"
      },
      "outputs": [],
      "source": [
        "# !python train.py --batch 8 --weights yolov5n6.pt --data GlobalWheat2020_coco.yaml --epochs 10 --cache  --evolve --img 1280 --project runs/evolve/GlobalWheat2020 --name demo"
      ]
    }
  ],
  "metadata": {
    "accelerator": "GPU",
    "colab": {
      "collapsed_sections": [],
      "machine_shape": "hm",
      "name": "YOLOv5withGlovalWheat.ipynb",
      "provenance": [],
      "include_colab_link": true
    },
    "kernelspec": {
      "display_name": "Python 3",
      "name": "python3"
    }
  },
  "nbformat": 4,
  "nbformat_minor": 0
}