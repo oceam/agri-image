{
  "nbformat": 4,
  "nbformat_minor": 0,
  "metadata": {
    "colab": {
      "provenance": [],
      "include_colab_link": true
    },
    "kernelspec": {
      "name": "python3",
      "display_name": "Python 3"
    },
    "accelerator": "GPU"
  },
  "cells": [
    {
      "cell_type": "markdown",
      "metadata": {
        "id": "view-in-github",
        "colab_type": "text"
      },
      "source": [
        "<a href=\"https://colab.research.google.com/github/oceam/agri-image/blob/main/codes/Vis_weed_classification_01.ipynb\" target=\"_parent\"><img src=\"https://colab.research.google.com/assets/colab-badge.svg\" alt=\"Open In Colab\"/></a>"
      ]
    },
    {
      "cell_type": "markdown",
      "source": [
        "Visualization for weed_classification_01  \n",
        "Wei Guo\n",
        "Use [FiftyOne](https://docs.voxel51.com/)  \n",
        "2024.08.25"
      ],
      "metadata": {
        "id": "KJxJq4P9Ln0o"
      }
    },
    {
      "cell_type": "markdown",
      "metadata": {
        "id": "op_4dXNe5oEV"
      },
      "source": [
        "# About  \n",
        "  We prepared a weed dataset that include 10 species of weeds  \n",
        "\n",
        "雑草の生育期間を区別せずに分類器を作る（10種類）  \n",
        "　雑草の生育期間（芽生え・生育済み）を区別せずに分類器を作成します。 育成した雑草の種類はハキダメギク、ホソアオゲイトウ、イチビ、イヌビエ、コセンダングサ、マメアサガオ、メヒシバ、オヒシバ、オイヌタデ、シロザの10種類です"
      ]
    },
    {
      "cell_type": "markdown",
      "metadata": {
        "id": "NCQh_T0zLntu"
      },
      "source": [
        "### Download the Dataset\n",
        "データのダウンロード"
      ]
    },
    {
      "cell_type": "markdown",
      "metadata": {
        "id": "0jdbMuOmSpjy"
      },
      "source": [
        "download weeds_1.zip"
      ]
    },
    {
      "cell_type": "code",
      "metadata": {
        "id": "dkXy31etIQpT"
      },
      "source": [
        "import gdown\n",
        "# weeds_1\n",
        "url = \"https://drive.google.com/file/d/1w8UOD_vFWEzL3MYr4Gl1oF-Fiy7iklUW/view?usp=sharing\"\n",
        "output= \"weeds_1.zip\"\n",
        "gdown.download(url=url, output=output, quiet=False, fuzzy=True)"
      ],
      "execution_count": null,
      "outputs": []
    },
    {
      "cell_type": "markdown",
      "metadata": {
        "id": "fKmeWPABPKpp"
      },
      "source": [
        "weeds_1.zipを解凍します"
      ]
    },
    {
      "cell_type": "code",
      "metadata": {
        "id": "CAC7SLKpJqEl"
      },
      "source": [
        "!unzip weeds_1.zip\n",
        "print(\"unzip weeds\")"
      ],
      "execution_count": null,
      "outputs": []
    },
    {
      "cell_type": "markdown",
      "metadata": {
        "id": "PzF0mQNICl6x"
      },
      "source": [
        "### Prepare the dataset\n",
        "データセットの準備"
      ]
    },
    {
      "cell_type": "markdown",
      "metadata": {
        "id": "6gWEdpQ6tv4G"
      },
      "source": [
        "Display the images of weeds dataset  (\"sprout\", \"grown\")  \n",
        "データセットの画像を表示します（芽生え・生育済み）"
      ]
    },
    {
      "cell_type": "code",
      "metadata": {
        "id": "hp5n6m-AM6cX"
      },
      "source": [
        "import os\n",
        "import glob\n",
        "import matplotlib.pyplot as plt\n",
        "from PIL import Image\n",
        "\n",
        "def show_img():\n",
        "  #　雑草名と生育状態をリストに定義\n",
        "  # weed_names = os.listdir('weeds_1/')\n",
        "  # weed_types = os.listdir(os.path.join('weeds_1/', weed_names[0]))\n",
        "  weed_names = [\"hakidamegiku\",\"hosoaogeitou\",\"ichibi\",\"inubie\",\"kosendangusa\",\"mameasagao\",\"mehishiba\",\"ohishiba\",\"oinutade\",\"shiroza\"]\n",
        "  weed_types = [\"sprout\", \"grown\"]\n",
        "\n",
        "  #　データ格納フォルダを指定\n",
        "  input_dir = \"./weeds_1\"\n",
        "\n",
        "  #　リストの長さを足して表示枚数を確認\n",
        "  hs = len(weed_names)*len(weed_types)\n",
        "\n",
        "  #　表示設定\n",
        "  col=len(weed_names)\n",
        "  row=int(hs/col)\n",
        "  cols=col*4\n",
        "  rows=row*4\n",
        "  dpis = 100\n",
        "\n",
        "  #　イメージの表示サイズ、解像度\n",
        "  fig = plt.figure(figsize=(cols,rows),dpi=dpis)\n",
        "\n",
        "  #　＊＊番目に指定\n",
        "  pi=1\n",
        "\n",
        "  #　イメージ表示\n",
        "  for weed_name in weed_names:\n",
        "    #　1段目\n",
        "    img_path = os.path.join(input_dir, weed_name, weed_types[0])\n",
        "    img_list = os.listdir(img_path)\n",
        "    plot_num = pi\n",
        "    ax=fig.add_subplot(row, col, plot_num)\n",
        "    ax.set_title(weed_name, fontsize=20)\n",
        "    if plot_num == 1:\n",
        "      plt.ylabel(weed_types[0], fontsize=20) # y軸ラベル\n",
        "    img = Image.open(os.path.join(img_path, img_list[6])) # indexを変更して別の画像を表示！！\n",
        "    plt.xticks(color=\"None\")\n",
        "    plt.yticks(color=\"None\")\n",
        "    plt.tick_params(length=0)\n",
        "    plt.imshow(img, cmap='gray')\n",
        "  #　2段目\n",
        "    img_path = os.path.join(input_dir, weed_name, weed_types[1])\n",
        "    img_list = os.listdir(img_path)\n",
        "    plot_num2 = pi+10\n",
        "    bx=fig.add_subplot(row, col, plot_num2)\n",
        "    bx.set_title(weed_name, fontsize=20, pad=0)\n",
        "    if plot_num2 == 11:\n",
        "      plt.ylabel(weed_types[1], fontsize=20) # y軸ラベル\n",
        "    img2 = Image.open(os.path.join(img_path, img_list[2]))\n",
        "    plt.xticks(color=\"None\")\n",
        "    plt.yticks(color=\"None\")\n",
        "    plt.tick_params(length=0)\n",
        "    plt.imshow(img2, cmap='gray')\n",
        "    pi = pi+1\n",
        "  fig.align_labels()\n",
        "\n",
        "show_img()"
      ],
      "execution_count": null,
      "outputs": []
    },
    {
      "cell_type": "markdown",
      "metadata": {
        "id": "13kgHJHOTLy9"
      },
      "source": [
        "Generate the directory of train、validation、prediction  \n",
        "train、validation、prediction用のディレクトリを作成し、class用のディレクトリを追加します"
      ]
    },
    {
      "cell_type": "code",
      "source": [
        "# debug use\n",
        "# import shutil\n",
        "# shutil.rmtree('CLS/', ignore_errors=True)"
      ],
      "metadata": {
        "id": "1cN2BtNFQWvj"
      },
      "execution_count": null,
      "outputs": []
    },
    {
      "cell_type": "code",
      "metadata": {
        "id": "3zsW_yV4blgv"
      },
      "source": [
        "import os, shutil\n",
        "\n",
        "# make directory weeds_dataset\n",
        "base_dir = \"./weeds_dataset\"\n",
        "if \"weeds_dataset\" not in os.listdir(\"./\"):\n",
        "  os.mkdir(base_dir)\n",
        "else:\n",
        "  print(base_dir, \"already exists\")\n",
        "weed_names = [\"hakidamegiku\",\"hosoaogeitou\",\"ichibi\",\"inubie\",\"kosendangusa\",\"mameasagao\",\"mehishiba\",\"ohishiba\",\"oinutade\",\"shiroza\"]\n",
        "weed_types = [\"sprout\", \"grown\"]\n",
        "classes=[\"hakidamegiku\",\"hosoaogeitou\",\"ichibi\",\n",
        "         \"inubie\",\"kosendangusa\",\"mameasagao\",\n",
        "         \"mehishiba\",\"ohishiba\",\"oinutade\",\"shiroza\",]\n",
        "dirs = os.listdir(base_dir)\n",
        "for cls in classes:\n",
        "  class_dir = os.path.join(base_dir, cls)\n",
        "  if cls not in base_dir:\n",
        "    os.mkdir(class_dir)\n",
        "  else:\n",
        "    print(class_dir, \"already exists\")\n",
        "print(\"finished make directory\")"
      ],
      "execution_count": null,
      "outputs": []
    },
    {
      "cell_type": "code",
      "source": [
        "dirs = os.listdir(base_dir)\n",
        "dirs"
      ],
      "metadata": {
        "id": "q3LfY9fR8r2P"
      },
      "execution_count": null,
      "outputs": []
    },
    {
      "cell_type": "markdown",
      "metadata": {
        "id": "8CPwpwvHcAOZ"
      },
      "source": [
        "Split images to directory  \n",
        "画像をディレクトリに振り分けます"
      ]
    },
    {
      "cell_type": "code",
      "source": [
        "import numpy as np\n",
        "from os.path import join\n",
        "clsdir = \"./weeds_1\"\n",
        "base_dir = \"./weeds_dataset\"\n",
        "#weed_names = [\"hakidamegiku\",\"hosoaogeitou\",\"ichibi\",\"inubie\",\"kosendangusa\",\"mameasagao\",\"mehishiba\",\"ohishiba\",\"oinutade\",\"shiroza\"]\n",
        "#weed_types = [\"sprout\", \"grown\"]\n",
        "# rads=np.arange(0,200)\n",
        "# np.random.shuffle(rads)\n",
        "# #print(rads)\n",
        "# train_idx, val_idx,test_idx=np.split(rads, [int(.7 * len(rads)), int(.9 * len(rads))])\n",
        "for weed_name in weed_names:\n",
        "  for weed_type in weed_types:\n",
        "    file_names = os.listdir(os.path.join(clsdir, weed_name, weed_type))\n",
        "    for idx in range(len(file_names)):\n",
        "        # 移動元のファイル\n",
        "        path1 = os.path.join(clsdir, weed_name, weed_type, file_names[idx])\n",
        "        # 移動先のファイル\n",
        "        path2= os.path.join(base_dir, weed_name, file_names[idx])\n",
        "        # ファイルを移動\n",
        "        new_path = shutil.copy(path1, path2)\n",
        "        #print('copied training data')\n",
        "print('finished copy')"
      ],
      "metadata": {
        "id": "1GYvV8zaG1pT"
      },
      "execution_count": null,
      "outputs": []
    },
    {
      "cell_type": "code",
      "source": [
        "!pip install fiftyone"
      ],
      "metadata": {
        "collapsed": true,
        "id": "5kzZ8Nonxw1T"
      },
      "execution_count": null,
      "outputs": []
    },
    {
      "cell_type": "code",
      "source": [
        "import fiftyone as fo\n",
        "import fiftyone.zoo as foz"
      ],
      "metadata": {
        "id": "Mq5suGu6xwwg"
      },
      "execution_count": null,
      "outputs": []
    },
    {
      "cell_type": "code",
      "source": [
        "import fiftyone as fo\n",
        "import fiftyone.core.labels as fol\n",
        "import os\n",
        "\n",
        "dataset_dir = \"./weeds_dataset\"  # Replace with your actual dataset path\n",
        "\n",
        "# Check if the dataset name is already taken\n",
        "if fo.dataset_exists(\"classification_dataset\"):\n",
        "    # If it exists, load the existing dataset\n",
        "    dataset = fo.load_dataset(\"classification_dataset\")\n",
        "    print(\"Loaded existing dataset 'classification_dataset'\")\n",
        "else:\n",
        "    # Otherwise, create a new dataset with a unique name\n",
        "    dataset = fo.Dataset(\"classification_dataset\")\n",
        "    print(\"Created new dataset 'classification_dataset'\")\n",
        "\n",
        "for class_name in os.listdir(dataset_dir):\n",
        "    class_dir = os.path.join(dataset_dir, class_name)\n",
        "\n",
        "    if os.path.isdir(class_dir):\n",
        "        for img_file in os.listdir(class_dir):\n",
        "            img_path = os.path.join(class_dir, img_file)\n",
        "\n",
        "            # Create a sample with the image path and the classification label\n",
        "            sample = fo.Sample(filepath=img_path)\n",
        "            sample[\"ground_truth\"] = fol.Classification(label=class_name)\n",
        "\n",
        "            # Add the sample to the dataset\n",
        "            dataset.add_sample(sample)\n",
        "print(\"dataset prepared\")"
      ],
      "metadata": {
        "id": "k2blRHAAxwiE"
      },
      "execution_count": null,
      "outputs": []
    },
    {
      "cell_type": "code",
      "source": [
        "session = fo.launch_app(dataset)\n"
      ],
      "metadata": {
        "id": "aAOUGhEjxwZZ"
      },
      "execution_count": null,
      "outputs": []
    },
    {
      "cell_type": "code",
      "source": [
        "print(dataset)\n"
      ],
      "metadata": {
        "id": "bXwirZvbBQOb"
      },
      "execution_count": null,
      "outputs": []
    },
    {
      "cell_type": "code",
      "source": [
        "clip = foz.load_zoo_model(\"clip-vit-base32-torch\")\n",
        "## compute and store clip embeddings\n",
        "dataset.compute_embeddings(\n",
        "    clip,\n",
        "    embeddings_field=\"clip_embeddings\"\n",
        ")"
      ],
      "metadata": {
        "id": "va0JzW22A9xa"
      },
      "execution_count": null,
      "outputs": []
    },
    {
      "cell_type": "code",
      "source": [
        "## UMAP with CLIP embeddings\n",
        "fob.compute_visualization(\n",
        "    dataset,\n",
        "    embeddings=\"clip_embeddings\",\n",
        "    method=\"umap\",\n",
        "    brain_key=\"clip_umap\"\n",
        ")\n",
        "\n",
        "session = fo.launch_app(dataset)"
      ],
      "metadata": {
        "id": "t0gxOmPbA9uU"
      },
      "execution_count": null,
      "outputs": []
    },
    {
      "cell_type": "code",
      "source": [],
      "metadata": {
        "id": "SYku8tyrA9rZ"
      },
      "execution_count": null,
      "outputs": []
    }
  ]
}